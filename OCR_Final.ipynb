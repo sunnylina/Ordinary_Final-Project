{
  "nbformat": 4,
  "nbformat_minor": 0,
  "metadata": {
    "colab": {
      "provenance": [],
      "collapsed_sections": [
        "L8AWQSnjLXH5"
      ]
    },
    "kernelspec": {
      "name": "python3",
      "display_name": "Python 3"
    },
    "language_info": {
      "name": "python"
    }
  },
  "cells": [
    {
      "cell_type": "markdown",
      "source": [
        "# OCR\n",
        "## OCR 인식률을 최대화시키기 위한 방법\n",
        "\n",
        "1. 이미지 선명하게 하기 >> image_sharp\n",
        "2. 이미지 이진화 처리하기  >>  image_binarized\n",
        "3. 위의 1, 2를 진행한 사진 위에 labeling 진행\n",
        "4. labeling된 좌표 값을 중심으로 crop\n",
        "5. crop한 사진을 이미지 전처리의 최종본으로서 사용\n",
        "6. ocr 인식"
      ],
      "metadata": {
        "id": "YPySFx7_JzW4"
      }
    },
    {
      "cell_type": "markdown",
      "source": [
        "# 1. 필요한 모듈 및 라이브러리 설치"
      ],
      "metadata": {
        "id": "L8AWQSnjLXH5"
      }
    },
    {
      "cell_type": "code",
      "execution_count": 1,
      "metadata": {
        "colab": {
          "base_uri": "https://localhost:8080/"
        },
        "id": "MftM2XgEJYcX",
        "outputId": "aac27afb-24d4-4091-acbb-1469c272918e"
      },
      "outputs": [
        {
          "output_type": "stream",
          "name": "stdout",
          "text": [
            "Looking in indexes: https://pypi.org/simple, https://us-python.pkg.dev/colab-wheels/public/simple/\n",
            "Requirement already satisfied: google in /usr/local/lib/python3.7/dist-packages (2.0.3)\n",
            "Requirement already satisfied: beautifulsoup4 in /usr/local/lib/python3.7/dist-packages (from google) (4.6.3)\n"
          ]
        }
      ],
      "source": [
        "pip install google"
      ]
    },
    {
      "cell_type": "code",
      "source": [
        "pip install cloud"
      ],
      "metadata": {
        "colab": {
          "base_uri": "https://localhost:8080/"
        },
        "id": "MpfFLdcZLf7I",
        "outputId": "fc64a830-60eb-469c-e080-e122fbeed8e5"
      },
      "execution_count": 2,
      "outputs": [
        {
          "output_type": "stream",
          "name": "stdout",
          "text": [
            "Looking in indexes: https://pypi.org/simple, https://us-python.pkg.dev/colab-wheels/public/simple/\n",
            "Collecting cloud\n",
            "  Using cached cloud-2.8.5.tar.gz (247 kB)\n",
            "\u001b[33mWARNING: Discarding https://files.pythonhosted.org/packages/a9/f7/bcc7fec63ca0ddedf4e2a7f04c3261ff668ea2e580962a743de3a4569771/cloud-2.8.5.tar.gz#sha256=bc58782cd8b3321cfce4e7af56115f25c4cff5c6a822f26eeb44d90e83c849a9 (from https://pypi.org/simple/cloud/). Command errored out with exit status 1: python setup.py egg_info Check the logs for full command output.\u001b[0m\n",
            "  Using cached cloud-2.8.4.tar.gz (247 kB)\n",
            "\u001b[33mWARNING: Discarding https://files.pythonhosted.org/packages/c9/e4/b75916a95b3e3dab2521f337ff535d9542f81ad64cdd119366150468ca3f/cloud-2.8.4.tar.gz#sha256=68d84560d1dfb89ac733d438f1ef87845da080dd57becd0a1a13cd7156fc6178 (from https://pypi.org/simple/cloud/). Command errored out with exit status 1: python setup.py egg_info Check the logs for full command output.\u001b[0m\n",
            "  Using cached cloud-2.8.3.tar.gz (243 kB)\n",
            "\u001b[33mWARNING: Discarding https://files.pythonhosted.org/packages/26/ec/7da07d6be6f96252061d3599a79346781c5ce29f5af047a9801f46038bd1/cloud-2.8.3.tar.gz#sha256=4cf3fde2609df6b4528fd355f325b0405b7a46f250b1354f4fd44801613516ae (from https://pypi.org/simple/cloud/). Command errored out with exit status 1: python setup.py egg_info Check the logs for full command output.\u001b[0m\n",
            "  Using cached cloud-2.8.2.tar.gz (243 kB)\n",
            "\u001b[33mWARNING: Discarding https://files.pythonhosted.org/packages/4c/11/0d4b567698376f3698dcb559d09d911e99513d94d4dd54b1c2b90d32f6bf/cloud-2.8.2.tar.gz#sha256=c9eb374349e6efdbad5d789765c51720360ded02c9e9bb4c01a333625f44f936 (from https://pypi.org/simple/cloud/). Command errored out with exit status 1: python setup.py egg_info Check the logs for full command output.\u001b[0m\n",
            "  Using cached cloud-2.8.1.tar.gz (242 kB)\n",
            "\u001b[33mWARNING: Discarding https://files.pythonhosted.org/packages/09/57/490b8baf8bfb7e6b796d92e83be1697c1f5ba897ac3b472be77832298fdf/cloud-2.8.1.tar.gz#sha256=c13a6e709e604cf170d1ece10370ecb4985ae2ff0bf87dbe22a06f8942d7d773 (from https://pypi.org/simple/cloud/). Command errored out with exit status 1: python setup.py egg_info Check the logs for full command output.\u001b[0m\n",
            "  Using cached cloud-2.8.0.tar.gz (241 kB)\n",
            "\u001b[33mWARNING: Discarding https://files.pythonhosted.org/packages/2d/d4/0f6848456927bafa3d72420e655590a3d27f21a6204571d91cb7b442fc1f/cloud-2.8.0.tar.gz#sha256=53fd6240235030601b97a17bd3adc23b70c999bd476f41a4ba7307bf39011770 (from https://pypi.org/simple/cloud/). Command errored out with exit status 1: python setup.py egg_info Check the logs for full command output.\u001b[0m\n",
            "  Using cached cloud-2.7.9.tar.gz (239 kB)\n",
            "\u001b[33mWARNING: Discarding https://files.pythonhosted.org/packages/b2/57/bd4579bf2328ce1459583d6c97c9c5ca0feb2bc65b0f0b9ec077eed417fa/cloud-2.7.9.tar.gz#sha256=0c85a25a4617e6921a23089daf65b9525fd6f807f25353dde97aa5898b8d5c24 (from https://pypi.org/simple/cloud/). Command errored out with exit status 1: python setup.py egg_info Check the logs for full command output.\u001b[0m\n",
            "  Using cached cloud-2.7.8.tar.gz (239 kB)\n",
            "\u001b[33mWARNING: Discarding https://files.pythonhosted.org/packages/9b/b7/11b0f18c379565b076ca81d091111ece1f5764bc8a917e770bbd48ee8e1a/cloud-2.7.8.tar.gz#sha256=18b809b41282a0041c675fb81a2f4c5bd29d2a2fb1bb54450e8ae0c55df86043 (from https://pypi.org/simple/cloud/). Command errored out with exit status 1: python setup.py egg_info Check the logs for full command output.\u001b[0m\n",
            "  Using cached cloud-2.7.7.tar.gz (237 kB)\n",
            "\u001b[33mWARNING: Discarding https://files.pythonhosted.org/packages/75/4d/db916610100f3892853e921dbe581a78688ece9c2790f15e43bc551c28eb/cloud-2.7.7.tar.gz#sha256=5f9ab921c334e253c6b83aa2815b12e8c38781fc8b49043f0a875ae080cb2b64 (from https://pypi.org/simple/cloud/). Command errored out with exit status 1: python setup.py egg_info Check the logs for full command output.\u001b[0m\n",
            "  Using cached cloud-2.7.6.tar.gz (234 kB)\n",
            "\u001b[33mWARNING: Discarding https://files.pythonhosted.org/packages/09/1e/2e62c44a169aaa100c9eb6f9c3afe4bfb50c596254d67978de637e05d561/cloud-2.7.6.tar.gz#sha256=29ee289c9f0b741d489a6f629ee66561880d862db6ec2542e223465c65432ec9 (from https://pypi.org/simple/cloud/). Command errored out with exit status 1: python setup.py egg_info Check the logs for full command output.\u001b[0m\n",
            "  Using cached cloud-2.7.5.tar.gz (233 kB)\n",
            "\u001b[33mWARNING: Discarding https://files.pythonhosted.org/packages/7e/33/f0494fca2a447a7636c38361c78e6ebe22054cce6853ae02ce032f1850a3/cloud-2.7.5.tar.gz#sha256=014c43ce799b9d865b80b9cf0a6d4ee59160c9f001f62408377a2f89804d5a78 (from https://pypi.org/simple/cloud/). Command errored out with exit status 1: python setup.py egg_info Check the logs for full command output.\u001b[0m\n",
            "  Using cached cloud-2.7.4.tar.gz (232 kB)\n",
            "\u001b[33mWARNING: Discarding https://files.pythonhosted.org/packages/c6/66/ac9a3a6fbe65af0f0bddb4f6a0bba19566e9679e8892e84a2fdfc11c9381/cloud-2.7.4.tar.gz#sha256=43e9ee373e4c2cc5e7add94935d87876d4f23fbacbb444aea5cbc73b033220e0 (from https://pypi.org/simple/cloud/). Command errored out with exit status 1: python setup.py egg_info Check the logs for full command output.\u001b[0m\n",
            "  Using cached cloud-2.7.3.tar.gz (227 kB)\n",
            "\u001b[33mWARNING: Discarding https://files.pythonhosted.org/packages/88/66/3f245f1c59c672e4dd87440cbaf7ce0f64bc98f4c9eeb1d4a83d3ca449dc/cloud-2.7.3.tar.gz#sha256=c971f042e35dbb00808e57d3114d74847fa7e8465f1405cbb3a1e443599b2ee8 (from https://pypi.org/simple/cloud/). Command errored out with exit status 1: python setup.py egg_info Check the logs for full command output.\u001b[0m\n",
            "  Using cached cloud-2.7.2.tar.gz (226 kB)\n",
            "\u001b[33mWARNING: Discarding https://files.pythonhosted.org/packages/af/c7/e88fa40e013765bcc859eff9fe5fa423e6556a6192e59428afad3397948c/cloud-2.7.2.tar.gz#sha256=464f0fe89924a7edf8a233ebb9be8f6b135509663c3ac9e379f837f4d9aa54ee (from https://pypi.org/simple/cloud/). Command errored out with exit status 1: python setup.py egg_info Check the logs for full command output.\u001b[0m\n",
            "  Using cached cloud-2.7.1.tar.gz (218 kB)\n",
            "\u001b[33mWARNING: Discarding https://files.pythonhosted.org/packages/87/e5/cc716b018a53f9e2b5ee25b00a774cc4257cbe17bca98bfdeb18147a6297/cloud-2.7.1.tar.gz#sha256=430a675c3ee71d3dd06cf57fae99f58a9d7107c301a04861edb09f2853ee2dc1 (from https://pypi.org/simple/cloud/). Command errored out with exit status 1: python setup.py egg_info Check the logs for full command output.\u001b[0m\n",
            "  Using cached cloud-2.7.0.tar.gz (215 kB)\n",
            "\u001b[33mWARNING: Discarding https://files.pythonhosted.org/packages/cd/db/3ed7db6da47e0e2680817ed615266edf2de90ffed1fa303d213b68f768d7/cloud-2.7.0.tar.gz#sha256=64f0e9e57088d32c49cf1b9ce57dab9d70b997cf08e98ebac1d55d1cca38537e (from https://pypi.org/simple/cloud/). Command errored out with exit status 1: python setup.py egg_info Check the logs for full command output.\u001b[0m\n",
            "  Using cached cloud-2.6.9.tar.gz (215 kB)\n",
            "\u001b[33mWARNING: Discarding https://files.pythonhosted.org/packages/f2/7d/b4bbaabaa06ec09f4db4c7835ca418d8afbf88d5d305f331b53a21ae3a0d/cloud-2.6.9.tar.gz#sha256=4a1760d1fbbebe039e17492c143cded897d968d7e2498feada8ebf159074841b (from https://pypi.org/simple/cloud/). Command errored out with exit status 1: python setup.py egg_info Check the logs for full command output.\u001b[0m\n",
            "  Using cached cloud-2.6.8.tar.gz (215 kB)\n",
            "\u001b[33mWARNING: Discarding https://files.pythonhosted.org/packages/1e/ea/51df4876e6d7dfb1808511800045ecc76485dd79ecd40a8122b7ae606cca/cloud-2.6.8.tar.gz#sha256=53cee11aedef37c9e289caf00742ec3884f7e677219dfa6487f7221245fbc591 (from https://pypi.org/simple/cloud/). Command errored out with exit status 1: python setup.py egg_info Check the logs for full command output.\u001b[0m\n",
            "  Using cached cloud-2.6.7.tar.gz (214 kB)\n",
            "\u001b[33mWARNING: Discarding https://files.pythonhosted.org/packages/0a/f7/2271b89b0104eee59310924fabaf46570a53534168d694d1d21ca963f0ed/cloud-2.6.7.tar.gz#sha256=cd7ab589a4823c240d6211d2ad77c1133fff3274c97e2237faa176e640cc763b (from https://pypi.org/simple/cloud/). Command errored out with exit status 1: python setup.py egg_info Check the logs for full command output.\u001b[0m\n",
            "  Using cached cloud-2.6.6.tar.gz (209 kB)\n",
            "\u001b[33mWARNING: Discarding https://files.pythonhosted.org/packages/b3/de/b3582eff6026ce37fcde8f19d4881415a51a56c1e31689276e91886a8012/cloud-2.6.6.tar.gz#sha256=e42ec7976e482efbca34a40fed11db5b579124c6e0a148f3068b8f00b660cff9 (from https://pypi.org/simple/cloud/). Command errored out with exit status 1: python setup.py egg_info Check the logs for full command output.\u001b[0m\n",
            "  Using cached cloud-2.6.5.tar.gz (209 kB)\n",
            "\u001b[33mWARNING: Discarding https://files.pythonhosted.org/packages/65/a9/f00a4a253ffbb4102f0ed2925c62e4c146286f0b30fef88bc23d1e6b53a7/cloud-2.6.5.tar.gz#sha256=6684b95f3dbf34731519a0c08208c94c00c2a2d719b82d82db26644302a05400 (from https://pypi.org/simple/cloud/). Command errored out with exit status 1: python setup.py egg_info Check the logs for full command output.\u001b[0m\n",
            "  Using cached cloud-2.6.4.tar.gz (208 kB)\n",
            "\u001b[33mWARNING: Discarding https://files.pythonhosted.org/packages/5b/d8/489bdccccd9549c37fd9ffc6fe235f44869884bd337ceaf32907e5297b8b/cloud-2.6.4.tar.gz#sha256=dd5025b8001424b6546c8c97700cdf2877c09aa10f9290fbce05473111546a0f (from https://pypi.org/simple/cloud/). Command errored out with exit status 1: python setup.py egg_info Check the logs for full command output.\u001b[0m\n",
            "  Using cached cloud-2.6.3.tar.gz (208 kB)\n",
            "\u001b[33mWARNING: Discarding https://files.pythonhosted.org/packages/6d/0e/50871fa66939610669a00ee2128aa15d8f69b60c74d0bd2946385b3e5f60/cloud-2.6.3.tar.gz#sha256=d55d6aacf615695523e1e9b57b6b8b286c6561b6f71c9334e58a2e5847ee18c7 (from https://pypi.org/simple/cloud/). Command errored out with exit status 1: python setup.py egg_info Check the logs for full command output.\u001b[0m\n",
            "  Using cached cloud-2.6.0.tar.gz (207 kB)\n",
            "\u001b[33mWARNING: Discarding https://files.pythonhosted.org/packages/14/85/5f260631c3b37486b39c651061c359d9a339196d1fd927de945048303c2c/cloud-2.6.0.tar.gz#sha256=c96fe3084f69192c9f6f0b318e959d8baaa05792e110b662f3055787fea3a3c8 (from https://pypi.org/simple/cloud/). Command errored out with exit status 1: python setup.py egg_info Check the logs for full command output.\u001b[0m\n",
            "  Using cached cloud-2.5.9.tar.gz (204 kB)\n",
            "\u001b[33mWARNING: Discarding https://files.pythonhosted.org/packages/f7/e6/701b6331fa3428d1a5a893a1790c6b9e1a85dbbd097d4f302ea92f87ac94/cloud-2.5.9.tar.gz#sha256=ce8da37c31c99d9ad6af94a123333b27416e429e3353b6876ec0b44427b3459a (from https://pypi.org/simple/cloud/). Command errored out with exit status 1: python setup.py egg_info Check the logs for full command output.\u001b[0m\n",
            "  Using cached cloud-2.5.8.tar.gz (204 kB)\n",
            "\u001b[33mWARNING: Discarding https://files.pythonhosted.org/packages/de/f3/c352ca97510d801b91fc283e670dfe2d3d938c7728336b098254c9655eee/cloud-2.5.8.tar.gz#sha256=bc05db7afd1bf2348755864374684ef8bc2428df60d03d0ec8ca34b930f20f34 (from https://pypi.org/simple/cloud/). Command errored out with exit status 1: python setup.py egg_info Check the logs for full command output.\u001b[0m\n",
            "  Using cached cloud-2.5.7.tar.gz (201 kB)\n",
            "\u001b[33mWARNING: Discarding https://files.pythonhosted.org/packages/26/41/a7902aaa83a4318033941e47e4926a2143b17007151e2581245d999744b0/cloud-2.5.7.tar.gz#sha256=a5e1b3dbea8a32a76408f4930b860672612f8bea568fd16a0454ef72aea9b445 (from https://pypi.org/simple/cloud/). Command errored out with exit status 1: python setup.py egg_info Check the logs for full command output.\u001b[0m\n",
            "  Using cached cloud-2.5.6.tar.gz (201 kB)\n",
            "\u001b[33mWARNING: Discarding https://files.pythonhosted.org/packages/3b/74/5840fabd083ab5e8a054a14b2c2bb414aeeeed52ae4edd12bfaca4fe3417/cloud-2.5.6.tar.gz#sha256=a735cb21103b53daec2be995ffd887ce70fdb6a29125b7710d13f4270b49c185 (from https://pypi.org/simple/cloud/). Command errored out with exit status 1: python setup.py egg_info Check the logs for full command output.\u001b[0m\n",
            "  Using cached cloud-2.5.5.tar.gz (1.9 MB)\n",
            "\u001b[33mWARNING: Discarding https://files.pythonhosted.org/packages/ab/47/33290b65a58918f602d0ce7b8d83e3a40bdd3a4d0f20ba27d12910704b3a/cloud-2.5.5.tar.gz#sha256=f2491f510a408e8edf458dbe9405dc87d159ea379715a2857bf5407d322b05d6 (from https://pypi.org/simple/cloud/). Command errored out with exit status 1: python setup.py egg_info Check the logs for full command output.\u001b[0m\n",
            "  Using cached cloud-2.5.4.tar.gz (594 kB)\n",
            "\u001b[33mWARNING: Discarding https://files.pythonhosted.org/packages/0f/d5/0de50fecf5822d9382990d3fddd0abc9018f72bf16997e4cf15162fbf126/cloud-2.5.4.tar.gz#sha256=37351287e5cd3645556b9d6492d2e75c7be4c3cbb9378ef4824471334572d4a6 (from https://pypi.org/simple/cloud/). Command errored out with exit status 1: python setup.py egg_info Check the logs for full command output.\u001b[0m\n",
            "  Using cached cloud-2.5.3.tar.gz (270 kB)\n",
            "\u001b[33mWARNING: Discarding https://files.pythonhosted.org/packages/f2/85/169557b893e1748a169b3bbaabd1157fe15be25714c6db22bec72fb03ff6/cloud-2.5.3.tar.gz#sha256=07ab1871c15fffcd9b84571afba9ef685f616a5a95ee46c770b5dab0ee7da3aa (from https://pypi.org/simple/cloud/). Command errored out with exit status 1: python setup.py egg_info Check the logs for full command output.\u001b[0m\n",
            "  Using cached cloud-2.5.2.tar.gz (3.0 MB)\n",
            "\u001b[33mWARNING: Discarding https://files.pythonhosted.org/packages/5a/d2/c1aa2bef526740212f5adf093006a7caed6a9b027b5fb6c213ab35ecf530/cloud-2.5.2.tar.gz#sha256=18cdbe8a80c0c0a35f5c1c067cb888d686358a468ed03b733e82438964247f99 (from https://pypi.org/simple/cloud/). Command errored out with exit status 1: python setup.py egg_info Check the logs for full command output.\u001b[0m\n",
            "  Using cached cloud-2.5.1.tar.gz (862 kB)\n",
            "\u001b[33mWARNING: Discarding https://files.pythonhosted.org/packages/2d/01/c5f3e33269e867d445f4dec46fd6a5a664f03fe29b05c98956ddc66bd33e/cloud-2.5.1.tar.gz#sha256=0b20505668794ecad7595654f2deea5df790b8fd20d21d326951f86b50c0dfae (from https://pypi.org/simple/cloud/). Command errored out with exit status 1: python setup.py egg_info Check the logs for full command output.\u001b[0m\n",
            "  Using cached cloud-2.5.0.tar.gz (338 kB)\n",
            "\u001b[33mWARNING: Discarding https://files.pythonhosted.org/packages/a4/d8/2ff4d16181563e7792908aff2058a3617f4957282f36f8256d753056ffeb/cloud-2.5.0.tar.gz#sha256=8b5bbc9b3be47bab9853623943153eba58271e0aa8fcd4a46eadfacf5cf8be79 (from https://pypi.org/simple/cloud/). Command errored out with exit status 1: python setup.py egg_info Check the logs for full command output.\u001b[0m\n",
            "  Using cached cloud-2.4.6.tar.gz (177 kB)\n",
            "\u001b[33mWARNING: Discarding https://files.pythonhosted.org/packages/73/60/8d34360b5be0c05ca96c35821c0f28b676577e85c9d4201c0de7638108db/cloud-2.4.6.tar.gz#sha256=eddfb46cad1c4ee9355ec93841ddf3544812c9825bd697a1e444a5e1f24ee670 (from https://pypi.org/simple/cloud/). Command errored out with exit status 1: python setup.py egg_info Check the logs for full command output.\u001b[0m\n",
            "  Using cached cloud-2.4.5.tar.gz (176 kB)\n",
            "\u001b[33mWARNING: Discarding https://files.pythonhosted.org/packages/f0/47/42fc0ee31e7cf63bfecff775068085764675a7dc03320d856096df7e4b4f/cloud-2.4.5.tar.gz#sha256=f35de3f4a22810ae9f136b8edc2d796ebf7c76ad8ff372bd5d9c17342ef06064 (from https://pypi.org/simple/cloud/). Command errored out with exit status 1: python setup.py egg_info Check the logs for full command output.\u001b[0m\n",
            "  Using cached cloud-2.4.4.tar.gz (175 kB)\n",
            "\u001b[33mWARNING: Discarding https://files.pythonhosted.org/packages/6f/40/bd8827a0e41a360ee9d7b01b2a0dd898e09a3ba5d161eb66c370e1227f73/cloud-2.4.4.tar.gz#sha256=53af8711d37e2f10d03130e9c9832db5ceb8d670eb6e2fe34eae479d8fed34a9 (from https://pypi.org/simple/cloud/). Command errored out with exit status 1: python setup.py egg_info Check the logs for full command output.\u001b[0m\n",
            "  Using cached cloud-2.4.3.tar.gz (174 kB)\n",
            "\u001b[33mWARNING: Discarding https://files.pythonhosted.org/packages/21/99/7d68987d12314fc30a081517ab4ca02752c85d28372a33e902601d74b6a5/cloud-2.4.3.tar.gz#sha256=3825aa1f7371defefa57682539e8ba7ba534a6a588bd779aa99325e45b2e1e2a (from https://pypi.org/simple/cloud/). Command errored out with exit status 1: python setup.py egg_info Check the logs for full command output.\u001b[0m\n",
            "  Using cached cloud-2.4.2.tar.gz (174 kB)\n",
            "\u001b[33mWARNING: Discarding https://files.pythonhosted.org/packages/14/26/3c54fbc18530d2493a5315f924822284b1f0b063d25f77adcd5bc860a05c/cloud-2.4.2.tar.gz#sha256=9fb3d7344d0ef114024e1cb0704a6fda8fe91daa3c09e984a60f372f9b5cc567 (from https://pypi.org/simple/cloud/). Command errored out with exit status 1: python setup.py egg_info Check the logs for full command output.\u001b[0m\n",
            "  Using cached cloud-2.4.1.tar.gz (257 kB)\n",
            "\u001b[33mWARNING: Discarding https://files.pythonhosted.org/packages/d9/70/700a6e19d74bcfdc40408b2516eb521d17d15e55529b265b9e3415d93604/cloud-2.4.1.tar.gz#sha256=10c11e273a5a5b08baca3b6f9f23f71c30a3a02260fc0f929dfd32e8acb0b56f (from https://pypi.org/simple/cloud/). Command errored out with exit status 1: python setup.py egg_info Check the logs for full command output.\u001b[0m\n",
            "  Using cached cloud-2.4.0.tar.gz (202 kB)\n",
            "\u001b[33mWARNING: Discarding https://files.pythonhosted.org/packages/04/d9/f22c876fb0cb857651da9670db206e7a9b91323daee70a6698407d32c577/cloud-2.4.0.tar.gz#sha256=e726c87aa84ed0288b8419ef3c64fefca75e0bee6536143bcbf13101883b10fc (from https://pypi.org/simple/cloud/). Command errored out with exit status 1: python setup.py egg_info Check the logs for full command output.\u001b[0m\n",
            "  Using cached cloud-2.3.9.tar.gz (169 kB)\n",
            "\u001b[33mWARNING: Discarding https://files.pythonhosted.org/packages/77/0a/e9adcaec12e5ad64be5dac725a60c509e8494f3245a44f9068a377eb23b6/cloud-2.3.9.tar.gz#sha256=e7442393fa30862798813ecf4a2099bce1fb33a276ac57da4ddaa09e4c5ba874 (from https://pypi.org/simple/cloud/). Command errored out with exit status 1: python setup.py egg_info Check the logs for full command output.\u001b[0m\n",
            "  Using cached cloud-2.3.8.tar.gz (168 kB)\n",
            "\u001b[33mWARNING: Discarding https://files.pythonhosted.org/packages/0b/7f/2adce87076f534366eb2b916945cf8655d2f1a5816939d7a7e2376413098/cloud-2.3.8.tar.gz#sha256=10b0d8d307c1f7cbb7edfa2cfb97d9b0f84ea845fbf1613c0fa57baf6473a923 (from https://pypi.org/simple/cloud/). Command errored out with exit status 1: python setup.py egg_info Check the logs for full command output.\u001b[0m\n",
            "  Using cached cloud-2.3.7.tar.gz (168 kB)\n",
            "\u001b[33mWARNING: Discarding https://files.pythonhosted.org/packages/0b/7f/c8279d69159eb1a01ef02673df21a9b3204c74568baa6e71e0151caa3d14/cloud-2.3.7.tar.gz#sha256=9a14d43e60a655bc905d896abd98ae348f0b843b4f7885f5c92d83c5603a3202 (from https://pypi.org/simple/cloud/). Command errored out with exit status 1: python setup.py egg_info Check the logs for full command output.\u001b[0m\n",
            "  Using cached cloud-2.3.6.tar.gz (168 kB)\n",
            "\u001b[33mWARNING: Discarding https://files.pythonhosted.org/packages/6b/72/5ebadcc77582ad5214b61eed484a2fe589b168a0cfeb33f998183b18796c/cloud-2.3.6.tar.gz#sha256=e44d86d0c42d496f33f91f1ef8b276ac8869e83f64e44423f3defa61baffc2ef (from https://pypi.org/simple/cloud/). Command errored out with exit status 1: python setup.py egg_info Check the logs for full command output.\u001b[0m\n",
            "  Using cached cloud-2.3.5.tar.gz (167 kB)\n",
            "\u001b[33mWARNING: Discarding https://files.pythonhosted.org/packages/49/4a/baf3b1df7ee35a0a5e0a4956362849772cffc2a50e82d0a9d910755e1e8e/cloud-2.3.5.tar.gz#sha256=8b2ec5ce15905ce548a297e32b58da76041a4186c704b7143dca027937cad953 (from https://pypi.org/simple/cloud/). Command errored out with exit status 1: python setup.py egg_info Check the logs for full command output.\u001b[0m\n",
            "  Using cached cloud-2.3.4.tar.gz (167 kB)\n",
            "\u001b[33mWARNING: Discarding https://files.pythonhosted.org/packages/72/df/e47150f758a7ec6c64e715def69b3571eeb71abcee747c025d513c171460/cloud-2.3.4.tar.gz#sha256=5e52257ccc3aa718a155f75d56d9752b49df5aca9549188eac933f244b431fc4 (from https://pypi.org/simple/cloud/). Command errored out with exit status 1: python setup.py egg_info Check the logs for full command output.\u001b[0m\n",
            "  Using cached cloud-2.3.3.tar.gz (166 kB)\n",
            "\u001b[33mWARNING: Discarding https://files.pythonhosted.org/packages/aa/7a/cee14db31e17d3f65124a55cde5ae5199bded358dc662c3b6500abfe8bf2/cloud-2.3.3.tar.gz#sha256=e9379b4a17bc38b790731dac3389b17c4bbf9828272e80251151dd0f9afdd869 (from https://pypi.org/simple/cloud/). Command errored out with exit status 1: python setup.py egg_info Check the logs for full command output.\u001b[0m\n",
            "  Using cached cloud-2.3.2.tar.gz (128 kB)\n",
            "\u001b[33mWARNING: Discarding https://files.pythonhosted.org/packages/f9/3f/55a99d3a93353f0fbfcd0ea64c34c66a2450dbb72fdd2f83bf3f174bd42f/cloud-2.3.2.tar.gz#sha256=78a76f3ea400b682e2238aa8f04990ac122fa01907439b84da7ffeb033f498ad (from https://pypi.org/simple/cloud/). Command errored out with exit status 1: python setup.py egg_info Check the logs for full command output.\u001b[0m\n",
            "  Using cached cloud-2.3.1.tar.gz (127 kB)\n",
            "\u001b[33mWARNING: Discarding https://files.pythonhosted.org/packages/64/66/8c825e46e59409b3e0caac36f021510c1ddad49f0815d0d0f2ed522d7c44/cloud-2.3.1.tar.gz#sha256=ad9df466f2caeb600aff946154213b81f19a2058388b1eb5d5b9ac77e290566d (from https://pypi.org/simple/cloud/). Command errored out with exit status 1: python setup.py egg_info Check the logs for full command output.\u001b[0m\n",
            "  Using cached cloud-2.3.0.tar.gz (126 kB)\n",
            "\u001b[33mWARNING: Discarding https://files.pythonhosted.org/packages/aa/7d/203528643cd002e9633768bbc5bf636c453ccdebe011a21f2a7295b8c6b9/cloud-2.3.0.tar.gz#sha256=cdcd1f8704928abf1928d17143528cc7516726f00552b3d2f517c896362cbc4f (from https://pypi.org/simple/cloud/). Command errored out with exit status 1: python setup.py egg_info Check the logs for full command output.\u001b[0m\n",
            "  Using cached cloud-2.2.4.tar.gz (125 kB)\n",
            "\u001b[33mWARNING: Discarding https://files.pythonhosted.org/packages/ea/7e/54b84549ebf127698a3b3569ca18ce8116c8286bc79994da0d73ccbe30e8/cloud-2.2.4.tar.gz#sha256=21d4d19ffe5918bea28f220bb7d90a4a0dda7e57404a267d49d7db773bfe0388 (from https://pypi.org/simple/cloud/). Command errored out with exit status 1: python setup.py egg_info Check the logs for full command output.\u001b[0m\n",
            "  Using cached cloud-2.2.2.tar.gz (123 kB)\n",
            "\u001b[33mWARNING: Discarding https://files.pythonhosted.org/packages/15/3c/e129487a02e66b00bd99a912ad2def953e764bea2da43a6dce373b8ebc56/cloud-2.2.2.tar.gz#sha256=b513fcfe84442cfd29b480eddf51d9ada3d05a568dd14e058223933ddd7d9e3c (from https://pypi.org/simple/cloud/). Command errored out with exit status 1: python setup.py egg_info Check the logs for full command output.\u001b[0m\n",
            "  Using cached cloud-2.2.0.tar.gz (123 kB)\n",
            "\u001b[33mWARNING: Discarding https://files.pythonhosted.org/packages/ef/33/76c900aba973d9c9dc42b298483e483e8d9b883e99e863983d159fc4677c/cloud-2.2.0.tar.gz#sha256=8fa5917722693c8c4139dc63dc6d0db901819743f02d46a62fb7466d876b148c (from https://pypi.org/simple/cloud/). Command errored out with exit status 1: python setup.py egg_info Check the logs for full command output.\u001b[0m\n",
            "  Using cached cloud-2.1.6.tar.gz (155 kB)\n",
            "\u001b[33mWARNING: Discarding https://files.pythonhosted.org/packages/c6/21/e05df281296cc91164b8a8faa97da400cfc0463e61978b43409d7b6892f7/cloud-2.1.6.tar.gz#sha256=3a521fc81c995e61ab7a881093e097763db8fe638ba911d7146a04e4d5e1be86 (from https://pypi.org/simple/cloud/). Command errored out with exit status 1: python setup.py egg_info Check the logs for full command output.\u001b[0m\n",
            "  Using cached cloud-2.1.5.tar.gz (155 kB)\n",
            "\u001b[33mWARNING: Discarding https://files.pythonhosted.org/packages/10/29/81a7146f3f3a4d8c7b4b86f40b7fed8cdd15b8cc9219f6aae2d467d2da7d/cloud-2.1.5.tar.gz#sha256=9ae6f524413f88d27eec1d453f89d54139b9cb35d49fddead2ef026bfaa9b2e3 (from https://pypi.org/simple/cloud/). Command errored out with exit status 1: python setup.py egg_info Check the logs for full command output.\u001b[0m\n",
            "  Using cached cloud-2.1.4.tar.gz (155 kB)\n",
            "\u001b[33mWARNING: Discarding https://files.pythonhosted.org/packages/35/af/8e617208c554cc6a6a949ba827176fc3814d0570b4d10c374f181dcab21b/cloud-2.1.4.tar.gz#sha256=fefa2726c8cbbe9cfb6145551042762751b186b5edac5a1a50804ef3dce31220 (from https://pypi.org/simple/cloud/). Command errored out with exit status 1: python setup.py egg_info Check the logs for full command output.\u001b[0m\n",
            "  Using cached cloud-2.1.3.tar.gz (154 kB)\n",
            "\u001b[33mWARNING: Discarding https://files.pythonhosted.org/packages/86/66/29648a604077464a4c145c86d348954425e30412d6a1d10316d3c89ba20f/cloud-2.1.3.tar.gz#sha256=a4be65d6d0fe3610dd8630a40dacc172704a77e27b80a50cba51d83290c20310 (from https://pypi.org/simple/cloud/). Command errored out with exit status 1: python setup.py egg_info Check the logs for full command output.\u001b[0m\n",
            "  Using cached cloud-2.1.2.tar.gz (153 kB)\n",
            "\u001b[33mWARNING: Discarding https://files.pythonhosted.org/packages/9e/01/7756fba2ccff1428c87dfe39655f3312da03ec8f847aa988772ea6fb04e8/cloud-2.1.2.tar.gz#sha256=1d64575920bb49fa9262ea01f31000076c1e3fb6ca34c4ce2298fe4fef03c589 (from https://pypi.org/simple/cloud/). Command errored out with exit status 1: python setup.py egg_info Check the logs for full command output.\u001b[0m\n",
            "  Using cached cloud-2.1.1.tar.gz (152 kB)\n",
            "\u001b[33mWARNING: Discarding https://files.pythonhosted.org/packages/1d/9c/1efbf584df44e6cf75c4f744c7ea48e06ae7b44adaed79686dd04e5ba2b3/cloud-2.1.1.tar.gz#sha256=fbef3af4020c302285a1948354601d0c883e61a8f02a072f4a44da1414943eff (from https://pypi.org/simple/cloud/). Command errored out with exit status 1: python setup.py egg_info Check the logs for full command output.\u001b[0m\n",
            "  Using cached cloud-2.1.0.tar.gz (135 kB)\n",
            "\u001b[33mWARNING: Discarding https://files.pythonhosted.org/packages/ba/ef/1b00a939ea008966fa941affd4fd601c4199a868ef47dc00d5489b747a57/cloud-2.1.0.tar.gz#sha256=7f886a207edce2b0e5606adcd5ea5e04c1c58c2923de95ded644f41d0386cb3c (from https://pypi.org/simple/cloud/). Command errored out with exit status 1: python setup.py egg_info Check the logs for full command output.\u001b[0m\n",
            "  Using cached cloud-1.9.8.tar.gz (125 kB)\n",
            "\u001b[33mWARNING: Discarding https://files.pythonhosted.org/packages/ac/7c/9be5868663ba734a7d6d724bc12703a40dfeea7f4d0a5df40b154c27a2f6/cloud-1.9.8.tar.gz#sha256=bb8d28320364ff2e013b7b6fd847ea056dc3be6eab92841b335afce316d649ae (from https://pypi.org/simple/cloud/). Command errored out with exit status 1: python setup.py egg_info Check the logs for full command output.\u001b[0m\n",
            "  Using cached cloud-1.9.7.tar.gz (124 kB)\n",
            "\u001b[33mWARNING: Discarding https://files.pythonhosted.org/packages/26/8d/62843bfa05499c78f391ea375d0d6d9274dc14e4faf3cce7e44d41298e18/cloud-1.9.7.tar.gz#sha256=af93a3ddbbbb3caec2790c35c20b49383bc25b453752728bb1edc954544d0989 (from https://pypi.org/simple/cloud/). Command errored out with exit status 1: python setup.py egg_info Check the logs for full command output.\u001b[0m\n",
            "\u001b[31mERROR: Could not find a version that satisfies the requirement cloud (from versions: 1.9.7, 1.9.8, 2.1.0, 2.1.1, 2.1.2, 2.1.3, 2.1.4, 2.1.5, 2.1.6, 2.2.0, 2.2.2, 2.2.4, 2.3.0, 2.3.1, 2.3.2, 2.3.3, 2.3.4, 2.3.5, 2.3.6, 2.3.7, 2.3.8, 2.3.9, 2.4.0, 2.4.1, 2.4.2, 2.4.3, 2.4.4, 2.4.5, 2.4.6, 2.5.0, 2.5.1, 2.5.2, 2.5.3, 2.5.4, 2.5.5, 2.5.6, 2.5.7, 2.5.8, 2.5.9, 2.6.0, 2.6.3, 2.6.4, 2.6.5, 2.6.6, 2.6.7, 2.6.8, 2.6.9, 2.7.0, 2.7.1, 2.7.2, 2.7.3, 2.7.4, 2.7.5, 2.7.6, 2.7.7, 2.7.8, 2.7.9, 2.8.0, 2.8.1, 2.8.2, 2.8.3, 2.8.4, 2.8.5)\u001b[0m\n",
            "\u001b[31mERROR: No matching distribution found for cloud\u001b[0m\n"
          ]
        }
      ]
    },
    {
      "cell_type": "code",
      "source": [
        "pip install google-api-core"
      ],
      "metadata": {
        "colab": {
          "base_uri": "https://localhost:8080/"
        },
        "id": "OyGMvqlRLhuh",
        "outputId": "6bf0f4cf-1c4e-4a6b-b9d8-d122252ded9f"
      },
      "execution_count": 3,
      "outputs": [
        {
          "output_type": "stream",
          "name": "stdout",
          "text": [
            "Looking in indexes: https://pypi.org/simple, https://us-python.pkg.dev/colab-wheels/public/simple/\n",
            "Requirement already satisfied: google-api-core in /usr/local/lib/python3.7/dist-packages (2.10.1)\n",
            "Requirement already satisfied: google-auth<3.0dev,>=1.25.0 in /usr/local/lib/python3.7/dist-packages (from google-api-core) (1.35.0)\n",
            "Requirement already satisfied: googleapis-common-protos<2.0dev,>=1.56.2 in /usr/local/lib/python3.7/dist-packages (from google-api-core) (1.56.4)\n",
            "Requirement already satisfied: requests<3.0.0dev,>=2.18.0 in /usr/local/lib/python3.7/dist-packages (from google-api-core) (2.23.0)\n",
            "Requirement already satisfied: protobuf<5.0.0dev,>=3.20.1 in /usr/local/lib/python3.7/dist-packages (from google-api-core) (4.21.6)\n",
            "Requirement already satisfied: six>=1.9.0 in /usr/local/lib/python3.7/dist-packages (from google-auth<3.0dev,>=1.25.0->google-api-core) (1.15.0)\n",
            "Requirement already satisfied: setuptools>=40.3.0 in /usr/local/lib/python3.7/dist-packages (from google-auth<3.0dev,>=1.25.0->google-api-core) (57.4.0)\n",
            "Requirement already satisfied: pyasn1-modules>=0.2.1 in /usr/local/lib/python3.7/dist-packages (from google-auth<3.0dev,>=1.25.0->google-api-core) (0.2.8)\n",
            "Requirement already satisfied: cachetools<5.0,>=2.0.0 in /usr/local/lib/python3.7/dist-packages (from google-auth<3.0dev,>=1.25.0->google-api-core) (4.2.4)\n",
            "Requirement already satisfied: rsa<5,>=3.1.4 in /usr/local/lib/python3.7/dist-packages (from google-auth<3.0dev,>=1.25.0->google-api-core) (4.9)\n",
            "Requirement already satisfied: pyasn1<0.5.0,>=0.4.6 in /usr/local/lib/python3.7/dist-packages (from pyasn1-modules>=0.2.1->google-auth<3.0dev,>=1.25.0->google-api-core) (0.4.8)\n",
            "Requirement already satisfied: urllib3!=1.25.0,!=1.25.1,<1.26,>=1.21.1 in /usr/local/lib/python3.7/dist-packages (from requests<3.0.0dev,>=2.18.0->google-api-core) (1.24.3)\n",
            "Requirement already satisfied: idna<3,>=2.5 in /usr/local/lib/python3.7/dist-packages (from requests<3.0.0dev,>=2.18.0->google-api-core) (2.10)\n",
            "Requirement already satisfied: chardet<4,>=3.0.2 in /usr/local/lib/python3.7/dist-packages (from requests<3.0.0dev,>=2.18.0->google-api-core) (3.0.4)\n",
            "Requirement already satisfied: certifi>=2017.4.17 in /usr/local/lib/python3.7/dist-packages (from requests<3.0.0dev,>=2.18.0->google-api-core) (2022.6.15)\n"
          ]
        }
      ]
    },
    {
      "cell_type": "code",
      "source": [
        "pip install google-cloud-vision==0.29.0"
      ],
      "metadata": {
        "colab": {
          "base_uri": "https://localhost:8080/",
          "height": 0
        },
        "id": "ED1GVYf2Lh0B",
        "outputId": "6cb5f9ad-422e-4987-d9e9-306288188814"
      },
      "execution_count": 4,
      "outputs": [
        {
          "output_type": "stream",
          "name": "stdout",
          "text": [
            "Looking in indexes: https://pypi.org/simple, https://us-python.pkg.dev/colab-wheels/public/simple/\n",
            "Collecting google-cloud-vision==0.29.0\n",
            "  Using cached google_cloud_vision-0.29.0-py2.py3-none-any.whl (71 kB)\n",
            "Requirement already satisfied: google-auth<2.0dev,>=1.0.2 in /usr/local/lib/python3.7/dist-packages (from google-cloud-vision==0.29.0) (1.35.0)\n",
            "Requirement already satisfied: googleapis-common-protos[grpc]<2.0dev,>=1.5.2 in /usr/local/lib/python3.7/dist-packages (from google-cloud-vision==0.29.0) (1.56.4)\n",
            "Collecting google-api-core<0.2.0dev,>=0.1.0\n",
            "  Using cached google_api_core-0.1.4-py2.py3-none-any.whl (50 kB)\n",
            "Requirement already satisfied: requests<3.0dev,>=2.18.4 in /usr/local/lib/python3.7/dist-packages (from google-cloud-vision==0.29.0) (2.23.0)\n",
            "Requirement already satisfied: pytz in /usr/local/lib/python3.7/dist-packages (from google-api-core<0.2.0dev,>=0.1.0->google-cloud-vision==0.29.0) (2022.2.1)\n",
            "Requirement already satisfied: setuptools>=34.0.0 in /usr/local/lib/python3.7/dist-packages (from google-api-core<0.2.0dev,>=0.1.0->google-cloud-vision==0.29.0) (57.4.0)\n",
            "Requirement already satisfied: six>=1.10.0 in /usr/local/lib/python3.7/dist-packages (from google-api-core<0.2.0dev,>=0.1.0->google-cloud-vision==0.29.0) (1.15.0)\n",
            "Requirement already satisfied: protobuf>=3.0.0 in /usr/local/lib/python3.7/dist-packages (from google-api-core<0.2.0dev,>=0.1.0->google-cloud-vision==0.29.0) (4.21.6)\n",
            "Requirement already satisfied: cachetools<5.0,>=2.0.0 in /usr/local/lib/python3.7/dist-packages (from google-auth<2.0dev,>=1.0.2->google-cloud-vision==0.29.0) (4.2.4)\n",
            "Requirement already satisfied: pyasn1-modules>=0.2.1 in /usr/local/lib/python3.7/dist-packages (from google-auth<2.0dev,>=1.0.2->google-cloud-vision==0.29.0) (0.2.8)\n",
            "Requirement already satisfied: rsa<5,>=3.1.4 in /usr/local/lib/python3.7/dist-packages (from google-auth<2.0dev,>=1.0.2->google-cloud-vision==0.29.0) (4.9)\n",
            "Requirement already satisfied: grpcio<2.0.0dev,>=1.0.0 in /usr/local/lib/python3.7/dist-packages (from googleapis-common-protos[grpc]<2.0dev,>=1.5.2->google-cloud-vision==0.29.0) (1.49.1)\n",
            "Requirement already satisfied: pyasn1<0.5.0,>=0.4.6 in /usr/local/lib/python3.7/dist-packages (from pyasn1-modules>=0.2.1->google-auth<2.0dev,>=1.0.2->google-cloud-vision==0.29.0) (0.4.8)\n",
            "Requirement already satisfied: chardet<4,>=3.0.2 in /usr/local/lib/python3.7/dist-packages (from requests<3.0dev,>=2.18.4->google-cloud-vision==0.29.0) (3.0.4)\n",
            "Requirement already satisfied: urllib3!=1.25.0,!=1.25.1,<1.26,>=1.21.1 in /usr/local/lib/python3.7/dist-packages (from requests<3.0dev,>=2.18.4->google-cloud-vision==0.29.0) (1.24.3)\n",
            "Requirement already satisfied: certifi>=2017.4.17 in /usr/local/lib/python3.7/dist-packages (from requests<3.0dev,>=2.18.4->google-cloud-vision==0.29.0) (2022.6.15)\n",
            "Requirement already satisfied: idna<3,>=2.5 in /usr/local/lib/python3.7/dist-packages (from requests<3.0dev,>=2.18.4->google-cloud-vision==0.29.0) (2.10)\n",
            "Installing collected packages: google-api-core, google-cloud-vision\n",
            "  Attempting uninstall: google-api-core\n",
            "    Found existing installation: google-api-core 2.10.1\n",
            "    Uninstalling google-api-core-2.10.1:\n",
            "      Successfully uninstalled google-api-core-2.10.1\n",
            "  Attempting uninstall: google-cloud-vision\n",
            "    Found existing installation: google-cloud-vision 3.1.2\n",
            "    Uninstalling google-cloud-vision-3.1.2:\n",
            "      Successfully uninstalled google-cloud-vision-3.1.2\n",
            "\u001b[31mERROR: pip's dependency resolver does not currently take into account all the packages that are installed. This behaviour is the source of the following dependency conflicts.\n",
            "google-cloud-translate 1.5.0 requires google-api-core[grpc]<2.0.0dev,>=1.6.0, but you have google-api-core 0.1.4 which is incompatible.\n",
            "google-cloud-language 1.2.0 requires google-api-core[grpc]<2.0.0dev,>=1.6.0, but you have google-api-core 0.1.4 which is incompatible.\n",
            "google-cloud-firestore 1.7.0 requires google-api-core[grpc]<2.0.0dev,>=1.14.0, but you have google-api-core 0.1.4 which is incompatible.\n",
            "google-cloud-datastore 1.8.0 requires google-api-core[grpc]<2.0.0dev,>=1.6.0, but you have google-api-core 0.1.4 which is incompatible.\n",
            "google-cloud-core 1.0.3 requires google-api-core<2.0.0dev,>=1.14.0, but you have google-api-core 0.1.4 which is incompatible.\n",
            "google-cloud-bigquery-storage 1.1.2 requires google-api-core[grpc]!=2.0.*,!=2.1.*,!=2.2.*,!=2.3.0,<3.0.0dev,>=1.31.5, but you have google-api-core 0.1.4 which is incompatible.\n",
            "google-cloud-bigquery-storage 1.1.2 requires protobuf<4.0.0dev, but you have protobuf 4.21.6 which is incompatible.\n",
            "google-api-python-client 1.12.11 requires google-api-core<3dev,>=1.21.0; python_version >= \"3\", but you have google-api-core 0.1.4 which is incompatible.\n",
            "firebase-admin 4.4.0 requires google-api-core[grpc]<2.0.0dev,>=1.14.0; platform_python_implementation != \"PyPy\", but you have google-api-core 0.1.4 which is incompatible.\u001b[0m\n",
            "Successfully installed google-api-core-0.1.4 google-cloud-vision-0.29.0\n"
          ]
        },
        {
          "output_type": "display_data",
          "data": {
            "application/vnd.colab-display-data+json": {
              "pip_warning": {
                "packages": [
                  "google"
                ]
              }
            }
          },
          "metadata": {}
        }
      ]
    },
    {
      "cell_type": "code",
      "source": [
        "pip install protobuf"
      ],
      "metadata": {
        "colab": {
          "base_uri": "https://localhost:8080/"
        },
        "id": "oPN4qIAOLh2t",
        "outputId": "c6b25855-5d77-447e-f86a-27e62542d440"
      },
      "execution_count": 5,
      "outputs": [
        {
          "output_type": "stream",
          "name": "stdout",
          "text": [
            "Looking in indexes: https://pypi.org/simple, https://us-python.pkg.dev/colab-wheels/public/simple/\n",
            "Requirement already satisfied: protobuf in /usr/local/lib/python3.7/dist-packages (4.21.6)\n"
          ]
        }
      ]
    },
    {
      "cell_type": "code",
      "source": [
        "pip install <name-of-google-analytics-api-package>"
      ],
      "metadata": {
        "colab": {
          "base_uri": "https://localhost:8080/"
        },
        "id": "tcXlQ5-9Lh5S",
        "outputId": "9a61ee78-64fc-4e71-8c33-a08296eda8d9"
      },
      "execution_count": 6,
      "outputs": [
        {
          "output_type": "stream",
          "name": "stdout",
          "text": [
            "/bin/bash: -c: line 0: syntax error near unexpected token `newline'\n",
            "/bin/bash: -c: line 0: `pip install <name-of-google-analytics-api-package>'\n"
          ]
        }
      ]
    },
    {
      "cell_type": "code",
      "source": [
        "pip install protobuf==3.12.0"
      ],
      "metadata": {
        "colab": {
          "base_uri": "https://localhost:8080/",
          "height": 0
        },
        "id": "QfK56UGELh7o",
        "outputId": "84d322c7-a496-4bad-b3be-053c2f41860a"
      },
      "execution_count": 7,
      "outputs": [
        {
          "output_type": "stream",
          "name": "stdout",
          "text": [
            "Looking in indexes: https://pypi.org/simple, https://us-python.pkg.dev/colab-wheels/public/simple/\n",
            "Collecting protobuf==3.12.0\n",
            "  Using cached protobuf-3.12.0-cp37-cp37m-manylinux1_x86_64.whl (1.3 MB)\n",
            "Requirement already satisfied: six>=1.9 in /usr/local/lib/python3.7/dist-packages (from protobuf==3.12.0) (1.15.0)\n",
            "Requirement already satisfied: setuptools in /usr/local/lib/python3.7/dist-packages (from protobuf==3.12.0) (57.4.0)\n",
            "Installing collected packages: protobuf\n",
            "  Attempting uninstall: protobuf\n",
            "    Found existing installation: protobuf 4.21.6\n",
            "    Uninstalling protobuf-4.21.6:\n",
            "      Successfully uninstalled protobuf-4.21.6\n",
            "\u001b[31mERROR: pip's dependency resolver does not currently take into account all the packages that are installed. This behaviour is the source of the following dependency conflicts.\n",
            "tensorflow-metadata 1.10.0 requires protobuf<4,>=3.13, but you have protobuf 3.12.0 which is incompatible.\n",
            "tensorflow-datasets 4.6.0 requires protobuf>=3.12.2, but you have protobuf 3.12.0 which is incompatible.\n",
            "proto-plus 1.22.1 requires protobuf<5.0.0dev,>=3.19.0, but you have protobuf 3.12.0 which is incompatible.\n",
            "grpcio-status 1.49.1 requires protobuf>=4.21.3, but you have protobuf 3.12.0 which is incompatible.\n",
            "googleapis-common-protos 1.56.4 requires protobuf<5.0.0dev,>=3.15.0, but you have protobuf 3.12.0 which is incompatible.\n",
            "google-cloud-bigquery-storage 1.1.2 requires google-api-core[grpc]!=2.0.*,!=2.1.*,!=2.2.*,!=2.3.0,<3.0.0dev,>=1.31.5, but you have google-api-core 0.1.4 which is incompatible.\n",
            "firebase-admin 4.4.0 requires google-api-core[grpc]<2.0.0dev,>=1.14.0; platform_python_implementation != \"PyPy\", but you have google-api-core 0.1.4 which is incompatible.\u001b[0m\n",
            "Successfully installed protobuf-3.12.0\n"
          ]
        },
        {
          "output_type": "display_data",
          "data": {
            "application/vnd.colab-display-data+json": {
              "pip_warning": {
                "packages": [
                  "google"
                ]
              }
            }
          },
          "metadata": {}
        }
      ]
    },
    {
      "cell_type": "code",
      "source": [
        "pip install --upgrade google-cloud-vision"
      ],
      "metadata": {
        "colab": {
          "base_uri": "https://localhost:8080/",
          "height": 1000
        },
        "id": "olMrZykTLhxN",
        "outputId": "d3d32b1b-6b87-4566-abbc-1415d1de9601"
      },
      "execution_count": 8,
      "outputs": [
        {
          "output_type": "stream",
          "name": "stdout",
          "text": [
            "Looking in indexes: https://pypi.org/simple, https://us-python.pkg.dev/colab-wheels/public/simple/\n",
            "Requirement already satisfied: google-cloud-vision in /usr/local/lib/python3.7/dist-packages (0.29.0)\n",
            "Collecting google-cloud-vision\n",
            "  Using cached google_cloud_vision-3.1.2-py2.py3-none-any.whl (390 kB)\n",
            "Collecting google-api-core[grpc]!=2.0.*,!=2.1.*,!=2.2.*,!=2.3.*,!=2.4.*,!=2.5.*,!=2.6.*,!=2.7.*,<3.0.0dev,>=1.32.0\n",
            "  Using cached google_api_core-2.10.1-py3-none-any.whl (115 kB)\n",
            "Collecting protobuf<5.0.0dev,>=3.19.0\n",
            "  Using cached protobuf-4.21.6-cp37-abi3-manylinux2014_x86_64.whl (408 kB)\n",
            "Requirement already satisfied: proto-plus<2.0.0dev,>=1.22.0 in /usr/local/lib/python3.7/dist-packages (from google-cloud-vision) (1.22.1)\n",
            "Requirement already satisfied: requests<3.0.0dev,>=2.18.0 in /usr/local/lib/python3.7/dist-packages (from google-api-core[grpc]!=2.0.*,!=2.1.*,!=2.2.*,!=2.3.*,!=2.4.*,!=2.5.*,!=2.6.*,!=2.7.*,<3.0.0dev,>=1.32.0->google-cloud-vision) (2.23.0)\n",
            "Requirement already satisfied: google-auth<3.0dev,>=1.25.0 in /usr/local/lib/python3.7/dist-packages (from google-api-core[grpc]!=2.0.*,!=2.1.*,!=2.2.*,!=2.3.*,!=2.4.*,!=2.5.*,!=2.6.*,!=2.7.*,<3.0.0dev,>=1.32.0->google-cloud-vision) (1.35.0)\n",
            "Requirement already satisfied: googleapis-common-protos<2.0dev,>=1.56.2 in /usr/local/lib/python3.7/dist-packages (from google-api-core[grpc]!=2.0.*,!=2.1.*,!=2.2.*,!=2.3.*,!=2.4.*,!=2.5.*,!=2.6.*,!=2.7.*,<3.0.0dev,>=1.32.0->google-cloud-vision) (1.56.4)\n",
            "Requirement already satisfied: grpcio-status<2.0dev,>=1.33.2 in /usr/local/lib/python3.7/dist-packages (from google-api-core[grpc]!=2.0.*,!=2.1.*,!=2.2.*,!=2.3.*,!=2.4.*,!=2.5.*,!=2.6.*,!=2.7.*,<3.0.0dev,>=1.32.0->google-cloud-vision) (1.49.1)\n",
            "Requirement already satisfied: grpcio<2.0dev,>=1.33.2 in /usr/local/lib/python3.7/dist-packages (from google-api-core[grpc]!=2.0.*,!=2.1.*,!=2.2.*,!=2.3.*,!=2.4.*,!=2.5.*,!=2.6.*,!=2.7.*,<3.0.0dev,>=1.32.0->google-cloud-vision) (1.49.1)\n",
            "Requirement already satisfied: six>=1.9.0 in /usr/local/lib/python3.7/dist-packages (from google-auth<3.0dev,>=1.25.0->google-api-core[grpc]!=2.0.*,!=2.1.*,!=2.2.*,!=2.3.*,!=2.4.*,!=2.5.*,!=2.6.*,!=2.7.*,<3.0.0dev,>=1.32.0->google-cloud-vision) (1.15.0)\n",
            "Requirement already satisfied: cachetools<5.0,>=2.0.0 in /usr/local/lib/python3.7/dist-packages (from google-auth<3.0dev,>=1.25.0->google-api-core[grpc]!=2.0.*,!=2.1.*,!=2.2.*,!=2.3.*,!=2.4.*,!=2.5.*,!=2.6.*,!=2.7.*,<3.0.0dev,>=1.32.0->google-cloud-vision) (4.2.4)\n",
            "Requirement already satisfied: setuptools>=40.3.0 in /usr/local/lib/python3.7/dist-packages (from google-auth<3.0dev,>=1.25.0->google-api-core[grpc]!=2.0.*,!=2.1.*,!=2.2.*,!=2.3.*,!=2.4.*,!=2.5.*,!=2.6.*,!=2.7.*,<3.0.0dev,>=1.32.0->google-cloud-vision) (57.4.0)\n",
            "Requirement already satisfied: pyasn1-modules>=0.2.1 in /usr/local/lib/python3.7/dist-packages (from google-auth<3.0dev,>=1.25.0->google-api-core[grpc]!=2.0.*,!=2.1.*,!=2.2.*,!=2.3.*,!=2.4.*,!=2.5.*,!=2.6.*,!=2.7.*,<3.0.0dev,>=1.32.0->google-cloud-vision) (0.2.8)\n",
            "Requirement already satisfied: rsa<5,>=3.1.4 in /usr/local/lib/python3.7/dist-packages (from google-auth<3.0dev,>=1.25.0->google-api-core[grpc]!=2.0.*,!=2.1.*,!=2.2.*,!=2.3.*,!=2.4.*,!=2.5.*,!=2.6.*,!=2.7.*,<3.0.0dev,>=1.32.0->google-cloud-vision) (4.9)\n",
            "Requirement already satisfied: pyasn1<0.5.0,>=0.4.6 in /usr/local/lib/python3.7/dist-packages (from pyasn1-modules>=0.2.1->google-auth<3.0dev,>=1.25.0->google-api-core[grpc]!=2.0.*,!=2.1.*,!=2.2.*,!=2.3.*,!=2.4.*,!=2.5.*,!=2.6.*,!=2.7.*,<3.0.0dev,>=1.32.0->google-cloud-vision) (0.4.8)\n",
            "Requirement already satisfied: urllib3!=1.25.0,!=1.25.1,<1.26,>=1.21.1 in /usr/local/lib/python3.7/dist-packages (from requests<3.0.0dev,>=2.18.0->google-api-core[grpc]!=2.0.*,!=2.1.*,!=2.2.*,!=2.3.*,!=2.4.*,!=2.5.*,!=2.6.*,!=2.7.*,<3.0.0dev,>=1.32.0->google-cloud-vision) (1.24.3)\n",
            "Requirement already satisfied: idna<3,>=2.5 in /usr/local/lib/python3.7/dist-packages (from requests<3.0.0dev,>=2.18.0->google-api-core[grpc]!=2.0.*,!=2.1.*,!=2.2.*,!=2.3.*,!=2.4.*,!=2.5.*,!=2.6.*,!=2.7.*,<3.0.0dev,>=1.32.0->google-cloud-vision) (2.10)\n",
            "Requirement already satisfied: certifi>=2017.4.17 in /usr/local/lib/python3.7/dist-packages (from requests<3.0.0dev,>=2.18.0->google-api-core[grpc]!=2.0.*,!=2.1.*,!=2.2.*,!=2.3.*,!=2.4.*,!=2.5.*,!=2.6.*,!=2.7.*,<3.0.0dev,>=1.32.0->google-cloud-vision) (2022.6.15)\n",
            "Requirement already satisfied: chardet<4,>=3.0.2 in /usr/local/lib/python3.7/dist-packages (from requests<3.0.0dev,>=2.18.0->google-api-core[grpc]!=2.0.*,!=2.1.*,!=2.2.*,!=2.3.*,!=2.4.*,!=2.5.*,!=2.6.*,!=2.7.*,<3.0.0dev,>=1.32.0->google-cloud-vision) (3.0.4)\n",
            "Installing collected packages: protobuf, google-api-core, google-cloud-vision\n",
            "  Attempting uninstall: protobuf\n",
            "    Found existing installation: protobuf 3.12.0\n",
            "    Uninstalling protobuf-3.12.0:\n",
            "      Successfully uninstalled protobuf-3.12.0\n",
            "  Attempting uninstall: google-api-core\n",
            "    Found existing installation: google-api-core 0.1.4\n",
            "    Uninstalling google-api-core-0.1.4:\n",
            "      Successfully uninstalled google-api-core-0.1.4\n",
            "  Attempting uninstall: google-cloud-vision\n",
            "    Found existing installation: google-cloud-vision 0.29.0\n",
            "    Uninstalling google-cloud-vision-0.29.0:\n",
            "      Successfully uninstalled google-cloud-vision-0.29.0\n",
            "\u001b[31mERROR: pip's dependency resolver does not currently take into account all the packages that are installed. This behaviour is the source of the following dependency conflicts.\n",
            "tensorflow 2.8.2+zzzcolab20220719082949 requires protobuf<3.20,>=3.9.2, but you have protobuf 4.21.6 which is incompatible.\n",
            "tensorflow-metadata 1.10.0 requires protobuf<4,>=3.13, but you have protobuf 4.21.6 which is incompatible.\n",
            "google-cloud-translate 1.5.0 requires google-api-core[grpc]<2.0.0dev,>=1.6.0, but you have google-api-core 2.10.1 which is incompatible.\n",
            "google-cloud-language 1.2.0 requires google-api-core[grpc]<2.0.0dev,>=1.6.0, but you have google-api-core 2.10.1 which is incompatible.\n",
            "google-cloud-firestore 1.7.0 requires google-api-core[grpc]<2.0.0dev,>=1.14.0, but you have google-api-core 2.10.1 which is incompatible.\n",
            "google-cloud-datastore 1.8.0 requires google-api-core[grpc]<2.0.0dev,>=1.6.0, but you have google-api-core 2.10.1 which is incompatible.\n",
            "google-cloud-core 1.0.3 requires google-api-core<2.0.0dev,>=1.14.0, but you have google-api-core 2.10.1 which is incompatible.\n",
            "google-cloud-bigquery-storage 1.1.2 requires protobuf<4.0.0dev, but you have protobuf 4.21.6 which is incompatible.\n",
            "firebase-admin 4.4.0 requires google-api-core[grpc]<2.0.0dev,>=1.14.0; platform_python_implementation != \"PyPy\", but you have google-api-core 2.10.1 which is incompatible.\u001b[0m\n",
            "Successfully installed google-api-core-2.10.1 google-cloud-vision-3.1.2 protobuf-4.21.6\n"
          ]
        },
        {
          "output_type": "display_data",
          "data": {
            "application/vnd.colab-display-data+json": {
              "pip_warning": {
                "packages": [
                  "google"
                ]
              }
            }
          },
          "metadata": {}
        }
      ]
    },
    {
      "cell_type": "code",
      "source": [
        "pip install opencv-python"
      ],
      "metadata": {
        "colab": {
          "base_uri": "https://localhost:8080/"
        },
        "id": "biNUhaSOL0Jz",
        "outputId": "2c1ab810-4585-46bc-8fcf-9edd8012d089"
      },
      "execution_count": 9,
      "outputs": [
        {
          "output_type": "stream",
          "name": "stdout",
          "text": [
            "Looking in indexes: https://pypi.org/simple, https://us-python.pkg.dev/colab-wheels/public/simple/\n",
            "Requirement already satisfied: opencv-python in /usr/local/lib/python3.7/dist-packages (4.6.0.66)\n",
            "Requirement already satisfied: numpy>=1.14.5 in /usr/local/lib/python3.7/dist-packages (from opencv-python) (1.21.6)\n"
          ]
        }
      ]
    },
    {
      "cell_type": "code",
      "source": [
        "pip install opencv-contrib-python"
      ],
      "metadata": {
        "colab": {
          "base_uri": "https://localhost:8080/"
        },
        "id": "ygKaipIOL0Q0",
        "outputId": "4b55ada1-8f32-443c-fd65-a4a94ce43bfd"
      },
      "execution_count": 10,
      "outputs": [
        {
          "output_type": "stream",
          "name": "stdout",
          "text": [
            "Looking in indexes: https://pypi.org/simple, https://us-python.pkg.dev/colab-wheels/public/simple/\n",
            "Requirement already satisfied: opencv-contrib-python in /usr/local/lib/python3.7/dist-packages (4.6.0.66)\n",
            "Requirement already satisfied: numpy>=1.14.5 in /usr/local/lib/python3.7/dist-packages (from opencv-contrib-python) (1.21.6)\n"
          ]
        }
      ]
    },
    {
      "cell_type": "code",
      "source": [
        "pip install six numpy scipy Pillow matplotlib scikit-image opencv-python imageio Shapely"
      ],
      "metadata": {
        "colab": {
          "base_uri": "https://localhost:8080/"
        },
        "id": "DBqEhaKEL6dv",
        "outputId": "909a1c99-d044-42e4-d8f6-7ba7b768c8b2"
      },
      "execution_count": 11,
      "outputs": [
        {
          "output_type": "stream",
          "name": "stdout",
          "text": [
            "Looking in indexes: https://pypi.org/simple, https://us-python.pkg.dev/colab-wheels/public/simple/\n",
            "Requirement already satisfied: six in /usr/local/lib/python3.7/dist-packages (1.15.0)\n",
            "Requirement already satisfied: numpy in /usr/local/lib/python3.7/dist-packages (1.21.6)\n",
            "Requirement already satisfied: scipy in /usr/local/lib/python3.7/dist-packages (1.7.3)\n",
            "Requirement already satisfied: Pillow in /usr/local/lib/python3.7/dist-packages (7.1.2)\n",
            "Requirement already satisfied: matplotlib in /usr/local/lib/python3.7/dist-packages (3.2.2)\n",
            "Requirement already satisfied: scikit-image in /usr/local/lib/python3.7/dist-packages (0.18.3)\n",
            "Requirement already satisfied: opencv-python in /usr/local/lib/python3.7/dist-packages (4.6.0.66)\n",
            "Requirement already satisfied: imageio in /usr/local/lib/python3.7/dist-packages (2.9.0)\n",
            "Requirement already satisfied: Shapely in /usr/local/lib/python3.7/dist-packages (1.8.4)\n",
            "Requirement already satisfied: cycler>=0.10 in /usr/local/lib/python3.7/dist-packages (from matplotlib) (0.11.0)\n",
            "Requirement already satisfied: pyparsing!=2.0.4,!=2.1.2,!=2.1.6,>=2.0.1 in /usr/local/lib/python3.7/dist-packages (from matplotlib) (3.0.9)\n",
            "Requirement already satisfied: python-dateutil>=2.1 in /usr/local/lib/python3.7/dist-packages (from matplotlib) (2.8.2)\n",
            "Requirement already satisfied: kiwisolver>=1.0.1 in /usr/local/lib/python3.7/dist-packages (from matplotlib) (1.4.4)\n",
            "Requirement already satisfied: typing-extensions in /usr/local/lib/python3.7/dist-packages (from kiwisolver>=1.0.1->matplotlib) (4.1.1)\n",
            "Requirement already satisfied: tifffile>=2019.7.26 in /usr/local/lib/python3.7/dist-packages (from scikit-image) (2021.11.2)\n",
            "Requirement already satisfied: networkx>=2.0 in /usr/local/lib/python3.7/dist-packages (from scikit-image) (2.6.3)\n",
            "Requirement already satisfied: PyWavelets>=1.1.1 in /usr/local/lib/python3.7/dist-packages (from scikit-image) (1.3.0)\n"
          ]
        }
      ]
    },
    {
      "cell_type": "code",
      "source": [
        "pip install files"
      ],
      "metadata": {
        "colab": {
          "base_uri": "https://localhost:8080/"
        },
        "id": "t6AQPszrL6gE",
        "outputId": "25f93e08-0b1f-4f0c-d52e-ba75e622a3d1"
      },
      "execution_count": 12,
      "outputs": [
        {
          "output_type": "stream",
          "name": "stdout",
          "text": [
            "Looking in indexes: https://pypi.org/simple, https://us-python.pkg.dev/colab-wheels/public/simple/\n",
            "Requirement already satisfied: files in /usr/local/lib/python3.7/dist-packages (1.1.1)\n"
          ]
        }
      ]
    },
    {
      "cell_type": "code",
      "source": [
        "pip install pascal-voc-writer"
      ],
      "metadata": {
        "colab": {
          "base_uri": "https://localhost:8080/"
        },
        "id": "NauDbbnOL6ij",
        "outputId": "ccf985a2-ee3a-44ba-bc70-d7de2352bac0"
      },
      "execution_count": 13,
      "outputs": [
        {
          "output_type": "stream",
          "name": "stdout",
          "text": [
            "Looking in indexes: https://pypi.org/simple, https://us-python.pkg.dev/colab-wheels/public/simple/\n",
            "Requirement already satisfied: pascal-voc-writer in /usr/local/lib/python3.7/dist-packages (0.1.4)\n",
            "Requirement already satisfied: jinja2 in /usr/local/lib/python3.7/dist-packages (from pascal-voc-writer) (2.11.3)\n",
            "Requirement already satisfied: MarkupSafe>=0.23 in /usr/local/lib/python3.7/dist-packages (from jinja2->pascal-voc-writer) (2.0.1)\n"
          ]
        }
      ]
    },
    {
      "cell_type": "code",
      "source": [
        "# 여기까지 설치하면 반드시!!!!!! 런타임 다시 시작 및 모두 실행해 주어야 함.\n",
        "# 버전 업그레이드를 하면 런타임 다시 시작을 해 줘야 적용이 되기 때문에.\n",
        "# 주의!  >>  런타임 연결 해제를 해 버리면 만들어 놓은 폴더와 자료들도 사라지므로 절대! No"
      ],
      "metadata": {
        "id": "v0G_8W0OL_4J"
      },
      "execution_count": 14,
      "outputs": []
    },
    {
      "cell_type": "markdown",
      "source": [
        "# 2. 함수 정의"
      ],
      "metadata": {
        "id": "x5e17b0rV773"
      }
    },
    {
      "cell_type": "code",
      "source": [
        "import cv2\n",
        "import numpy as np\n",
        "from matplotlib import pyplot as plt\n",
        "\n",
        "def sharp_image(image):\n",
        "\n",
        "    image1 = cv2.imread(image,cv2.IMREAD_GRAYSCALE)\n",
        "    kernel = np.array([[0,-1,0],\n",
        "                       [-1,5,-1],\n",
        "                       [0,-1,0]])  # 커널 만들기\n",
        "\n",
        "    image_sharp = cv2.filter2D(image1, -1, kernel)\n",
        "\n",
        "    return image_sharp"
      ],
      "metadata": {
        "id": "FFLHov1RMfnU"
      },
      "execution_count": 15,
      "outputs": []
    },
    {
      "cell_type": "code",
      "source": [
        "import cv2\n",
        "import numpy as np\n",
        "from matplotlib import pyplot as plt\n",
        "\n",
        "def binarized_image(image):\n",
        "\n",
        "    image_grey = cv2.imread(image, cv2.IMREAD_GRAYSCALE)  # 흑백 이미지로 로드\n",
        "    max_output_value = 255\n",
        "    neighborhood_size = 99\n",
        "    subtract_from_mean = 10\n",
        "    image_binarized = cv2.adaptiveThreshold(image_grey, max_output_value,\n",
        "                                            cv2.ADAPTIVE_THRESH_GAUSSIAN_C, cv2.THRESH_BINARY,\n",
        "                                            neighborhood_size, subtract_from_mean)  # 적응적 임계처리를 적용\n",
        "    return image_binarized"
      ],
      "metadata": {
        "id": "REZI-2yyV1ny"
      },
      "execution_count": 16,
      "outputs": []
    },
    {
      "cell_type": "code",
      "source": [
        "def f_create_dir(dir_name):\n",
        "    '''\n",
        "    설명: 만들려는 디렉토리가 없으면 생성\n",
        "    입력: 경로 + 새 디렉토리 이름\n",
        "    출력: x\n",
        "    예시: createDirectory('./test')\n",
        "    '''\n",
        "    import os\n",
        "    \n",
        "    try:\n",
        "        if not os.path.exists(dir_name):\n",
        "            os.makedirs(dir_name)\n",
        "    except OSError:\n",
        "        print(\"Error: Failed to create the directory.\")"
      ],
      "metadata": {
        "id": "oorctx7JV33O"
      },
      "execution_count": 17,
      "outputs": []
    },
    {
      "cell_type": "code",
      "source": [
        "def f_hangule_yn(str):\n",
        "    hangul = re.compile('[^ㄱ-ㅣ가-힣]+')\n",
        "    \n",
        "    if hangul.sub('', str) != '':  # 한글이 있으면\n",
        "        return True\n",
        "    else:\n",
        "        return False"
      ],
      "metadata": {
        "id": "0pfNhholWEGa"
      },
      "execution_count": 18,
      "outputs": []
    },
    {
      "cell_type": "code",
      "source": [
        "def f_save_img(img_path, img_data):\n",
        "    '''\n",
        "    한글 경로 여부를 판단하여 이미지 저장\n",
        "    '''\n",
        "    import cv2\n",
        "    \n",
        "    # 한글 경로인 경우\n",
        "    if f_hangule_yn(img_path) == True:\n",
        "        result, encoded_img = cv2.imencode('.'+img_ext, img_data)\n",
        "        if result == True:\n",
        "            with open(img_path, mode='w+b') as f:\n",
        "                encoded_img.tofile(f)\n",
        "    else:\n",
        "        cv2.imwrite(img_path, img_data)"
      ],
      "metadata": {
        "id": "kaNTPAGpWFwr"
      },
      "execution_count": 19,
      "outputs": []
    },
    {
      "cell_type": "code",
      "source": [
        "import xml.etree.ElementTree as ET\n",
        "\n",
        "def read_anntation(xml_file: str):\n",
        "    '''\n",
        "    xml 파일 읽어서, 좌표 반환\n",
        "    '''\n",
        "    # print('read_anntation:', str)\n",
        "    tree = ET.parse(xml_file)\n",
        "    root = tree.getroot()\n",
        "\n",
        "    bounding_box_list = []\n",
        "    \n",
        "    file_name = root.find('filename').text\n",
        "    # print('read_anntation:', file_name)\n",
        "    for obj in root.iter('object'):\n",
        "\n",
        "        object_label = obj.find(\"name\").text\n",
        "        for box in obj.findall(\"bndbox\"):\n",
        "            x_min = int(box.find(\"xmin\").text)\n",
        "            y_min = int(box.find(\"ymin\").text)\n",
        "            x_max = int(box.find(\"xmax\").text)\n",
        "            y_max = int(box.find(\"ymax\").text)\n",
        "\n",
        "        bounding_box = [object_label, x_min, y_min, x_max, y_max]\n",
        "        bounding_box_list.append(bounding_box)\n",
        "\n",
        "    return bounding_box_list, file_name"
      ],
      "metadata": {
        "id": "AJK3XylfWFzf"
      },
      "execution_count": 20,
      "outputs": []
    },
    {
      "cell_type": "code",
      "source": [
        "def f_img_bgd_cut(img_data, bbox, img_ext):\n",
        "    '''\n",
        "    입력: 이미지 데이터, bounding box 좌표\n",
        "    기능: grabcut 으로 이미지 배경 제거\n",
        "    출력: 이미지 데이터 \n",
        "    '''\n",
        "    import numpy as np\n",
        "    import matplotlib.pyplot as plt\n",
        "    \n",
        "    # 사각형 좌표\n",
        "    rectangle = bbox\n",
        "    \n",
        "    # png 파일이면 grabCut 하기 위해 알파채널 제거\n",
        "    if img_ext == 'jpg':\n",
        "        img_data = cv2.cvtColor(img_data, cv2.COLOR_RGBA2RGB)\n",
        "    # else:\n",
        "    #     img_data = cv2.cvtColor(img , img , CV_RGBA2RGB)\n",
        "    \n",
        "    # 초기 마스크 생성\n",
        "    mask = np.zeros(img_data.shape[:2], np.uint8)   # (1071, 1440)\n",
        "    \n",
        "    # grabCut에 사용할 임시 배열 생성\n",
        "    bgdModel = np.zeros((1, 65), np.float64)\n",
        "    fgdModel = np.zeros((1, 65), np.float64)\n",
        "    \n",
        "    # grabCut 실행\n",
        "    tmp = cv2.grabCut(img_data,  # 원본 이미지\n",
        "               mask,       # 마스크\n",
        "               rectangle,  # 사각형\n",
        "               bgdModel,   # 배경을 위한 임시 배열\n",
        "               fgdModel,   # 전경을 위한 임시 배열 \n",
        "               5,          # 반복 횟수\n",
        "               cv2.GC_INIT_WITH_RECT) # 사각형을 위한 초기화\n",
        "    # print(tmp)\n",
        "\n",
        "    # 배경인 곳은 0, 그 외에는 1로 설정한 마스크 생성\n",
        "    mask_2 = np.where((mask==2) | (mask==0), 0, 1).astype('uint8')\n",
        "    \n",
        "    # 이미지에 새로운 마스크를 곱해 배경을 제외\n",
        "    img = img_data * mask_2[:, :, np.newaxis]\n",
        "    plt.imshow(img)\n",
        "    plt.show()\n",
        "    return img"
      ],
      "metadata": {
        "id": "DOfykbbRWF1-"
      },
      "execution_count": 21,
      "outputs": []
    },
    {
      "cell_type": "code",
      "source": [
        "import os\n",
        "import cv2\n",
        "import numpy as np\n",
        "import re\n",
        "\n",
        "def read_train_dataset_2(dir):\n",
        "    '''\n",
        "    디렉토리 안에 이미지 파일, xml 파일명 반환\n",
        "    '''\n",
        "    images = []\n",
        "    annotations = []\n",
        "    images_ext = []\n",
        "\n",
        "    for file in os.listdir(dir):\n",
        "        if 'jpg' in file.lower() or 'png' in file.lower():\n",
        "            # 경로와 파일명에 한글 포함 여부에 따라 이미지 파일 읽기\n",
        "            img_path = os.path.join(dir, file)\n",
        "            \n",
        "            hangul = re.compile('[^ㄱ-ㅣ가-힣]+')\n",
        "            \n",
        "            if hangul.sub('', img_path) != '':  # 한글이 있으면\n",
        "                img_ary = np.fromfile(img_path, np.uint8)\n",
        "                img = cv2.imdecode(img_ary, cv2.IMREAD_UNCHANGED)\n",
        "            else:\n",
        "                img = cv2.imread(img_path, cv2.IMREAD_UNCHANGED)\n",
        "            \n",
        "            # 이미지에 alpha 채널 있으면 제거\n",
        "            # if img.shape[2] == 4:  # (150, 150, 4)\n",
        "            #     img = cv2.cvtColor(img, cv2.COLOR_RGBA2RGB)\n",
        "                \n",
        "            # 이미지 확장자\n",
        "            img_ext = file.split('.')[-1].lower()\n",
        "            images_ext.append(img_ext)\n",
        "            \n",
        "            # xml 파일\n",
        "            xml_file = file.replace(img_ext, 'xml')\n",
        "            xml_path = os.path.join(dir, xml_file)\n",
        "            \n",
        "            # xml 파일이 있으면\n",
        "            if os.path.isfile(xml_path):\n",
        "                # 이미지 배열에 이미지 추가\n",
        "                images.append(img)\n",
        "                \n",
        "                bounding_box_list, file_name = read_anntation(xml_path)\n",
        "                annotations.append((bounding_box_list, xml_file, file_name))\n",
        "            else:\n",
        "                print('xml 파일 없음:', xml_path)\n",
        "                \n",
        "    images = np.array(images)\n",
        "    \n",
        "    return images, annotations, images_ext"
      ],
      "metadata": {
        "id": "Fyd7oHkCWNBs"
      },
      "execution_count": 22,
      "outputs": []
    },
    {
      "cell_type": "code",
      "source": [
        "from google.cloud import vision\n",
        "from google.cloud.vision_v1 import types\n",
        "import io\n",
        "\n",
        "os.environ[\"GOOGLE_APPLICATION_CREDENTIALS\"] = \"beaming-botany-363309-b6fb6ae2907f.json\"\n",
        "# Instantiates a client\n",
        "client = vision.ImageAnnotatorClient()\n",
        "\n",
        "\n",
        "'''\n",
        "detect_text \n",
        "- Input : Image file path\n",
        "- Output : List containing all detected text on the image\n",
        "Google Vision API detects text from upper-left to lower-right.\n",
        "Basically, Return type is JSON. \n",
        "It has text box coordinate of upper left corner with height and width.\n",
        "But this function only returns the text in turn.\n",
        "'''\n",
        "def detect_text(path):\n",
        "    \"\"\"Detects text in the file.\"\"\"\n",
        "\n",
        "    # Google Vision API needs byte type data to use\n",
        "    # Read an image which you want to detect as binary type\n",
        "    with io.open(path, 'rb') as image_file:\n",
        "        content = image_file.read()\n",
        "\n",
        "    # Transform byte type to Image which Google Vision API supports\n",
        "    image = types.Image(content=content)\n",
        "    # Apply Google Vision API(client.text_detection)\n",
        "    response = client.text_detection(image=image)\n",
        "    # Extract detected text from response\n",
        "    texts = response.text_annotations\n",
        "\n",
        "    # Concatenate all detected text to a string\n",
        "    # Last text is useless. Accordingly, exclude it.\n",
        "    string = ''\n",
        "    l1=[]\n",
        "    for text in texts:\n",
        "        string +=text.description\n",
        "        \n",
        "\n",
        "    # Split the result string into list\n",
        "    ret = re.split('[.?!]',string)\n",
        "    for i in ret:\n",
        "        q=i.replace('\\n',' ')\n",
        "        l1.append(q)\n",
        "        \n",
        "    return l1"
      ],
      "metadata": {
        "id": "-IPShh_4m0-K"
      },
      "execution_count": 54,
      "outputs": []
    },
    {
      "cell_type": "markdown",
      "source": [
        "# 3. Image_Preprocessing"
      ],
      "metadata": {
        "id": "gyynci7ZWlL3"
      }
    },
    {
      "cell_type": "markdown",
      "source": [
        "## 3-1. Image_Sharp"
      ],
      "metadata": {
        "id": "26eLpWQubSm9"
      }
    },
    {
      "cell_type": "code",
      "source": [
        "sharp_dir = '/content/sharp_image'\n",
        "f_create_dir(sharp_dir)\n",
        "image_path = '/content/Image_Before_Preprocessing/'\n",
        "image_list = os.listdir(image_path)\n",
        "# print(image_list)\n",
        "image_list.sort()\n",
        "for i in image_list:\n",
        "    image_name = i\n",
        "    # print(image_name)\n",
        "    image_root = os.path.join(image_path, image_name)\n",
        "    print(image_root)\n",
        "\n",
        "    Sharp_image = sharp_image(image_root)\n",
        "    plt.imshow(Sharp_image, cmap='gray'), plt.axis('off')  # 이미지 출력\n",
        "    save_file = f'/content/sharp_image/sharp_{i}'\n",
        "    cv2.imwrite(save_file, Sharp_image)\n",
        "\n",
        "# sharp_image1 = sharp_image('/content/KakaoTalk_20220922_182627549.jpg')\n",
        "# # print(sharp_image)\n",
        "# plt.imshow(sharp_image1, cmap='gray'), plt.axis('off')  # 이미지 출력\n",
        "# save_file = '/content/sharp_1.jpg'\n",
        "# cv2.imwrite(save_file, sharp_image1)"
      ],
      "metadata": {
        "colab": {
          "base_uri": "https://localhost:8080/",
          "height": 340
        },
        "id": "qFj7DLZ_WQvz",
        "outputId": "05f1740c-b435-4387-e64a-f03f39b8eaf0"
      },
      "execution_count": 41,
      "outputs": [
        {
          "output_type": "stream",
          "name": "stdout",
          "text": [
            "/content/Image_Before_Preprocessing/OCR_1.jpg\n",
            "/content/Image_Before_Preprocessing/OCR_2.jpg\n",
            "/content/Image_Before_Preprocessing/OCR_3.jpg\n",
            "/content/Image_Before_Preprocessing/OCR_4.jpg\n",
            "/content/Image_Before_Preprocessing/OCR_5.jpg\n"
          ]
        },
        {
          "output_type": "display_data",
          "data": {
            "text/plain": [
              "<Figure size 432x288 with 1 Axes>"
            ],
            "image/png": "[encoded data removed]"
          },
          "metadata": {
            "needs_background": "light"
          }
        }
      ]
    },
    {
      "cell_type": "markdown",
      "source": [
        "## 3-2. Image_Binarized"
      ],
      "metadata": {
        "id": "Q8soxxEgbaBP"
      }
    },
    {
      "cell_type": "code",
      "source": [
        "binarized_dir = '/content/binarized_image'\n",
        "f_create_dir(binarized_dir)\n",
        "image_path = '/content/sharp_image/'\n",
        "image_list = os.listdir(image_path)\n",
        "image_list.sort()\n",
        "for i in image_list:\n",
        "    image_name = i\n",
        "    # print(image_name)\n",
        "    image_root = os.path.join(image_path, image_name)\n",
        "    # print(image_root)\n",
        "\n",
        "    Binarized_image = binarized_image(image_root)\n",
        "    plt.imshow(Binarized_image, cmap='gray'), plt.axis('off')  # 이미지 출력\n",
        "    save_file = f'/content/binarized_image/binarized_{i}'\n",
        "    cv2.imwrite(save_file, Binarized_image)"
      ],
      "metadata": {
        "colab": {
          "base_uri": "https://localhost:8080/",
          "height": 248
        },
        "id": "IuqIg8OWbRBe",
        "outputId": "e220624c-cd40-4b16-b696-e67b7c86a8a3"
      },
      "execution_count": 42,
      "outputs": [
        {
          "output_type": "display_data",
          "data": {
            "text/plain": [
              "<Figure size 432x288 with 1 Axes>"
            ],
            "image/png": "[encoded data removed]"
          },
          "metadata": {
            "needs_background": "light"
          }
        }
      ]
    },
    {
      "cell_type": "code",
      "source": [
        "from google.colab import files\n",
        "\n",
        "# len(os.listdir('/content/binarized_image'))\n",
        "for c in range(1, int(len(os.listdir('/content/binarized_image'))+1)):\n",
        "  file_path = f'/content/binarized_image/binarized_sharp_OCR_{c}.jpg'\n",
        "\n",
        "  files.download(file_path)"
      ],
      "metadata": {
        "colab": {
          "base_uri": "https://localhost:8080/",
          "height": 17
        },
        "id": "ItnivHv0c1p-",
        "outputId": "26b8041b-1f2f-4cb4-d1e1-4d85623ae550"
      },
      "execution_count": 43,
      "outputs": [
        {
          "output_type": "display_data",
          "data": {
            "text/plain": [
              "<IPython.core.display.Javascript object>"
            ],
            "application/javascript": [
              "\n",
              "    async function download(id, filename, size) {\n",
              "      if (!google.colab.kernel.accessAllowed) {\n",
              "        return;\n",
              "      }\n",
              "      const div = document.createElement('div');\n",
              "      const label = document.createElement('label');\n",
              "      label.textContent = `Downloading \"${filename}\": `;\n",
              "      div.appendChild(label);\n",
              "      const progress = document.createElement('progress');\n",
              "      progress.max = size;\n",
              "      div.appendChild(progress);\n",
              "      document.body.appendChild(div);\n",
              "\n",
              "      const buffers = [];\n",
              "      let downloaded = 0;\n",
              "\n",
              "      const channel = await google.colab.kernel.comms.open(id);\n",
              "      // Send a message to notify the kernel that we're ready.\n",
              "      channel.send({})\n",
              "\n",
              "      for await (const message of channel.messages) {\n",
              "        // Send a message to notify the kernel that we're ready.\n",
              "        channel.send({})\n",
              "        if (message.buffers) {\n",
              "          for (const buffer of message.buffers) {\n",
              "            buffers.push(buffer);\n",
              "            downloaded += buffer.byteLength;\n",
              "            progress.value = downloaded;\n",
              "          }\n",
              "        }\n",
              "      }\n",
              "      const blob = new Blob(buffers, {type: 'application/binary'});\n",
              "      const a = document.createElement('a');\n",
              "      a.href = window.URL.createObjectURL(blob);\n",
              "      a.download = filename;\n",
              "      div.appendChild(a);\n",
              "      a.click();\n",
              "      div.remove();\n",
              "    }\n",
              "  "
            ]
          },
          "metadata": {}
        },
        {
          "output_type": "display_data",
          "data": {
            "text/plain": [
              "<IPython.core.display.Javascript object>"
            ],
            "application/javascript": [
              "download(\"download_44df5cc9-b2b2-4a93-bc34-7a2e732faed4\", \"binarized_sharp_OCR_1.jpg\", 437925)"
            ]
          },
          "metadata": {}
        },
        {
          "output_type": "display_data",
          "data": {
            "text/plain": [
              "<IPython.core.display.Javascript object>"
            ],
            "application/javascript": [
              "\n",
              "    async function download(id, filename, size) {\n",
              "      if (!google.colab.kernel.accessAllowed) {\n",
              "        return;\n",
              "      }\n",
              "      const div = document.createElement('div');\n",
              "      const label = document.createElement('label');\n",
              "      label.textContent = `Downloading \"${filename}\": `;\n",
              "      div.appendChild(label);\n",
              "      const progress = document.createElement('progress');\n",
              "      progress.max = size;\n",
              "      div.appendChild(progress);\n",
              "      document.body.appendChild(div);\n",
              "\n",
              "      const buffers = [];\n",
              "      let downloaded = 0;\n",
              "\n",
              "      const channel = await google.colab.kernel.comms.open(id);\n",
              "      // Send a message to notify the kernel that we're ready.\n",
              "      channel.send({})\n",
              "\n",
              "      for await (const message of channel.messages) {\n",
              "        // Send a message to notify the kernel that we're ready.\n",
              "        channel.send({})\n",
              "        if (message.buffers) {\n",
              "          for (const buffer of message.buffers) {\n",
              "            buffers.push(buffer);\n",
              "            downloaded += buffer.byteLength;\n",
              "            progress.value = downloaded;\n",
              "          }\n",
              "        }\n",
              "      }\n",
              "      const blob = new Blob(buffers, {type: 'application/binary'});\n",
              "      const a = document.createElement('a');\n",
              "      a.href = window.URL.createObjectURL(blob);\n",
              "      a.download = filename;\n",
              "      div.appendChild(a);\n",
              "      a.click();\n",
              "      div.remove();\n",
              "    }\n",
              "  "
            ]
          },
          "metadata": {}
        },
        {
          "output_type": "display_data",
          "data": {
            "text/plain": [
              "<IPython.core.display.Javascript object>"
            ],
            "application/javascript": [
              "download(\"download_e62635ae-63d1-4e2d-bfa0-be1e9a8749ea\", \"binarized_sharp_OCR_2.jpg\", 453408)"
            ]
          },
          "metadata": {}
        },
        {
          "output_type": "display_data",
          "data": {
            "text/plain": [
              "<IPython.core.display.Javascript object>"
            ],
            "application/javascript": [
              "\n",
              "    async function download(id, filename, size) {\n",
              "      if (!google.colab.kernel.accessAllowed) {\n",
              "        return;\n",
              "      }\n",
              "      const div = document.createElement('div');\n",
              "      const label = document.createElement('label');\n",
              "      label.textContent = `Downloading \"${filename}\": `;\n",
              "      div.appendChild(label);\n",
              "      const progress = document.createElement('progress');\n",
              "      progress.max = size;\n",
              "      div.appendChild(progress);\n",
              "      document.body.appendChild(div);\n",
              "\n",
              "      const buffers = [];\n",
              "      let downloaded = 0;\n",
              "\n",
              "      const channel = await google.colab.kernel.comms.open(id);\n",
              "      // Send a message to notify the kernel that we're ready.\n",
              "      channel.send({})\n",
              "\n",
              "      for await (const message of channel.messages) {\n",
              "        // Send a message to notify the kernel that we're ready.\n",
              "        channel.send({})\n",
              "        if (message.buffers) {\n",
              "          for (const buffer of message.buffers) {\n",
              "            buffers.push(buffer);\n",
              "            downloaded += buffer.byteLength;\n",
              "            progress.value = downloaded;\n",
              "          }\n",
              "        }\n",
              "      }\n",
              "      const blob = new Blob(buffers, {type: 'application/binary'});\n",
              "      const a = document.createElement('a');\n",
              "      a.href = window.URL.createObjectURL(blob);\n",
              "      a.download = filename;\n",
              "      div.appendChild(a);\n",
              "      a.click();\n",
              "      div.remove();\n",
              "    }\n",
              "  "
            ]
          },
          "metadata": {}
        },
        {
          "output_type": "display_data",
          "data": {
            "text/plain": [
              "<IPython.core.display.Javascript object>"
            ],
            "application/javascript": [
              "download(\"download_2559938a-4892-4e0f-97e0-1cd9e97ffb4c\", \"binarized_sharp_OCR_3.jpg\", 465459)"
            ]
          },
          "metadata": {}
        },
        {
          "output_type": "display_data",
          "data": {
            "text/plain": [
              "<IPython.core.display.Javascript object>"
            ],
            "application/javascript": [
              "\n",
              "    async function download(id, filename, size) {\n",
              "      if (!google.colab.kernel.accessAllowed) {\n",
              "        return;\n",
              "      }\n",
              "      const div = document.createElement('div');\n",
              "      const label = document.createElement('label');\n",
              "      label.textContent = `Downloading \"${filename}\": `;\n",
              "      div.appendChild(label);\n",
              "      const progress = document.createElement('progress');\n",
              "      progress.max = size;\n",
              "      div.appendChild(progress);\n",
              "      document.body.appendChild(div);\n",
              "\n",
              "      const buffers = [];\n",
              "      let downloaded = 0;\n",
              "\n",
              "      const channel = await google.colab.kernel.comms.open(id);\n",
              "      // Send a message to notify the kernel that we're ready.\n",
              "      channel.send({})\n",
              "\n",
              "      for await (const message of channel.messages) {\n",
              "        // Send a message to notify the kernel that we're ready.\n",
              "        channel.send({})\n",
              "        if (message.buffers) {\n",
              "          for (const buffer of message.buffers) {\n",
              "            buffers.push(buffer);\n",
              "            downloaded += buffer.byteLength;\n",
              "            progress.value = downloaded;\n",
              "          }\n",
              "        }\n",
              "      }\n",
              "      const blob = new Blob(buffers, {type: 'application/binary'});\n",
              "      const a = document.createElement('a');\n",
              "      a.href = window.URL.createObjectURL(blob);\n",
              "      a.download = filename;\n",
              "      div.appendChild(a);\n",
              "      a.click();\n",
              "      div.remove();\n",
              "    }\n",
              "  "
            ]
          },
          "metadata": {}
        },
        {
          "output_type": "display_data",
          "data": {
            "text/plain": [
              "<IPython.core.display.Javascript object>"
            ],
            "application/javascript": [
              "download(\"download_aa344204-58a1-49b5-9eac-5ab4df87b2e8\", \"binarized_sharp_OCR_4.jpg\", 448804)"
            ]
          },
          "metadata": {}
        },
        {
          "output_type": "display_data",
          "data": {
            "text/plain": [
              "<IPython.core.display.Javascript object>"
            ],
            "application/javascript": [
              "\n",
              "    async function download(id, filename, size) {\n",
              "      if (!google.colab.kernel.accessAllowed) {\n",
              "        return;\n",
              "      }\n",
              "      const div = document.createElement('div');\n",
              "      const label = document.createElement('label');\n",
              "      label.textContent = `Downloading \"${filename}\": `;\n",
              "      div.appendChild(label);\n",
              "      const progress = document.createElement('progress');\n",
              "      progress.max = size;\n",
              "      div.appendChild(progress);\n",
              "      document.body.appendChild(div);\n",
              "\n",
              "      const buffers = [];\n",
              "      let downloaded = 0;\n",
              "\n",
              "      const channel = await google.colab.kernel.comms.open(id);\n",
              "      // Send a message to notify the kernel that we're ready.\n",
              "      channel.send({})\n",
              "\n",
              "      for await (const message of channel.messages) {\n",
              "        // Send a message to notify the kernel that we're ready.\n",
              "        channel.send({})\n",
              "        if (message.buffers) {\n",
              "          for (const buffer of message.buffers) {\n",
              "            buffers.push(buffer);\n",
              "            downloaded += buffer.byteLength;\n",
              "            progress.value = downloaded;\n",
              "          }\n",
              "        }\n",
              "      }\n",
              "      const blob = new Blob(buffers, {type: 'application/binary'});\n",
              "      const a = document.createElement('a');\n",
              "      a.href = window.URL.createObjectURL(blob);\n",
              "      a.download = filename;\n",
              "      div.appendChild(a);\n",
              "      a.click();\n",
              "      div.remove();\n",
              "    }\n",
              "  "
            ]
          },
          "metadata": {}
        },
        {
          "output_type": "display_data",
          "data": {
            "text/plain": [
              "<IPython.core.display.Javascript object>"
            ],
            "application/javascript": [
              "download(\"download_cb29f53b-a615-4ade-a395-151a68c12cab\", \"binarized_sharp_OCR_5.jpg\", 510310)"
            ]
          },
          "metadata": {}
        }
      ]
    },
    {
      "cell_type": "markdown",
      "source": [
        "## 3-3. Image_Crop"
      ],
      "metadata": {
        "id": "WidOxTJ-hT8d"
      }
    },
    {
      "cell_type": "markdown",
      "source": [
        "### 여기 파트에서는 수동으로 des_root_dir폴더를 생성해준 후, 그 안에 jpg파일과 xml파일을 이름 똑같게 설정해서 넣어두어야 함!!"
      ],
      "metadata": {
        "id": "Ex5VIW5Vl2iO"
      }
    },
    {
      "cell_type": "code",
      "source": [
        "'''\n",
        "배경 제거\n",
        "\n",
        "배경을 제거하고 Preprocessing_Final 폴더에 저장\n",
        "'''\n",
        "import progressbar\n",
        "import shutil\n",
        "import time\n",
        "import os\n",
        "\n",
        "# src_root_dir = '/content/'\n",
        "src_name = os.listdir('/content/binarized_image')\n",
        "src_name.sort()\n",
        "des_root_dir = '/content/des_root_dir'\n",
        "\n",
        "for i in range(len(src_name)):\n",
        "    print(f'{i}: {src_name[i]}')\n",
        "    time.sleep(0.5)\n",
        "    \n",
        "#     # _crop 디렉토리 경로\n",
        "#     crop_dir_name = src_name[i] + '_crop'\n",
        "#     crop_dir = os.path.join(des_root_dir, crop_dir_name)\n",
        "\n",
        "        \n",
        "    # _crop 디렉토리 만들기\n",
        "    crop_dir = '/content/crop_image'\n",
        "    f_create_dir(crop_dir)\n",
        "\n",
        "    # _crop 디렉토리에서 이미지, xml 파일 읽기\n",
        "    images, annotations, images_ext = read_train_dataset_2(des_root_dir)\n",
        "\n",
        "    bar = progressbar.ProgressBar(maxval=len(images)).start()\n",
        "    for idx in range(len(images)):\n",
        "        \n",
        "        img_data = images[idx]\n",
        "        bbox = annotations[idx][0][0][1:]\n",
        "        cropped_img = img_data[bbox[1]:bbox[3],bbox[0]:bbox[2]]\n",
        "        xml_file = annotations[idx][1]\n",
        "        img_ext = images_ext[idx]\n",
        "        \n",
        "        img_file = xml_file.replace(xml_file.split('.')[-1], img_ext)\n",
        "        img_path = os.path.join(crop_dir, img_file)\n",
        "        f_save_img(img_path, cropped_img)\n",
        "        bar.update(idx)\n",
        "        \n",
        "    bar.finish()"
      ],
      "metadata": {
        "colab": {
          "base_uri": "https://localhost:8080/"
        },
        "id": "fCIg3_6XhWah",
        "outputId": "7f7ca084-8029-4f53-ec80-bfac4a13da6b"
      },
      "execution_count": 48,
      "outputs": [
        {
          "output_type": "stream",
          "name": "stdout",
          "text": [
            "0: binarized_sharp_OCR_1.jpg\n"
          ]
        },
        {
          "output_type": "stream",
          "name": "stderr",
          "text": [
            "/usr/local/lib/python3.7/dist-packages/ipykernel_launcher.py:49: VisibleDeprecationWarning: Creating an ndarray from ragged nested sequences (which is a list-or-tuple of lists-or-tuples-or ndarrays with different lengths or shapes) is deprecated. If you meant to do this, you must specify 'dtype=object' when creating the ndarray.\n",
            "100% (5 of 5) |##########################| Elapsed Time: 0:00:00 Time:  0:00:00\n"
          ]
        },
        {
          "output_type": "stream",
          "name": "stdout",
          "text": [
            "1: binarized_sharp_OCR_2.jpg\n"
          ]
        },
        {
          "output_type": "stream",
          "name": "stderr",
          "text": [
            "100% (5 of 5) |##########################| Elapsed Time: 0:00:00 Time:  0:00:00\n"
          ]
        },
        {
          "output_type": "stream",
          "name": "stdout",
          "text": [
            "2: binarized_sharp_OCR_3.jpg\n"
          ]
        },
        {
          "output_type": "stream",
          "name": "stderr",
          "text": [
            "100% (5 of 5) |##########################| Elapsed Time: 0:00:00 Time:  0:00:00\n"
          ]
        },
        {
          "output_type": "stream",
          "name": "stdout",
          "text": [
            "3: binarized_sharp_OCR_4.jpg\n"
          ]
        },
        {
          "output_type": "stream",
          "name": "stderr",
          "text": [
            "100% (5 of 5) |##########################| Elapsed Time: 0:00:00 Time:  0:00:00\n"
          ]
        },
        {
          "output_type": "stream",
          "name": "stdout",
          "text": [
            "4: binarized_sharp_OCR_5.jpg\n"
          ]
        },
        {
          "output_type": "stream",
          "name": "stderr",
          "text": [
            "100% (5 of 5) |##########################| Elapsed Time: 0:00:00 Time:  0:00:00\n"
          ]
        }
      ]
    },
    {
      "cell_type": "code",
      "source": [
        "from google.colab import files\n",
        "\n",
        "# len(os.listdir('/content/binarized_image'))\n",
        "for c in range(1, int(len(os.listdir('/content/crop_image'))+1)):\n",
        "  file_path = f'/content/crop_image/binarized_sharp_OCR_{c}.jpg'\n",
        "\n",
        "  files.download(file_path)"
      ],
      "metadata": {
        "colab": {
          "base_uri": "https://localhost:8080/",
          "height": 17
        },
        "id": "IVILEC6klefT",
        "outputId": "a57c648d-3837-45c4-c468-594e8de4a4dc"
      },
      "execution_count": 49,
      "outputs": [
        {
          "output_type": "display_data",
          "data": {
            "text/plain": [
              "<IPython.core.display.Javascript object>"
            ],
            "application/javascript": [
              "\n",
              "    async function download(id, filename, size) {\n",
              "      if (!google.colab.kernel.accessAllowed) {\n",
              "        return;\n",
              "      }\n",
              "      const div = document.createElement('div');\n",
              "      const label = document.createElement('label');\n",
              "      label.textContent = `Downloading \"${filename}\": `;\n",
              "      div.appendChild(label);\n",
              "      const progress = document.createElement('progress');\n",
              "      progress.max = size;\n",
              "      div.appendChild(progress);\n",
              "      document.body.appendChild(div);\n",
              "\n",
              "      const buffers = [];\n",
              "      let downloaded = 0;\n",
              "\n",
              "      const channel = await google.colab.kernel.comms.open(id);\n",
              "      // Send a message to notify the kernel that we're ready.\n",
              "      channel.send({})\n",
              "\n",
              "      for await (const message of channel.messages) {\n",
              "        // Send a message to notify the kernel that we're ready.\n",
              "        channel.send({})\n",
              "        if (message.buffers) {\n",
              "          for (const buffer of message.buffers) {\n",
              "            buffers.push(buffer);\n",
              "            downloaded += buffer.byteLength;\n",
              "            progress.value = downloaded;\n",
              "          }\n",
              "        }\n",
              "      }\n",
              "      const blob = new Blob(buffers, {type: 'application/binary'});\n",
              "      const a = document.createElement('a');\n",
              "      a.href = window.URL.createObjectURL(blob);\n",
              "      a.download = filename;\n",
              "      div.appendChild(a);\n",
              "      a.click();\n",
              "      div.remove();\n",
              "    }\n",
              "  "
            ]
          },
          "metadata": {}
        },
        {
          "output_type": "display_data",
          "data": {
            "text/plain": [
              "<IPython.core.display.Javascript object>"
            ],
            "application/javascript": [
              "download(\"download_3beff0c7-e08a-4f23-ae62-4f53e3ae0a8f\", \"binarized_sharp_OCR_1.jpg\", 94479)"
            ]
          },
          "metadata": {}
        },
        {
          "output_type": "display_data",
          "data": {
            "text/plain": [
              "<IPython.core.display.Javascript object>"
            ],
            "application/javascript": [
              "\n",
              "    async function download(id, filename, size) {\n",
              "      if (!google.colab.kernel.accessAllowed) {\n",
              "        return;\n",
              "      }\n",
              "      const div = document.createElement('div');\n",
              "      const label = document.createElement('label');\n",
              "      label.textContent = `Downloading \"${filename}\": `;\n",
              "      div.appendChild(label);\n",
              "      const progress = document.createElement('progress');\n",
              "      progress.max = size;\n",
              "      div.appendChild(progress);\n",
              "      document.body.appendChild(div);\n",
              "\n",
              "      const buffers = [];\n",
              "      let downloaded = 0;\n",
              "\n",
              "      const channel = await google.colab.kernel.comms.open(id);\n",
              "      // Send a message to notify the kernel that we're ready.\n",
              "      channel.send({})\n",
              "\n",
              "      for await (const message of channel.messages) {\n",
              "        // Send a message to notify the kernel that we're ready.\n",
              "        channel.send({})\n",
              "        if (message.buffers) {\n",
              "          for (const buffer of message.buffers) {\n",
              "            buffers.push(buffer);\n",
              "            downloaded += buffer.byteLength;\n",
              "            progress.value = downloaded;\n",
              "          }\n",
              "        }\n",
              "      }\n",
              "      const blob = new Blob(buffers, {type: 'application/binary'});\n",
              "      const a = document.createElement('a');\n",
              "      a.href = window.URL.createObjectURL(blob);\n",
              "      a.download = filename;\n",
              "      div.appendChild(a);\n",
              "      a.click();\n",
              "      div.remove();\n",
              "    }\n",
              "  "
            ]
          },
          "metadata": {}
        },
        {
          "output_type": "display_data",
          "data": {
            "text/plain": [
              "<IPython.core.display.Javascript object>"
            ],
            "application/javascript": [
              "download(\"download_b79d272f-5309-4307-b22b-f86cff84d5ed\", \"binarized_sharp_OCR_2.jpg\", 97697)"
            ]
          },
          "metadata": {}
        },
        {
          "output_type": "display_data",
          "data": {
            "text/plain": [
              "<IPython.core.display.Javascript object>"
            ],
            "application/javascript": [
              "\n",
              "    async function download(id, filename, size) {\n",
              "      if (!google.colab.kernel.accessAllowed) {\n",
              "        return;\n",
              "      }\n",
              "      const div = document.createElement('div');\n",
              "      const label = document.createElement('label');\n",
              "      label.textContent = `Downloading \"${filename}\": `;\n",
              "      div.appendChild(label);\n",
              "      const progress = document.createElement('progress');\n",
              "      progress.max = size;\n",
              "      div.appendChild(progress);\n",
              "      document.body.appendChild(div);\n",
              "\n",
              "      const buffers = [];\n",
              "      let downloaded = 0;\n",
              "\n",
              "      const channel = await google.colab.kernel.comms.open(id);\n",
              "      // Send a message to notify the kernel that we're ready.\n",
              "      channel.send({})\n",
              "\n",
              "      for await (const message of channel.messages) {\n",
              "        // Send a message to notify the kernel that we're ready.\n",
              "        channel.send({})\n",
              "        if (message.buffers) {\n",
              "          for (const buffer of message.buffers) {\n",
              "            buffers.push(buffer);\n",
              "            downloaded += buffer.byteLength;\n",
              "            progress.value = downloaded;\n",
              "          }\n",
              "        }\n",
              "      }\n",
              "      const blob = new Blob(buffers, {type: 'application/binary'});\n",
              "      const a = document.createElement('a');\n",
              "      a.href = window.URL.createObjectURL(blob);\n",
              "      a.download = filename;\n",
              "      div.appendChild(a);\n",
              "      a.click();\n",
              "      div.remove();\n",
              "    }\n",
              "  "
            ]
          },
          "metadata": {}
        },
        {
          "output_type": "display_data",
          "data": {
            "text/plain": [
              "<IPython.core.display.Javascript object>"
            ],
            "application/javascript": [
              "download(\"download_e1173f98-25f8-4840-88c8-88bee9794714\", \"binarized_sharp_OCR_3.jpg\", 111969)"
            ]
          },
          "metadata": {}
        },
        {
          "output_type": "display_data",
          "data": {
            "text/plain": [
              "<IPython.core.display.Javascript object>"
            ],
            "application/javascript": [
              "\n",
              "    async function download(id, filename, size) {\n",
              "      if (!google.colab.kernel.accessAllowed) {\n",
              "        return;\n",
              "      }\n",
              "      const div = document.createElement('div');\n",
              "      const label = document.createElement('label');\n",
              "      label.textContent = `Downloading \"${filename}\": `;\n",
              "      div.appendChild(label);\n",
              "      const progress = document.createElement('progress');\n",
              "      progress.max = size;\n",
              "      div.appendChild(progress);\n",
              "      document.body.appendChild(div);\n",
              "\n",
              "      const buffers = [];\n",
              "      let downloaded = 0;\n",
              "\n",
              "      const channel = await google.colab.kernel.comms.open(id);\n",
              "      // Send a message to notify the kernel that we're ready.\n",
              "      channel.send({})\n",
              "\n",
              "      for await (const message of channel.messages) {\n",
              "        // Send a message to notify the kernel that we're ready.\n",
              "        channel.send({})\n",
              "        if (message.buffers) {\n",
              "          for (const buffer of message.buffers) {\n",
              "            buffers.push(buffer);\n",
              "            downloaded += buffer.byteLength;\n",
              "            progress.value = downloaded;\n",
              "          }\n",
              "        }\n",
              "      }\n",
              "      const blob = new Blob(buffers, {type: 'application/binary'});\n",
              "      const a = document.createElement('a');\n",
              "      a.href = window.URL.createObjectURL(blob);\n",
              "      a.download = filename;\n",
              "      div.appendChild(a);\n",
              "      a.click();\n",
              "      div.remove();\n",
              "    }\n",
              "  "
            ]
          },
          "metadata": {}
        },
        {
          "output_type": "display_data",
          "data": {
            "text/plain": [
              "<IPython.core.display.Javascript object>"
            ],
            "application/javascript": [
              "download(\"download_1409588b-d6c7-43fc-affa-24138669addf\", \"binarized_sharp_OCR_4.jpg\", 117398)"
            ]
          },
          "metadata": {}
        },
        {
          "output_type": "display_data",
          "data": {
            "text/plain": [
              "<IPython.core.display.Javascript object>"
            ],
            "application/javascript": [
              "\n",
              "    async function download(id, filename, size) {\n",
              "      if (!google.colab.kernel.accessAllowed) {\n",
              "        return;\n",
              "      }\n",
              "      const div = document.createElement('div');\n",
              "      const label = document.createElement('label');\n",
              "      label.textContent = `Downloading \"${filename}\": `;\n",
              "      div.appendChild(label);\n",
              "      const progress = document.createElement('progress');\n",
              "      progress.max = size;\n",
              "      div.appendChild(progress);\n",
              "      document.body.appendChild(div);\n",
              "\n",
              "      const buffers = [];\n",
              "      let downloaded = 0;\n",
              "\n",
              "      const channel = await google.colab.kernel.comms.open(id);\n",
              "      // Send a message to notify the kernel that we're ready.\n",
              "      channel.send({})\n",
              "\n",
              "      for await (const message of channel.messages) {\n",
              "        // Send a message to notify the kernel that we're ready.\n",
              "        channel.send({})\n",
              "        if (message.buffers) {\n",
              "          for (const buffer of message.buffers) {\n",
              "            buffers.push(buffer);\n",
              "            downloaded += buffer.byteLength;\n",
              "            progress.value = downloaded;\n",
              "          }\n",
              "        }\n",
              "      }\n",
              "      const blob = new Blob(buffers, {type: 'application/binary'});\n",
              "      const a = document.createElement('a');\n",
              "      a.href = window.URL.createObjectURL(blob);\n",
              "      a.download = filename;\n",
              "      div.appendChild(a);\n",
              "      a.click();\n",
              "      div.remove();\n",
              "    }\n",
              "  "
            ]
          },
          "metadata": {}
        },
        {
          "output_type": "display_data",
          "data": {
            "text/plain": [
              "<IPython.core.display.Javascript object>"
            ],
            "application/javascript": [
              "download(\"download_f28b9481-af5b-4b5f-8e8a-01f293e85715\", \"binarized_sharp_OCR_5.jpg\", 133941)"
            ]
          },
          "metadata": {}
        }
      ]
    },
    {
      "cell_type": "markdown",
      "source": [
        "# OCR"
      ],
      "metadata": {
        "id": "MBkELw6Glw9-"
      }
    },
    {
      "cell_type": "markdown",
      "source": [
        "### 여기서부터는 필요한 파일이 있음.\n",
        "- google_text_detection.py 파일\n",
        "- googel api에서 받음 json파일\n",
        "> 이 두 파일을 업로드해 두어야 코드가 돌아감!"
      ],
      "metadata": {
        "id": "3GkE4kOYmIHQ"
      }
    },
    {
      "cell_type": "code",
      "source": [
        "import pandas as pd\n",
        "l=detect_text(\"/content/crop_image/binarized_sharp_OCR_1.jpg\")\n",
        "l = pd.DataFrame(l)\n",
        "l.to_csv('/content/Final_OCR_1.csv')"
      ],
      "metadata": {
        "id": "-KpEFn87o1F6"
      },
      "execution_count": 58,
      "outputs": []
    },
    {
      "cell_type": "code",
      "source": [
        "path = '/content/crop_image/'\n",
        "image_list = os.listdir(path)\n",
        "image_list.sort()\n",
        "crop_dir = '/content/OCR_Final'\n",
        "f_create_dir(crop_dir)\n",
        "\n",
        "for t in image_list:\n",
        "    image_root = os.path.join(path, t)\n",
        "    L = detect_text(image_root)\n",
        "\n",
        "    T = t.split('_')[3]\n",
        "    K = T.split('.')[0]\n",
        "    Final_dir = '/content/Final_dir'\n",
        "    f_create_dir(Final_dir)\n",
        "\n",
        "    F_L = pd.DataFrame(L)\n",
        "    F_L.to_csv(f'/content/Final_dir/Final_OCR_{K}.csv')"
      ],
      "metadata": {
        "id": "qVwGLt0DlyMM"
      },
      "execution_count": 64,
      "outputs": []
    },
    {
      "cell_type": "code",
      "source": [
        "from google.colab import files\n",
        "\n",
        "# len(os.listdir('/content/binarized_image'))\n",
        "for c in range(1, int(len(os.listdir('/content/Final_dir'))+1)):\n",
        "  file_path = f'/content/Final_dir/Final_OCR_{c}.csv'\n",
        "\n",
        "  files.download(file_path)"
      ],
      "metadata": {
        "colab": {
          "base_uri": "https://localhost:8080/",
          "height": 17
        },
        "id": "LunRUtH5te9t",
        "outputId": "7846bf37-c07f-4f31-fa52-c2be7c60e75a"
      },
      "execution_count": 65,
      "outputs": [
        {
          "output_type": "display_data",
          "data": {
            "text/plain": [
              "<IPython.core.display.Javascript object>"
            ],
            "application/javascript": [
              "\n",
              "    async function download(id, filename, size) {\n",
              "      if (!google.colab.kernel.accessAllowed) {\n",
              "        return;\n",
              "      }\n",
              "      const div = document.createElement('div');\n",
              "      const label = document.createElement('label');\n",
              "      label.textContent = `Downloading \"${filename}\": `;\n",
              "      div.appendChild(label);\n",
              "      const progress = document.createElement('progress');\n",
              "      progress.max = size;\n",
              "      div.appendChild(progress);\n",
              "      document.body.appendChild(div);\n",
              "\n",
              "      const buffers = [];\n",
              "      let downloaded = 0;\n",
              "\n",
              "      const channel = await google.colab.kernel.comms.open(id);\n",
              "      // Send a message to notify the kernel that we're ready.\n",
              "      channel.send({})\n",
              "\n",
              "      for await (const message of channel.messages) {\n",
              "        // Send a message to notify the kernel that we're ready.\n",
              "        channel.send({})\n",
              "        if (message.buffers) {\n",
              "          for (const buffer of message.buffers) {\n",
              "            buffers.push(buffer);\n",
              "            downloaded += buffer.byteLength;\n",
              "            progress.value = downloaded;\n",
              "          }\n",
              "        }\n",
              "      }\n",
              "      const blob = new Blob(buffers, {type: 'application/binary'});\n",
              "      const a = document.createElement('a');\n",
              "      a.href = window.URL.createObjectURL(blob);\n",
              "      a.download = filename;\n",
              "      div.appendChild(a);\n",
              "      a.click();\n",
              "      div.remove();\n",
              "    }\n",
              "  "
            ]
          },
          "metadata": {}
        },
        {
          "output_type": "display_data",
          "data": {
            "text/plain": [
              "<IPython.core.display.Javascript object>"
            ],
            "application/javascript": [
              "download(\"download_3287adf7-a64e-428e-8b13-a7d54a48c853\", \"Final_OCR_1.csv\", 322)"
            ]
          },
          "metadata": {}
        },
        {
          "output_type": "display_data",
          "data": {
            "text/plain": [
              "<IPython.core.display.Javascript object>"
            ],
            "application/javascript": [
              "\n",
              "    async function download(id, filename, size) {\n",
              "      if (!google.colab.kernel.accessAllowed) {\n",
              "        return;\n",
              "      }\n",
              "      const div = document.createElement('div');\n",
              "      const label = document.createElement('label');\n",
              "      label.textContent = `Downloading \"${filename}\": `;\n",
              "      div.appendChild(label);\n",
              "      const progress = document.createElement('progress');\n",
              "      progress.max = size;\n",
              "      div.appendChild(progress);\n",
              "      document.body.appendChild(div);\n",
              "\n",
              "      const buffers = [];\n",
              "      let downloaded = 0;\n",
              "\n",
              "      const channel = await google.colab.kernel.comms.open(id);\n",
              "      // Send a message to notify the kernel that we're ready.\n",
              "      channel.send({})\n",
              "\n",
              "      for await (const message of channel.messages) {\n",
              "        // Send a message to notify the kernel that we're ready.\n",
              "        channel.send({})\n",
              "        if (message.buffers) {\n",
              "          for (const buffer of message.buffers) {\n",
              "            buffers.push(buffer);\n",
              "            downloaded += buffer.byteLength;\n",
              "            progress.value = downloaded;\n",
              "          }\n",
              "        }\n",
              "      }\n",
              "      const blob = new Blob(buffers, {type: 'application/binary'});\n",
              "      const a = document.createElement('a');\n",
              "      a.href = window.URL.createObjectURL(blob);\n",
              "      a.download = filename;\n",
              "      div.appendChild(a);\n",
              "      a.click();\n",
              "      div.remove();\n",
              "    }\n",
              "  "
            ]
          },
          "metadata": {}
        },
        {
          "output_type": "display_data",
          "data": {
            "text/plain": [
              "<IPython.core.display.Javascript object>"
            ],
            "application/javascript": [
              "download(\"download_d767d041-c6e0-4ab7-b0bf-5b1fac08bbfa\", \"Final_OCR_2.csv\", 180)"
            ]
          },
          "metadata": {}
        },
        {
          "output_type": "display_data",
          "data": {
            "text/plain": [
              "<IPython.core.display.Javascript object>"
            ],
            "application/javascript": [
              "\n",
              "    async function download(id, filename, size) {\n",
              "      if (!google.colab.kernel.accessAllowed) {\n",
              "        return;\n",
              "      }\n",
              "      const div = document.createElement('div');\n",
              "      const label = document.createElement('label');\n",
              "      label.textContent = `Downloading \"${filename}\": `;\n",
              "      div.appendChild(label);\n",
              "      const progress = document.createElement('progress');\n",
              "      progress.max = size;\n",
              "      div.appendChild(progress);\n",
              "      document.body.appendChild(div);\n",
              "\n",
              "      const buffers = [];\n",
              "      let downloaded = 0;\n",
              "\n",
              "      const channel = await google.colab.kernel.comms.open(id);\n",
              "      // Send a message to notify the kernel that we're ready.\n",
              "      channel.send({})\n",
              "\n",
              "      for await (const message of channel.messages) {\n",
              "        // Send a message to notify the kernel that we're ready.\n",
              "        channel.send({})\n",
              "        if (message.buffers) {\n",
              "          for (const buffer of message.buffers) {\n",
              "            buffers.push(buffer);\n",
              "            downloaded += buffer.byteLength;\n",
              "            progress.value = downloaded;\n",
              "          }\n",
              "        }\n",
              "      }\n",
              "      const blob = new Blob(buffers, {type: 'application/binary'});\n",
              "      const a = document.createElement('a');\n",
              "      a.href = window.URL.createObjectURL(blob);\n",
              "      a.download = filename;\n",
              "      div.appendChild(a);\n",
              "      a.click();\n",
              "      div.remove();\n",
              "    }\n",
              "  "
            ]
          },
          "metadata": {}
        },
        {
          "output_type": "display_data",
          "data": {
            "text/plain": [
              "<IPython.core.display.Javascript object>"
            ],
            "application/javascript": [
              "download(\"download_14cb4ab7-a32a-419b-b2cf-92096a3ce59b\", \"Final_OCR_3.csv\", 254)"
            ]
          },
          "metadata": {}
        },
        {
          "output_type": "display_data",
          "data": {
            "text/plain": [
              "<IPython.core.display.Javascript object>"
            ],
            "application/javascript": [
              "\n",
              "    async function download(id, filename, size) {\n",
              "      if (!google.colab.kernel.accessAllowed) {\n",
              "        return;\n",
              "      }\n",
              "      const div = document.createElement('div');\n",
              "      const label = document.createElement('label');\n",
              "      label.textContent = `Downloading \"${filename}\": `;\n",
              "      div.appendChild(label);\n",
              "      const progress = document.createElement('progress');\n",
              "      progress.max = size;\n",
              "      div.appendChild(progress);\n",
              "      document.body.appendChild(div);\n",
              "\n",
              "      const buffers = [];\n",
              "      let downloaded = 0;\n",
              "\n",
              "      const channel = await google.colab.kernel.comms.open(id);\n",
              "      // Send a message to notify the kernel that we're ready.\n",
              "      channel.send({})\n",
              "\n",
              "      for await (const message of channel.messages) {\n",
              "        // Send a message to notify the kernel that we're ready.\n",
              "        channel.send({})\n",
              "        if (message.buffers) {\n",
              "          for (const buffer of message.buffers) {\n",
              "            buffers.push(buffer);\n",
              "            downloaded += buffer.byteLength;\n",
              "            progress.value = downloaded;\n",
              "          }\n",
              "        }\n",
              "      }\n",
              "      const blob = new Blob(buffers, {type: 'application/binary'});\n",
              "      const a = document.createElement('a');\n",
              "      a.href = window.URL.createObjectURL(blob);\n",
              "      a.download = filename;\n",
              "      div.appendChild(a);\n",
              "      a.click();\n",
              "      div.remove();\n",
              "    }\n",
              "  "
            ]
          },
          "metadata": {}
        },
        {
          "output_type": "display_data",
          "data": {
            "text/plain": [
              "<IPython.core.display.Javascript object>"
            ],
            "application/javascript": [
              "download(\"download_0996bf61-540b-4eb5-b34f-0a44ffc59011\", \"Final_OCR_4.csv\", 399)"
            ]
          },
          "metadata": {}
        },
        {
          "output_type": "display_data",
          "data": {
            "text/plain": [
              "<IPython.core.display.Javascript object>"
            ],
            "application/javascript": [
              "\n",
              "    async function download(id, filename, size) {\n",
              "      if (!google.colab.kernel.accessAllowed) {\n",
              "        return;\n",
              "      }\n",
              "      const div = document.createElement('div');\n",
              "      const label = document.createElement('label');\n",
              "      label.textContent = `Downloading \"${filename}\": `;\n",
              "      div.appendChild(label);\n",
              "      const progress = document.createElement('progress');\n",
              "      progress.max = size;\n",
              "      div.appendChild(progress);\n",
              "      document.body.appendChild(div);\n",
              "\n",
              "      const buffers = [];\n",
              "      let downloaded = 0;\n",
              "\n",
              "      const channel = await google.colab.kernel.comms.open(id);\n",
              "      // Send a message to notify the kernel that we're ready.\n",
              "      channel.send({})\n",
              "\n",
              "      for await (const message of channel.messages) {\n",
              "        // Send a message to notify the kernel that we're ready.\n",
              "        channel.send({})\n",
              "        if (message.buffers) {\n",
              "          for (const buffer of message.buffers) {\n",
              "            buffers.push(buffer);\n",
              "            downloaded += buffer.byteLength;\n",
              "            progress.value = downloaded;\n",
              "          }\n",
              "        }\n",
              "      }\n",
              "      const blob = new Blob(buffers, {type: 'application/binary'});\n",
              "      const a = document.createElement('a');\n",
              "      a.href = window.URL.createObjectURL(blob);\n",
              "      a.download = filename;\n",
              "      div.appendChild(a);\n",
              "      a.click();\n",
              "      div.remove();\n",
              "    }\n",
              "  "
            ]
          },
          "metadata": {}
        },
        {
          "output_type": "display_data",
          "data": {
            "text/plain": [
              "<IPython.core.display.Javascript object>"
            ],
            "application/javascript": [
              "download(\"download_aff832ab-01c9-4b05-92e6-657e7fba313d\", \"Final_OCR_5.csv\", 430)"
            ]
          },
          "metadata": {}
        }
      ]
    }
  ]
}