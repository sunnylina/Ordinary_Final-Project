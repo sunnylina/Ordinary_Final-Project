{
  "nbformat": 4,
  "nbformat_minor": 0,
  "metadata": {
    "colab": {
      "private_outputs": true,
      "provenance": []
    },
    "kernelspec": {
      "name": "python3",
      "display_name": "Python 3"
    },
    "language_info": {
      "name": "python"
    }
  },
  "cells": [
    {
      "cell_type": "code",
      "source": [
        "!pip install pandas.io.parsers"
      ],
      "metadata": {
        "id": "Z1D3K6ooL0Q9"
      },
      "execution_count": null,
      "outputs": []
    },
    {
      "cell_type": "code",
      "execution_count": null,
      "metadata": {
        "id": "4OA_8AXnHp8Y"
      },
      "outputs": [],
      "source": [
        "!pip install sentence_transformers"
      ]
    },
    {
      "cell_type": "code",
      "source": [
        "import pandas as pd\n",
        "from sentence_transformers import SentenceTransformer, util"
      ],
      "metadata": {
        "id": "q5VbHqZqHw1R"
      },
      "execution_count": null,
      "outputs": []
    },
    {
      "cell_type": "code",
      "source": [
        "test_df = pd.read_csv(f'/content/SICK_test.csv')\n",
        "train_cs = pd.read_csv(f'/content/SICK_train_CS.csv')"
      ],
      "metadata": {
        "id": "RVwM_wSXIHbG"
      },
      "execution_count": null,
      "outputs": []
    },
    {
      "cell_type": "code",
      "source": [
        "test_df"
      ],
      "metadata": {
        "id": "M0RbqIQ7NWcm"
      },
      "execution_count": null,
      "outputs": []
    },
    {
      "cell_type": "code",
      "source": [
        "train_cs.columns"
      ],
      "metadata": {
        "id": "VGVDe8BVNFLQ"
      },
      "execution_count": null,
      "outputs": []
    },
    {
      "cell_type": "code",
      "source": [
        "df3 = pd.concat([test_df, train_cs], axis = 1, ignore_index=True)# .reindex(test_df.columns, axis='columns')"
      ],
      "metadata": {
        "id": "7TcaleUmMGxD"
      },
      "execution_count": null,
      "outputs": []
    },
    {
      "cell_type": "code",
      "source": [
        "df3"
      ],
      "metadata": {
        "id": "RR7-zLr2NZxA"
      },
      "execution_count": null,
      "outputs": []
    },
    {
      "cell_type": "code",
      "source": [
        "df3.columns = ['pair_ID', 'sentence_A', 'sentence_B', 'relatedness_score',\n",
        "       'entailment_judgment', 'pair_ID_2', 'sentence_C', 'sentence_D',\n",
        "       'relatedness_score', 'entailment_judgment', 'co_similarity', 'score']"
      ],
      "metadata": {
        "id": "8SIn7YvAMcCE"
      },
      "execution_count": null,
      "outputs": []
    },
    {
      "cell_type": "code",
      "source": [
        "df3 = df3.drop('Unnamed: 0', axis = 1)\n",
        "df3\n"
      ],
      "metadata": {
        "id": "oPn49ehZNnn9"
      },
      "execution_count": null,
      "outputs": []
    },
    {
      "cell_type": "code",
      "source": [
        "model = SentenceTransformer('all-mpnet-base-v2')\n",
        "\n",
        "predictions = []\n",
        "for i in df3.iterrows():\n",
        "    emb1 = model.encode(i[1]['sentence_A'])\n",
        "    emb2 = model.encode(i[1]['sentence_B'])\n",
        "    # emb3 = model.encode(i[1]['sentence_C'])\n",
        "    # emb4 = model.encode(i[1]['sentence_D'])\n",
        "\n",
        "    cos_sim = util.cos_sim(emb1, emb2)\n",
        "    # cos_sim2 = util.cos_sim(emb3, emb4)\n",
        "    predictions.append(cos_sim.item())"
      ],
      "metadata": {
        "id": "68Zl3oNnOmYY"
      },
      "execution_count": null,
      "outputs": []
    },
    {
      "cell_type": "code",
      "source": [
        "df3"
      ],
      "metadata": {
        "id": "-QXApME9QcrN"
      },
      "execution_count": null,
      "outputs": []
    },
    {
      "cell_type": "code",
      "source": [
        "df3['score'] = predictions\n",
        "df3[['pair_ID','sentence_A',\t'sentence_B', 'score']].to_csv('submission.csv', index=False)"
      ],
      "metadata": {
        "id": "tZM3WGsQJv_Z"
      },
      "execution_count": null,
      "outputs": []
    },
    {
      "cell_type": "code",
      "source": [],
      "metadata": {
        "id": "Qq3oH-KPYuvO"
      },
      "execution_count": null,
      "outputs": []
    }
  ]
}