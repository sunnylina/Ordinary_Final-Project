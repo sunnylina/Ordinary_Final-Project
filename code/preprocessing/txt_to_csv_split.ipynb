{
  "nbformat": 4,
  "nbformat_minor": 0,
  "metadata": {
    "colab": {
      "private_outputs": true,
      "provenance": []
    },
    "kernelspec": {
      "name": "python3",
      "display_name": "Python 3"
    },
    "language_info": {
      "name": "python"
    }
  },
  "cells": [
    {
      "cell_type": "code",
      "source": [
        "import pandas as pd\n",
        "from pandas import DataFrame as df"
      ],
      "metadata": {
        "id": "i-O8jIu_gH7V"
      },
      "execution_count": null,
      "outputs": []
    },
    {
      "cell_type": "code",
      "source": [
        "with open('train_label', 'r') as f:\n",
        "    data = f.readlines()"
      ],
      "metadata": {
        "id": "r9kZJECAsP5Z"
      },
      "execution_count": null,
      "outputs": []
    },
    {
      "cell_type": "code",
      "source": [
        "df1 = df(data, columns = ['train_label'])"
      ],
      "metadata": {
        "id": "g40FERnHp_m2"
      },
      "execution_count": null,
      "outputs": []
    },
    {
      "cell_type": "code",
      "source": [
        "df1"
      ],
      "metadata": {
        "id": "mZ4NUE6PqKcX"
      },
      "execution_count": null,
      "outputs": []
    },
    {
      "cell_type": "code",
      "source": [
        "df1['A1'] = df1.A0.str.split('\\t').str[0]\n",
        "df1['A2'] = df1.A0.str.split('\\t').str[1]"
      ],
      "metadata": {
        "id": "I-3INN14qMB8"
      },
      "execution_count": null,
      "outputs": []
    },
    {
      "cell_type": "code",
      "source": [
        "df1 = df1.drop(columns = 'A0')\n",
        "df1"
      ],
      "metadata": {
        "id": "CHTTtKOBrjqo"
      },
      "execution_count": null,
      "outputs": []
    },
    {
      "cell_type": "code",
      "source": [
        "df1.to_csv('/content/train_label.csv')"
      ],
      "metadata": {
        "id": "twvKW3Ngr9bZ"
      },
      "execution_count": null,
      "outputs": []
    },
    {
      "cell_type": "markdown",
      "source": [
        "# 데이터프레임 합치기"
      ],
      "metadata": {
        "id": "cFxfRLdRvcdN"
      }
    },
    {
      "cell_type": "code",
      "source": [
        "df1 = pd.read_csv(\"/content/data.csv\")\n",
        "df2 = pd.read_csv(\"/content/data_label.csv\")\n",
        "df3 = pd.read_csv(\"/content/test_data.csv\")\n",
        "df4 = pd.read_csv(\"/content/test_label.csv\")\n",
        "df5 = pd.read_csv(\"/content/train_data.csv\")\n",
        "df6 = pd.read_csv(\"/content/train_label.csv\")"
      ],
      "metadata": {
        "id": "pW5Q7KUxs7Jv"
      },
      "execution_count": null,
      "outputs": []
    },
    {
      "cell_type": "code",
      "source": [
        "result1 = pd.concat([df1,df2],axis=1)\n",
        "result2 = pd.concat([df3,df4],axis=1)\n",
        "result3 = pd.concat([df5,df6],axis=1)"
      ],
      "metadata": {
        "id": "khZ6S6U0vwop"
      },
      "execution_count": null,
      "outputs": []
    },
    {
      "cell_type": "code",
      "source": [
        "result3 = result3.drop(columns = 'Unnamed: 0')"
      ],
      "metadata": {
        "id": "gR6ukTA-wUDT"
      },
      "execution_count": null,
      "outputs": []
    },
    {
      "cell_type": "code",
      "source": [
        "result3"
      ],
      "metadata": {
        "id": "tj45lAirwV8u"
      },
      "execution_count": null,
      "outputs": []
    },
    {
      "cell_type": "code",
      "source": [
        "result1.to_csv('/content/data_1.csv')\n",
        "result2.to_csv('/content/test_1.csv')\n",
        "result3.to_csv('/content/train_1.csv')"
      ],
      "metadata": {
        "id": "g-JJPIHqwqn6"
      },
      "execution_count": null,
      "outputs": []
    },
    {
      "cell_type": "code",
      "source": [],
      "metadata": {
        "id": "2p4WNVbrxBd8"
      },
      "execution_count": null,
      "outputs": []
    }
  ]
}