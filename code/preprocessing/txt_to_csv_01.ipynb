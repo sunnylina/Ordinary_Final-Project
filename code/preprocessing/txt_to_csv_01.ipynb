{
  "nbformat": 4,
  "nbformat_minor": 0,
  "metadata": {
    "colab": {
      "private_outputs": true,
      "provenance": []
    },
    "kernelspec": {
      "name": "python3",
      "display_name": "Python 3"
    },
    "language_info": {
      "name": "python"
    }
  },
  "cells": [
    {
      "cell_type": "code",
      "source": [
        "import os\n",
        "import sys\n",
        "import warnings\n",
        "if not sys.warnoptions:\n",
        "    warnings.simplefilter(\"ignore\")\n",
        "    \n",
        "import numpy as np\n",
        "import pandas as pd\n",
        "import sklearn\n",
        "\n",
        "# Libraries and packages for text (pre-)processing \n",
        "import string\n",
        "import re\n",
        "import nltk"
      ],
      "metadata": {
        "id": "AHVMbnstxXzh"
      },
      "execution_count": null,
      "outputs": []
    },
    {
      "cell_type": "code",
      "execution_count": null,
      "metadata": {
        "id": "c0Yo6d9OFIUS"
      },
      "outputs": [],
      "source": [
        "# 파일 병합하기\n",
        "# 파일 리스트\n",
        "filenames = ['q_1_1.txt', 'q_1_2.txt', 'q_1_3.txt', 'q_1_4.txt', 'q_1_5.txt', \n",
        "             'q_1_6.txt','q_1_7.txt','q_1_8.txt','q_1_9.txt','q_1_10.txt',]\n",
        "\n",
        "with open('q_1.txt', 'w') as outfile:\n",
        "    for filename in filenames:\n",
        "        with open(filename) as file:\n",
        "            for line in file:\n",
        "                outfile.write(line)"
      ]
    },
    {
      "cell_type": "code",
      "source": [
        "with open('q_1.txt', 'r') as f:\n",
        "    data = f.readlines()"
      ],
      "metadata": {
        "id": "o1MVTND7HSNN"
      },
      "execution_count": null,
      "outputs": []
    },
    {
      "cell_type": "code",
      "source": [
        "column_name = data[0].rstrip('\\n')"
      ],
      "metadata": {
        "id": "bRp2P_vNWN3x"
      },
      "execution_count": null,
      "outputs": []
    },
    {
      "cell_type": "code",
      "source": [
        "data_split = [x.strip() for x in data[1:]]"
      ],
      "metadata": {
        "id": "sYdOQQOcrf0v"
      },
      "execution_count": null,
      "outputs": []
    },
    {
      "cell_type": "code",
      "source": [
        "q1_df = pd.DataFrame(data_split, columns = [data[0].rstrip('\\n')])"
      ],
      "metadata": {
        "id": "l_wWSQP1sJIh"
      },
      "execution_count": null,
      "outputs": []
    },
    {
      "cell_type": "code",
      "source": [
        "q1_df.to_csv('/content/q_1.csv')"
      ],
      "metadata": {
        "id": "RoGBl2zhsX1U"
      },
      "execution_count": null,
      "outputs": []
    },
    {
      "cell_type": "code",
      "source": [
        "q1 = pd.read_csv(\"/content/q_1.csv\")"
      ],
      "metadata": {
        "id": "HgOml62puQ0E"
      },
      "execution_count": null,
      "outputs": []
    },
    {
      "cell_type": "code",
      "source": [
        "q1"
      ],
      "metadata": {
        "id": "78YmyKHBuwVc"
      },
      "execution_count": null,
      "outputs": []
    },
    {
      "cell_type": "code",
      "source": [
        "for i in range(1,15):\n",
        "  file_path = f\"/content/q_1_{i}.txt\"\n",
        "\n",
        "  if os.path.exists(file_path):\n",
        "    os.remove(file_path)"
      ],
      "metadata": {
        "id": "0Y9JVa0luxk5"
      },
      "execution_count": null,
      "outputs": []
    },
    {
      "cell_type": "code",
      "source": [],
      "metadata": {
        "id": "0R1twzl5xm32"
      },
      "execution_count": null,
      "outputs": []
    }
  ]
}