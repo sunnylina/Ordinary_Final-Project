{
 "nbformat": 4,
 "nbformat_minor": 0,
 "metadata": {
  "colab": {
   "private_outputs": true,
   "provenance": []
  },
  "kernelspec": {
   "name": "python3",
   "display_name": "Python 3"
  },
  "language_info": {
   "name": "python"
  }
 },
 "cells": [
  {
   "cell_type": "code",
   "source": [
    "# 파일을 원하는 만큼 분할(쪼개기)\n",
    "f = open(\"/content/Q1.txt\", 'r')\n",
    "lines = f.readlines()\n",
    "f.close()\n",
    " \n",
    "cnt = 1\n",
    "fileName_Num = 1\n",
    " \n",
    " \n",
    "for line in lines:\n",
    "    fileName = \"Q1\" + '_' +str(fileName_Num) + \".txt\"\n",
    " \n",
    "    fw = open(fileName, \"a\")\n",
    "    fw.write(line)\n",
    "    fw.close()\n",
    " \n",
    "    # 목록을 5개씩 분할함\n",
    "    if cnt == 100:\n",
    "        fileName_Num = fileName_Num + 1\n",
    "        cnt = 0\n",
    "    \n",
    "    cnt = cnt + 1\n",
    " "
   ],
   "metadata": {
    "id": "Dp7Rrn7SqVVY",
    "pycharm": {
     "name": "#%%\n"
    }
   },
   "execution_count": null,
   "outputs": []
  },
  {
   "cell_type": "code",
   "execution_count": null,
   "metadata": {
    "id": "UmcTmzDIp2q1",
    "pycharm": {
     "name": "#%%\n"
    }
   },
   "outputs": [],
   "source": [
    "import requests\n",
    "\n",
    "\n",
    "client_id = \"wrlba8fyci\" \n",
    "client_secret = \"rm1gHqatN0Q2tTWNkTPt75W8Fi7rJmzPnu4mYRiX\" \n",
    "url = \"https://naveropenapi.apigw.ntruss.com/nmt/v1/translation\"\n",
    "\n",
    "with open('/content/Q1_1.txt', 'r') as lyric:\n",
    "    data = lyric.read()\n",
    "    # print(data)\n",
    "\n",
    "#요청 헤더\n",
    "req_header = {\"X-NCP-APIGW-API-KEY-ID\":client_id, \"X-NCP-APIGW-API-KEY\":client_secret}\n",
    "#요청 파라미터\n",
    "req_param = {\"source\":\"ko\", \"target\":\"en\", \"text\":data}\n",
    "#print(req_param)\n",
    "\n",
    "res = requests.post(url,headers=req_header, data=req_param)\n",
    "\n",
    "#print(res.status_code, res.ok)\n",
    "\n",
    "if res.ok:\n",
    "    print(type(res.text),res.text)\n",
    "    print(type(res.json()),res.json())\n",
    "    trans_txt=res.json()['message']['result']['translatedText']\n",
    "    print(trans_txt)\n",
    "else:\n",
    "    print('error code', res.status_code)\n",
    "\n",
    "    "
   ]
  },
  {
   "cell_type": "code",
   "source": [
    "f = open('q1_1.txt', 'w') \n",
    "print(trans_txt, file=f) # 파일 저장하기\n",
    "f.close()"
   ],
   "metadata": {
    "id": "dJGA23M31ZQ8",
    "pycharm": {
     "name": "#%%\n"
    }
   },
   "execution_count": null,
   "outputs": []
  },
  {
   "cell_type": "code",
   "source": [
    "with open('/content/Q1_2.txt', 'r') as lyric:\n",
    "    data = lyric.read()\n",
    "    # print(data)\n",
    "\n",
    "#요청 헤더\n",
    "req_header = {\"X-NCP-APIGW-API-KEY-ID\":client_id, \"X-NCP-APIGW-API-KEY\":client_secret}\n",
    "#요청 파라미터\n",
    "req_param = {\"source\":\"ko\", \"target\":\"en\", \"text\":data}\n",
    "#print(req_param)\n",
    "\n",
    "res = requests.post(url,headers=req_header, data=req_param)\n",
    "\n",
    "#print(res.status_code, res.ok)\n",
    "\n",
    "if res.ok:\n",
    "    print(type(res.text),res.text)\n",
    "    print(type(res.json()),res.json())\n",
    "    trans_txt=res.json()['message']['result']['translatedText']\n",
    "    print(trans_txt)\n",
    "else:\n",
    "    print('error code', res.status_code)\n"
   ],
   "metadata": {
    "id": "OWRVqUL10Vj7",
    "pycharm": {
     "name": "#%%\n"
    }
   },
   "execution_count": null,
   "outputs": []
  },
  {
   "cell_type": "code",
   "source": [
    "f = open('q1_2.txt', 'w') \n",
    "print(trans_txt, file=f) # 파일 저장하기\n",
    "f.close()"
   ],
   "metadata": {
    "id": "sqyLRsLf0siN",
    "pycharm": {
     "name": "#%%\n"
    }
   },
   "execution_count": null,
   "outputs": []
  },
  {
   "cell_type": "code",
   "source": [
    "with open('/content/Q1_3.txt', 'r') as lyric:\n",
    "    data = lyric.read()\n",
    "    # print(data)\n",
    "\n",
    "#요청 헤더\n",
    "req_header = {\"X-NCP-APIGW-API-KEY-ID\":client_id, \"X-NCP-APIGW-API-KEY\":client_secret}\n",
    "#요청 파라미터\n",
    "req_param = {\"source\":\"ko\", \"target\":\"en\", \"text\":data}\n",
    "#print(req_param)\n",
    "\n",
    "res = requests.post(url,headers=req_header, data=req_param)\n",
    "\n",
    "#print(res.status_code, res.ok)\n",
    "\n",
    "if res.ok:\n",
    "    print(type(res.text),res.text)\n",
    "    print(type(res.json()),res.json())\n",
    "    trans_txt=res.json()['message']['result']['translatedText']\n",
    "    print(trans_txt)\n",
    "else:\n",
    "    print('error code', res.status_code)\n"
   ],
   "metadata": {
    "id": "kb_uY85X0VbE",
    "pycharm": {
     "name": "#%%\n"
    }
   },
   "execution_count": null,
   "outputs": []
  },
  {
   "cell_type": "code",
   "source": [
    "f = open('q1_3.txt', 'w') \n",
    "print(trans_txt, file=f) # 파일 저장하기\n",
    "f.close()"
   ],
   "metadata": {
    "id": "Jdyy4kki0t_D",
    "pycharm": {
     "name": "#%%\n"
    }
   },
   "execution_count": null,
   "outputs": []
  },
  {
   "cell_type": "code",
   "source": [
    "with open('/content/Q1_4.txt', 'r') as lyric:\n",
    "    data = lyric.read()\n",
    "    # print(data)\n",
    "\n",
    "#요청 헤더\n",
    "req_header = {\"X-NCP-APIGW-API-KEY-ID\":client_id, \"X-NCP-APIGW-API-KEY\":client_secret}\n",
    "#요청 파라미터\n",
    "req_param = {\"source\":\"ko\", \"target\":\"en\", \"text\":data}\n",
    "#print(req_param)\n",
    "\n",
    "res = requests.post(url,headers=req_header, data=req_param)\n",
    "\n",
    "#print(res.status_code, res.ok)\n",
    "\n",
    "if res.ok:\n",
    "    print(type(res.text),res.text)\n",
    "    print(type(res.json()),res.json())\n",
    "    trans_txt=res.json()['message']['result']['translatedText']\n",
    "    print(trans_txt)\n",
    "else:\n",
    "    print('error code', res.status_code)\n"
   ],
   "metadata": {
    "id": "jwUPBW-40VR9",
    "pycharm": {
     "name": "#%%\n"
    }
   },
   "execution_count": null,
   "outputs": []
  },
  {
   "cell_type": "code",
   "source": [
    "f = open('q1_4.txt', 'w') \n",
    "print(trans_txt, file=f) # 파일 저장하기\n",
    "f.close()"
   ],
   "metadata": {
    "id": "Nx5ibbSC0vo6",
    "pycharm": {
     "name": "#%%\n"
    }
   },
   "execution_count": null,
   "outputs": []
  },
  {
   "cell_type": "code",
   "source": [
    "with open('/content/Q1_5.txt', 'r') as lyric:\n",
    "    data = lyric.read()\n",
    "    # print(data)\n",
    "\n",
    "#요청 헤더\n",
    "req_header = {\"X-NCP-APIGW-API-KEY-ID\":client_id, \"X-NCP-APIGW-API-KEY\":client_secret}\n",
    "#요청 파라미터\n",
    "req_param = {\"source\":\"ko\", \"target\":\"en\", \"text\":data}\n",
    "#print(req_param)\n",
    "\n",
    "res = requests.post(url,headers=req_header, data=req_param)\n",
    "\n",
    "#print(res.status_code, res.ok)\n",
    "\n",
    "if res.ok:\n",
    "    print(type(res.text),res.text)\n",
    "    print(type(res.json()),res.json())\n",
    "    trans_txt=res.json()['message']['result']['translatedText']\n",
    "    print(trans_txt)\n",
    "else:\n",
    "    print('error code', res.status_code)\n"
   ],
   "metadata": {
    "id": "HmFDM42t0VIT",
    "pycharm": {
     "name": "#%%\n"
    }
   },
   "execution_count": null,
   "outputs": []
  },
  {
   "cell_type": "code",
   "source": [
    "f = open('q1_5.txt', 'w') \n",
    "print(trans_txt, file=f) # 파일 저장하기\n",
    "f.close()"
   ],
   "metadata": {
    "id": "66bjgCIu0yKu",
    "pycharm": {
     "name": "#%%\n"
    }
   },
   "execution_count": null,
   "outputs": []
  },
  {
   "cell_type": "code",
   "source": [
    "with open('/content/Q1_6.txt', 'r') as lyric:\n",
    "    data = lyric.read()\n",
    "    # print(data)\n",
    "\n",
    "#요청 헤더\n",
    "req_header = {\"X-NCP-APIGW-API-KEY-ID\":client_id, \"X-NCP-APIGW-API-KEY\":client_secret}\n",
    "#요청 파라미터\n",
    "req_param = {\"source\":\"ko\", \"target\":\"en\", \"text\":data}\n",
    "#print(req_param)\n",
    "\n",
    "res = requests.post(url,headers=req_header, data=req_param)\n",
    "\n",
    "#print(res.status_code, res.ok)\n",
    "\n",
    "if res.ok:\n",
    "    print(type(res.text),res.text)\n",
    "    print(type(res.json()),res.json())\n",
    "    trans_txt=res.json()['message']['result']['translatedText']\n",
    "    print(trans_txt)\n",
    "else:\n",
    "    print('error code', res.status_code)\n"
   ],
   "metadata": {
    "id": "-tMXCBPC0U-q",
    "pycharm": {
     "name": "#%%\n"
    }
   },
   "execution_count": null,
   "outputs": []
  },
  {
   "cell_type": "code",
   "source": [
    "f = open('q1_6.txt', 'w') \n",
    "print(trans_txt, file=f) # 파일 저장하기\n",
    "f.close()"
   ],
   "metadata": {
    "id": "OWuL2-6J0zwX",
    "pycharm": {
     "name": "#%%\n"
    }
   },
   "execution_count": null,
   "outputs": []
  },
  {
   "cell_type": "code",
   "source": [
    "with open('/content/Q1_7.txt', 'r') as lyric:\n",
    "    data = lyric.read()\n",
    "    # print(data)\n",
    "\n",
    "#요청 헤더\n",
    "req_header = {\"X-NCP-APIGW-API-KEY-ID\":client_id, \"X-NCP-APIGW-API-KEY\":client_secret}\n",
    "#요청 파라미터\n",
    "req_param = {\"source\":\"ko\", \"target\":\"en\", \"text\":data}\n",
    "#print(req_param)\n",
    "\n",
    "res = requests.post(url,headers=req_header, data=req_param)\n",
    "\n",
    "#print(res.status_code, res.ok)\n",
    "\n",
    "if res.ok:\n",
    "    print(type(res.text),res.text)\n",
    "    print(type(res.json()),res.json())\n",
    "    trans_txt=res.json()['message']['result']['translatedText']\n",
    "    print(trans_txt)\n",
    "else:\n",
    "    print('error code', res.status_code)\n"
   ],
   "metadata": {
    "id": "U0RYs2Dm0U2X",
    "pycharm": {
     "name": "#%%\n"
    }
   },
   "execution_count": null,
   "outputs": []
  },
  {
   "cell_type": "code",
   "source": [
    "f = open('q1_7.txt', 'w') \n",
    "print(trans_txt, file=f) # 파일 저장하기\n",
    "f.close()"
   ],
   "metadata": {
    "id": "ygDUFvxt005O",
    "pycharm": {
     "name": "#%%\n"
    }
   },
   "execution_count": null,
   "outputs": []
  },
  {
   "cell_type": "code",
   "source": [
    "with open('/content/Q1_8.txt', 'r') as lyric:\n",
    "    data = lyric.read()\n",
    "    # print(data)\n",
    "\n",
    "#요청 헤더\n",
    "req_header = {\"X-NCP-APIGW-API-KEY-ID\":client_id, \"X-NCP-APIGW-API-KEY\":client_secret}\n",
    "#요청 파라미터\n",
    "req_param = {\"source\":\"ko\", \"target\":\"en\", \"text\":data}\n",
    "#print(req_param)\n",
    "\n",
    "res = requests.post(url,headers=req_header, data=req_param)\n",
    "\n",
    "#print(res.status_code, res.ok)\n",
    "\n",
    "if res.ok:\n",
    "    print(type(res.text),res.text)\n",
    "    print(type(res.json()),res.json())\n",
    "    trans_txt=res.json()['message']['result']['translatedText']\n",
    "    print(trans_txt)\n",
    "else:\n",
    "    print('error code', res.status_code)\n"
   ],
   "metadata": {
    "id": "-71UA5Z10Usu",
    "pycharm": {
     "name": "#%%\n"
    }
   },
   "execution_count": null,
   "outputs": []
  },
  {
   "cell_type": "code",
   "source": [
    "f = open('q1_8.txt', 'w') \n",
    "print(trans_txt, file=f) # 파일 저장하기\n",
    "f.close()"
   ],
   "metadata": {
    "id": "GQapZ5E702lQ",
    "pycharm": {
     "name": "#%%\n"
    }
   },
   "execution_count": null,
   "outputs": []
  },
  {
   "cell_type": "code",
   "source": [
    "with open('/content/Q1_9.txt', 'r') as lyric:\n",
    "    data = lyric.read()\n",
    "    # print(data)\n",
    "\n",
    "#요청 헤더\n",
    "req_header = {\"X-NCP-APIGW-API-KEY-ID\":client_id, \"X-NCP-APIGW-API-KEY\":client_secret}\n",
    "#요청 파라미터\n",
    "req_param = {\"source\":\"ko\", \"target\":\"en\", \"text\":data}\n",
    "#print(req_param)\n",
    "\n",
    "res = requests.post(url,headers=req_header, data=req_param)\n",
    "\n",
    "#print(res.status_code, res.ok)\n",
    "\n",
    "if res.ok:\n",
    "    print(type(res.text),res.text)\n",
    "    print(type(res.json()),res.json())\n",
    "    trans_txt=res.json()['message']['result']['translatedText']\n",
    "    print(trans_txt)\n",
    "else:\n",
    "    print('error code', res.status_code)\n"
   ],
   "metadata": {
    "id": "_jO__afv0i3L",
    "pycharm": {
     "name": "#%%\n"
    }
   },
   "execution_count": null,
   "outputs": []
  },
  {
   "cell_type": "code",
   "source": [
    "f = open('q1_9.txt', 'w') \n",
    "print(trans_txt, file=f) # 파일 저장하기\n",
    "f.close()"
   ],
   "metadata": {
    "id": "CVal6_rf03tC",
    "pycharm": {
     "name": "#%%\n"
    }
   },
   "execution_count": null,
   "outputs": []
  },
  {
   "cell_type": "code",
   "source": [
    "with open('/content/Q1_10.txt', 'r') as lyric:\n",
    "    data = lyric.read()\n",
    "    # print(data)\n",
    "\n",
    "#요청 헤더\n",
    "req_header = {\"X-NCP-APIGW-API-KEY-ID\":client_id, \"X-NCP-APIGW-API-KEY\":client_secret}\n",
    "#요청 파라미터\n",
    "req_param = {\"source\":\"ko\", \"target\":\"en\", \"text\":data}\n",
    "#print(req_param)\n",
    "\n",
    "res = requests.post(url,headers=req_header, data=req_param)\n",
    "\n",
    "#print(res.status_code, res.ok)\n",
    "\n",
    "if res.ok:\n",
    "    print(type(res.text),res.text)\n",
    "    print(type(res.json()),res.json())\n",
    "    trans_txt=res.json()['message']['result']['translatedText']\n",
    "    print(trans_txt)\n",
    "else:\n",
    "    print('error code', res.status_code)\n"
   ],
   "metadata": {
    "id": "UO9NOcnL0UiR",
    "pycharm": {
     "name": "#%%\n"
    }
   },
   "execution_count": null,
   "outputs": []
  },
  {
   "cell_type": "code",
   "source": [
    "f = open('q1_10.txt', 'w') \n",
    "print(trans_txt, file=f) # 파일 저장하기\n",
    "f.close()"
   ],
   "metadata": {
    "id": "HmeJAVcksKAa",
    "pycharm": {
     "name": "#%%\n"
    }
   },
   "execution_count": null,
   "outputs": []
  },
  {
   "cell_type": "code",
   "source": [],
   "metadata": {
    "id": "X_zzUdTHzXzk",
    "pycharm": {
     "name": "#%%\n"
    }
   },
   "execution_count": null,
   "outputs": []
  },
  {
   "cell_type": "code",
   "source": [],
   "metadata": {
    "id": "Xfv8RV6fxR8J",
    "pycharm": {
     "name": "#%%\n"
    }
   },
   "execution_count": null,
   "outputs": []
  }
 ]
}