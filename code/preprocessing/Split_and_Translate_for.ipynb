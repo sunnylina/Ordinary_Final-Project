{
  "nbformat": 4,
  "nbformat_minor": 0,
  "metadata": {
    "colab": {
      "private_outputs": true,
      "provenance": []
    },
    "kernelspec": {
      "name": "python3",
      "display_name": "Python 3"
    },
    "language_info": {
      "name": "python"
    }
  },
  "cells": [
    {
      "cell_type": "code",
      "source": [
        "# # 파일을 원하는 만큼 분할(쪼개기)\n",
        "# f = open(\"/content/kss_test_1.txt\", 'r')\n",
        "# lines = f.readlines()\n",
        "# f.close()\n",
        " \n",
        "# cnt = 1\n",
        "# fileName_Num = 1\n",
        " \n",
        " \n",
        "# for line in lines:\n",
        "#     fileName = \"kss_test_1\" + '_' +str(fileName_Num) + \".txt\"\n",
        " \n",
        "#     fw = open(fileName, \"a\")\n",
        "#     fw.write(line)\n",
        "#     fw.close()\n",
        " \n",
        "#     # 목록을 100개씩 분할함\n",
        "#     if cnt == 100:\n",
        "#         fileName_Num = fileName_Num + 1\n",
        "#         cnt = 0\n",
        "    \n",
        "#     cnt = cnt + 1\n",
        " "
      ],
      "metadata": {
        "id": "Dp7Rrn7SqVVY"
      },
      "execution_count": null,
      "outputs": []
    },
    {
      "cell_type": "code",
      "execution_count": null,
      "metadata": {
        "id": "UmcTmzDIp2q1"
      },
      "outputs": [],
      "source": [
        "# import requests\n",
        "\n",
        "\n",
        "# client_id = \"o1l6fkfpx1\" \n",
        "# client_secret = \"rs9pIPcbrCbdhh2uW1Ht3JuijKPqqPi4woieeLFQ\" \n",
        "# url = \"https://naveropenapi.apigw.ntruss.com/nmt/v1/translation\"\n",
        "\n",
        "# with open('/content/kss_train_2.txt', 'r') as lyric:\n",
        "#     data = lyric.read()\n",
        "#     # print(data)\n",
        "\n",
        "# #요청 헤더\n",
        "# req_header = {\"X-NCP-APIGW-API-KEY-ID\":client_id, \"X-NCP-APIGW-API-KEY\":client_secret}\n",
        "# #요청 파라미터\n",
        "# req_param = {\"source\":\"ko\", \"target\":\"en\", \"text\":data}\n",
        "# #print(req_param)\n",
        "\n",
        "# res = requests.post(url,headers=req_header, data=req_param)\n",
        "\n",
        "# #print(res.status_code, res.ok)\n",
        "\n",
        "# if res.ok:\n",
        "#     print(type(res.text),res.text)\n",
        "#     print(type(res.json()),res.json())\n",
        "#     trans_txt=res.json()['message']['result']['translatedText']\n",
        "#     print(trans_txt)\n",
        "# else:\n",
        "#     print('error code', res.status_code)\n",
        "\n",
        "# f = open('EN_kss_train_2.txt', 'w') \n",
        "# print(trans_txt, file=f) # 파일 저장하기\n",
        "# f.close()    "
      ]
    },
    {
      "cell_type": "code",
      "source": [],
      "metadata": {
        "id": "dJGA23M31ZQ8"
      },
      "execution_count": null,
      "outputs": []
    },
    {
      "cell_type": "code",
      "source": [
        "# # csv 읽어오기\n",
        "\n",
        "# import pandas as pd\n",
        "\n",
        "# dev = pd.read_csv(\"/content/klue_dev_1.csv\")\n",
        "\n",
        "# print(dev.columns)"
      ],
      "metadata": {
        "id": "_Fjvli-XObTL"
      },
      "execution_count": null,
      "outputs": []
    },
    {
      "cell_type": "code",
      "source": [
        "# # 번역할 컬럼 -> 리스트로 만들기\n",
        "# dev_list1 = dev['sentence1'].tolist()\n",
        "# dev_list2 = dev['sentence2'].tolist()\n",
        "# dev_list1"
      ],
      "metadata": {
        "id": "O5pE4BmaObRG"
      },
      "execution_count": null,
      "outputs": []
    },
    {
      "cell_type": "code",
      "source": [
        "# # 번역결과 담을 빈 리스트 생성\n",
        "# dev_result_list1 = []\n",
        "# dev_result_list2 = []"
      ],
      "metadata": {
        "id": "KM9Pv_AMObPB"
      },
      "execution_count": null,
      "outputs": []
    },
    {
      "cell_type": "code",
      "source": [],
      "metadata": {
        "id": "lWXJX8bkObNM"
      },
      "execution_count": null,
      "outputs": []
    },
    {
      "cell_type": "code",
      "source": [
        "# import requests\n",
        "\n",
        "\n",
        "# client_id = \"o1l6fkfpx1\" \n",
        "# client_secret = \"rs9pIPcbrCbdhh2uW1Ht3JuijKPqqPi4woieeLFQ\" \n",
        "# url = \"https://naveropenapi.apigw.ntruss.com/nmt/v1/translation\"\n",
        "\n",
        "# # with open('/content/klue-sts-v1.1_dev_sample_10.txt', 'r') as lyric:\n",
        "# data = dev_list1\n",
        "#     # print(data)\n",
        "\n",
        "# #요청 헤더\n",
        "# req_header = {\"X-NCP-APIGW-API-KEY-ID\":client_id, \"X-NCP-APIGW-API-KEY\":client_secret}\n",
        "# #요청 파라미터\n",
        "# req_param = {\"source\":\"ko\", \"target\":\"en\", \"text\":data}\n",
        "# #print(req_param)\n",
        "\n",
        "# res = requests.post(url,headers=req_header, data=req_param)\n",
        "\n",
        "# #print(res.status_code, res.ok)\n",
        "\n",
        "# if res.ok:\n",
        "#     print(type(res.text),res.text)\n",
        "#     print(type(res.json()),res.json())\n",
        "#     trans_txt=res.json()['message']['result']['translatedText']\n",
        "#     print(trans_txt)\n",
        "#     dev_result_list1.append(trans_txt)\n",
        "# else:\n",
        "#     print('error code', res.status_code)\n",
        "\n",
        "# # f = open('EN_klue-sts-v1.1_dev_sample.txt', 'w') \n",
        "# # print(trans_txt, file=f) # 파일 저장하기\n",
        "# # f.close()    "
      ],
      "metadata": {
        "id": "tizx31GMObLH"
      },
      "execution_count": null,
      "outputs": []
    },
    {
      "cell_type": "code",
      "source": [
        "# dev['sentence3'] = dev_result_list1.split(',')"
      ],
      "metadata": {
        "id": "0j21H7qRObJF"
      },
      "execution_count": null,
      "outputs": []
    },
    {
      "cell_type": "code",
      "source": [
        "\n"
      ],
      "metadata": {
        "id": "nJixUABTObG9"
      },
      "execution_count": null,
      "outputs": []
    },
    {
      "cell_type": "code",
      "source": [],
      "metadata": {
        "id": "1DYtVnx-ObEW"
      },
      "execution_count": null,
      "outputs": []
    },
    {
      "cell_type": "code",
      "source": [],
      "metadata": {
        "id": "akOpRiE8ObCi"
      },
      "execution_count": null,
      "outputs": []
    },
    {
      "cell_type": "code",
      "source": [],
      "metadata": {
        "id": "UO9NOcnL0UiR"
      },
      "execution_count": null,
      "outputs": []
    },
    {
      "cell_type": "code",
      "source": [],
      "metadata": {
        "id": "HmeJAVcksKAa"
      },
      "execution_count": null,
      "outputs": []
    },
    {
      "cell_type": "markdown",
      "source": [
        "# For 문 활용"
      ],
      "metadata": {
        "id": "9dD8Rjtr-bP-"
      }
    },
    {
      "cell_type": "code",
      "source": [
        "import pandas as pd"
      ],
      "metadata": {
        "id": "ItEGfgfR26Sz"
      },
      "execution_count": null,
      "outputs": []
    },
    {
      "cell_type": "code",
      "source": [
        "# csv파일 읽어오기\n",
        "kss_train = pd.read_csv(\"/content/train_data.csv\", encoding = \"utf-8\")\n"
      ],
      "metadata": {
        "id": "-qY7bgxB3rEQ"
      },
      "execution_count": null,
      "outputs": []
    },
    {
      "cell_type": "code",
      "source": [
        "kss_train"
      ],
      "metadata": {
        "id": "2SM6kscbF7py"
      },
      "execution_count": null,
      "outputs": []
    },
    {
      "cell_type": "code",
      "source": [
        "kss_train = kss_train.drop(['Unnamed: 0'], axis=1)"
      ],
      "metadata": {
        "id": "KNoXw5mbGPEJ"
      },
      "execution_count": null,
      "outputs": []
    },
    {
      "cell_type": "code",
      "source": [
        "kss_train_1 = kss_train.drop(['A2'], axis=1)\n",
        "kss_train_2 = kss_train.drop(['A1'], axis=1)"
      ],
      "metadata": {
        "id": "tfw0bMscYrH2"
      },
      "execution_count": null,
      "outputs": []
    },
    {
      "cell_type": "code",
      "source": [
        "kss_train_1.to_csv(\"kss_train_1.csv\",index = False)\n",
        "kss_train_2.to_csv(\"kss_train_2.csv\",index = False)"
      ],
      "metadata": {
        "id": "upz-1c_NdSg5"
      },
      "execution_count": null,
      "outputs": []
    },
    {
      "cell_type": "code",
      "source": [
        "!pip install JPype1\n",
        "!pip install aspose-cells"
      ],
      "metadata": {
        "id": "vt-NO0AMd1aN"
      },
      "execution_count": null,
      "outputs": []
    },
    {
      "cell_type": "code",
      "source": [
        "  # csv파일을 txt파일로 변환\n",
        "  \n",
        "  import  jpype     \n",
        "  import  asposecells     \n",
        "  jpype.startJVM() \n",
        "  from asposecells.api import Workbook\n",
        "  \n",
        "  # load CSV file\n",
        "  workbook = Workbook(\"/content/kss_train_1.csv\");\n",
        "  \n",
        "  # save as TXT\n",
        "  workbook.save(\"kss_train_1.txt\");\n",
        "\n",
        "  # load CSV file\n",
        "  workbook = Workbook(\"/content/kss_train_2.csv\");\n",
        "  \n",
        "  # save as TXT\n",
        "  workbook.save(\"kss_train_2.txt\");\n",
        "  \n",
        "  jpype.shutdownJVM()\n",
        "\n"
      ],
      "metadata": {
        "id": "2MP0gZBjd1V5"
      },
      "execution_count": null,
      "outputs": []
    },
    {
      "cell_type": "code",
      "source": [
        "f = open(\"/content/kss_train_2.txt\", 'r')\n",
        "f"
      ],
      "metadata": {
        "id": "pcMdWNZcd1QV"
      },
      "execution_count": null,
      "outputs": []
    },
    {
      "cell_type": "code",
      "source": [
        "# 파일을 원하는 만큼 분할(쪼개기)\n",
        "f = open(\"/content/kss_train_2.txt\", 'r')\n",
        "lines = f.readlines()\n",
        "f.close()\n",
        " \n",
        "cnt = 1\n",
        "fileName_Num = 1\n",
        " \n",
        " \n",
        "for line in lines:\n",
        "    fileName = \"kss_train_2\" + '_' +str(fileName_Num) + \".txt\"\n",
        " \n",
        "    fw = open(fileName, \"a\")\n",
        "    fw.write(line)\n",
        "    fw.close()\n",
        " \n",
        "    # 목록을 5개씩 분할함\n",
        "    if cnt == 200:\n",
        "        fileName_Num = fileName_Num + 1\n",
        "        cnt = 0\n",
        "    \n",
        "    cnt = cnt + 1\n",
        " "
      ],
      "metadata": {
        "id": "X_zzUdTHzXzk"
      },
      "execution_count": null,
      "outputs": []
    },
    {
      "cell_type": "code",
      "source": [
        "import requests\n",
        "\n",
        "\n",
        "client_id = \"o1l6fkfpx1\" \n",
        "client_secret = \"rs9pIPcbrCbdhh2uW1Ht3JuijKPqqPi4woieeLFQ\" \n",
        "url = \"https://naveropenapi.apigw.ntruss.com/nmt/v1/translation\"\n",
        "\n",
        "for i in range(1,614):\n",
        "  with open(f'/content/kss_train_2_{i}.txt', 'r') as lyric:\n",
        "    data = lyric.read()\n",
        "    # print(data)\n",
        "\n",
        "  #요청 헤더\n",
        "  req_header = {\"X-NCP-APIGW-API-KEY-ID\":client_id, \"X-NCP-APIGW-API-KEY\":client_secret}\n",
        "  #요청 파라미터\n",
        "  req_param = {\"source\":\"ko\", \"target\":\"en\", \"text\":data}\n",
        "  #print(req_param)\n",
        "\n",
        "  res = requests.post(url,headers=req_header, data=req_param)\n",
        "\n",
        "  #print(res.status_code, res.ok)\n",
        "\n",
        "  if res.ok:\n",
        "      print(type(res.text),res.text)\n",
        "      print(type(res.json()),res.json())\n",
        "      trans_txt=res.json()['message']['result']['translatedText']\n",
        "      print(trans_txt)\n",
        "  else:\n",
        "      print('error code', res.status_code)\n",
        "\n",
        "  text_file = open(f'/content/EN_kss_train_2_{i}.txt', 'w')\n",
        "  my_string = trans_txt\n",
        "  text_file.write(my_string)\n",
        "  text_file.close()"
      ],
      "metadata": {
        "id": "K9Wksi0xH9oL"
      },
      "execution_count": null,
      "outputs": []
    },
    {
      "cell_type": "code",
      "source": [],
      "metadata": {
        "id": "Xfv8RV6fxR8J"
      },
      "execution_count": null,
      "outputs": []
    },
    {
      "cell_type": "code",
      "source": [
        "# 실행한 파일 목록 제거\n",
        "\n",
        "import os\n",
        "\n",
        "\n",
        "for i in range(1,614):\n",
        "  file_path = f\"/content/kss_train_2_{i}.txt\"\n",
        "\n",
        "  if os.path.exists(file_path):\n",
        "    os.remove(file_path)"
      ],
      "metadata": {
        "id": "Wmsynrfu9GSA"
      },
      "execution_count": null,
      "outputs": []
    },
    {
      "cell_type": "code",
      "source": [
        "# 파일 저장\n",
        "\n",
        "from google.colab import files\n",
        "\n",
        "for i in range(1,11):\n",
        "  file_path = f\"/content/EN_kss_train_2_{i}.txt\"\n",
        "\n",
        "  files.download(file_path)"
      ],
      "metadata": {
        "id": "Syqo32cV90g6"
      },
      "execution_count": null,
      "outputs": []
    }
  ]
}