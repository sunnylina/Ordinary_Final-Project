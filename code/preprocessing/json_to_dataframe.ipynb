{
  "nbformat": 4,
  "nbformat_minor": 0,
  "metadata": {
    "colab": {
      "private_outputs": true,
      "provenance": []
    },
    "kernelspec": {
      "name": "python3",
      "display_name": "Python 3"
    },
    "language_info": {
      "name": "python"
    }
  },
  "cells": [
    {
      "cell_type": "code",
      "execution_count": null,
      "metadata": {
        "id": "cmQ8BncHP2Vk"
      },
      "outputs": [],
      "source": [
        "import pandas as pd\n",
        "import json"
      ]
    },
    {
      "cell_type": "code",
      "source": [
        "with open('klue-sts-v1.1_train.json') as f:\n",
        "    js = json.loads(f.read())\n",
        "df = pd.DataFrame(js)"
      ],
      "metadata": {
        "id": "rNVLYL9ZP8IL"
      },
      "execution_count": null,
      "outputs": []
    },
    {
      "cell_type": "code",
      "source": [
        "df.to_csv(\"klue-sts-v1.1_train.csv\")"
      ],
      "metadata": {
        "id": "85hhz4r_QGkJ"
      },
      "execution_count": null,
      "outputs": []
    },
    {
      "cell_type": "code",
      "source": [],
      "metadata": {
        "id": "L_1UjfjrQHhc"
      },
      "execution_count": null,
      "outputs": []
    }
  ]
}