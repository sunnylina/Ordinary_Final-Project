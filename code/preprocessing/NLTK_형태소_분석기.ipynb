{
  "nbformat": 4,
  "nbformat_minor": 0,
  "metadata": {
    "colab": {
      "name": "NLTK_형태소 분석기.ipynb",
      "private_outputs": true,
      "provenance": [],
      "collapsed_sections": []
    },
    "kernelspec": {
      "name": "python3",
      "display_name": "Python 3"
    },
    "language_info": {
      "name": "python"
    }
  },
  "cells": [
    {
      "cell_type": "code",
      "source": [
        "from google.colab import drive\n",
        "drive.mount('/content/drive')"
      ],
      "metadata": {
        "id": "BzI8TMjRFCDG"
      },
      "execution_count": null,
      "outputs": []
    },
    {
      "cell_type": "code",
      "execution_count": null,
      "metadata": {
        "id": "fC_tNOzmHRtX"
      },
      "outputs": [],
      "source": [
        "import nltk\n",
        "from nltk import word_tokenize, pos_tag, ne_chunk\n",
        "import pandas as pd"
      ]
    },
    {
      "cell_type": "code",
      "source": [
        "en2 = pd.read_csv(\"/content/en.csv\", encoding = \"utf-8\")"
      ],
      "metadata": {
        "id": "w-5a-MCKIDqv"
      },
      "execution_count": null,
      "outputs": []
    },
    {
      "cell_type": "code",
      "source": [
        "en1 = open('/content/en.txt').read()"
      ],
      "metadata": {
        "id": "_1hdQq2vIII4"
      },
      "execution_count": null,
      "outputs": []
    },
    {
      "cell_type": "code",
      "source": [
        "nltk.download('averaged_perceptron_tagger')\n",
        "nltk.download('punkt')"
      ],
      "metadata": {
        "id": "XwDqHO9yIOkq"
      },
      "execution_count": null,
      "outputs": []
    },
    {
      "cell_type": "code",
      "source": [
        "nltk.pos_tag(en2)"
      ],
      "metadata": {
        "id": "4TT61u0NJEZO"
      },
      "execution_count": null,
      "outputs": []
    },
    {
      "cell_type": "code",
      "source": [
        "en = pos_tag(word_tokenize(en1))"
      ],
      "metadata": {
        "id": "KkNShEFXJM-F"
      },
      "execution_count": null,
      "outputs": []
    },
    {
      "cell_type": "code",
      "source": [
        "en"
      ],
      "metadata": {
        "id": "hdNnkh_bJ_Wd"
      },
      "execution_count": null,
      "outputs": []
    },
    {
      "cell_type": "code",
      "source": [
        "en.info"
      ],
      "metadata": {
        "id": "9buQF5R5KhMH"
      },
      "execution_count": null,
      "outputs": []
    },
    {
      "cell_type": "code",
      "source": [
        "col = ['word','NLTK']"
      ],
      "metadata": {
        "id": "YItUISK9Kxkj"
      },
      "execution_count": null,
      "outputs": []
    },
    {
      "cell_type": "code",
      "source": [
        "import csv"
      ],
      "metadata": {
        "id": "NzPDVqs2LeMn"
      },
      "execution_count": null,
      "outputs": []
    },
    {
      "cell_type": "code",
      "source": [
        "with open('en_nltk.csv', 'w',newline='') as f: \n",
        "      \n",
        "    # using csv.writer method from CSV package \n",
        "    write = csv.writer(f) \n",
        "      \n",
        "    write.writerow(col) \n",
        "    write.writerows(en)"
      ],
      "metadata": {
        "id": "iadiW_npLOdQ"
      },
      "execution_count": null,
      "outputs": []
    },
    {
      "cell_type": "code",
      "source": [
        "en_nltk = pd.read_csv(\"/content/en_nltk.csv\")"
      ],
      "metadata": {
        "id": "gdrgsjbdLYIg"
      },
      "execution_count": null,
      "outputs": []
    },
    {
      "cell_type": "code",
      "source": [
        "# nltk 고유값 파악\n",
        "en_nltk[\"NLTK\"].unique()"
      ],
      "metadata": {
        "id": "uuTySzhJIC-n"
      },
      "execution_count": null,
      "outputs": []
    },
    {
      "cell_type": "code",
      "source": [
        "en_DT = en_nltk[en_nltk[\"NLTK\"]=='DT']"
      ],
      "metadata": {
        "id": "A3c76RQVIyzB"
      },
      "execution_count": null,
      "outputs": []
    },
    {
      "cell_type": "code",
      "source": [
        "en_JJ = en_nltk[en_nltk[\"NLTK\"]=='JJ']\n",
        "en_NN = en_nltk[en_nltk[\"NLTK\"]=='NN']\n",
        "en_NNP = en_nltk[en_nltk[\"NLTK\"]=='NNP']\n",
        "en_VBZ = en_nltk[en_nltk[\"NLTK\"]=='VBZ']\n",
        "en_IN = en_nltk[en_nltk[\"NLTK\"]=='IN']\n",
        "en_RB = en_nltk[en_nltk[\"NLTK\"]=='RB']\n",
        "en_VBD = en_nltk[en_nltk[\"NLTK\"]=='VBD']\n",
        "en_VBN = en_nltk[en_nltk[\"NLTK\"]=='VBN']\n",
        "en_VBP = en_nltk[en_nltk[\"NLTK\"]=='VBP']\n",
        "en_JJS = en_nltk[en_nltk[\"NLTK\"]=='JJS']\n",
        "en_NNS = en_nltk[en_nltk[\"NLTK\"]=='NNS']\n",
        "en_VBG = en_nltk[en_nltk[\"NLTK\"]=='VBG']\n",
        "en_VB = en_nltk[en_nltk[\"NLTK\"]=='VB']\n",
        "en_NNPS = en_nltk[en_nltk[\"NLTK\"]=='NNPS']\n",
        "en_MD = en_nltk[en_nltk[\"NLTK\"]=='MD']\n",
        "en_RP = en_nltk[en_nltk[\"NLTK\"]=='RP']\n",
        "en_FW = en_nltk[en_nltk[\"NLTK\"]=='FW']\n",
        "en_CC = en_nltk[en_nltk[\"NLTK\"]=='CC']\n",
        "en_JJR = en_nltk[en_nltk[\"NLTK\"]=='JJR']\n",
        "en_RBR = en_nltk[en_nltk[\"NLTK\"]=='RBR']\n",
        "en_POS = en_nltk[en_nltk[\"NLTK\"]=='POS']\n",
        "en_EX = en_nltk[en_nltk[\"NLTK\"]=='EX']\n",
        "en_WP = en_nltk[en_nltk[\"NLTK\"]=='WP']\n",
        "en_CD = en_nltk[en_nltk[\"NLTK\"]=='CD']\n",
        "en_PRP = en_nltk[en_nltk[\"NLTK\"]=='PRP']\n",
        "en_WRB = en_nltk[en_nltk[\"NLTK\"]=='WRB']\n",
        "en_PRPs = en_nltk[en_nltk[\"NLTK\"]=='PRP$']\n",
        "en_TO = en_nltk[en_nltk[\"NLTK\"]=='TO']\n",
        "en_WDT = en_nltk[en_nltk[\"NLTK\"]=='WDT']\n",
        "en_WPs = en_nltk[en_nltk[\"NLTK\"]=='WP$']"
      ],
      "metadata": {
        "id": "owNYgk7RJdd5"
      },
      "execution_count": null,
      "outputs": []
    },
    {
      "cell_type": "code",
      "source": [
        "en_NNP"
      ],
      "metadata": {
        "id": "_rncCt4ROZau"
      },
      "execution_count": null,
      "outputs": []
    },
    {
      "cell_type": "code",
      "source": [
        "Q4.to_csv(\"Q4.csv\",index = False)"
      ],
      "metadata": {
        "id": "syjUhWCyOWim"
      },
      "execution_count": null,
      "outputs": []
    },
    {
      "cell_type": "code",
      "source": [
        "en_JJ.to_csv(\"en_JJ\",index=False)\n",
        "en_NN.to_csv(\"en_NN\",index=False)\n",
        "en_NNP.to_csv(\"en_NNP\",index=False)\n",
        "en_VBZ.to_csv(\"en_VBZ\",index=False)\n",
        "en_IN.to_csv(\"en_IN\",index=False)\n",
        "en_RB.to_csv(\"en_RB\",index=False)\n",
        "en_VBD.to_csv(\"en_VBD\",index=False)\n",
        "en_VBN.to_csv(\"en_VBN\",index=False)\n",
        "en_VBP.to_csv(\"en_VBP\",index=False)\n",
        "en_JJS.to_csv(\"en_JJS\",index=False)\n",
        "en_NNS.to_csv(\"en_NNS\",index=False)\n",
        "en_VBG.to_csv(\"en_VBG\",index=False)\n",
        "en_VB.to_csv(\"en_VB\",index=False)\n",
        "en_NNPS.to_csv(\"en_NNPS\",index=False)\n",
        "en_MD.to_csv(\"en_MD\",index=False)\n",
        "en_RP.to_csv(\"en_RP\",index=False)\n",
        "en_FW.to_csv(\"en_FW\",index=False)\n",
        "en_CC.to_csv(\"en_CC\",index=False)\n",
        "en_JJR.to_csv(\"en_JJR\",index=False)\n",
        "en_RBR.to_csv(\"en_RBR\",index=False)\n",
        "en_POS.to_csv(\"en_POS\",index=False)\n",
        "en_EX.to_csv(\"en_EX\",index=False)\n",
        "en_WP.to_csv(\"en_WP\",index=False)\n",
        "en_CD.to_csv(\"en_CD\",index=False)\n",
        "en_PRP.to_csv(\"en_PRP\",index=False)\n",
        "en_WRB.to_csv(\"en_WRB\",index=False)\n",
        "en_PRPs.to_csv(\"en_PRPs\",index=False)\n",
        "en_TO.to_csv(\"en_TO\",index=False)\n",
        "en_WDT.to_csv(\"en_WDT\",index=False)\n",
        "en_WPs.to_csv(\"en_WPs\",index=False)"
      ],
      "metadata": {
        "id": "uv5ceKjBPiVn"
      },
      "execution_count": null,
      "outputs": []
    },
    {
      "cell_type": "code",
      "source": [],
      "metadata": {
        "id": "4h0FNdMERZdY"
      },
      "execution_count": null,
      "outputs": []
    }
  ]
}