{
  "nbformat": 4,
  "nbformat_minor": 0,
  "metadata": {
    "colab": {
      "name": "08_eng_to_kor_1.ipynb",
      "private_outputs": true,
      "provenance": [],
      "collapsed_sections": []
    },
    "kernelspec": {
      "name": "python3",
      "display_name": "Python 3"
    },
    "language_info": {
      "name": "python"
    }
  },
  "cells": [
    {
      "cell_type": "code",
      "execution_count": null,
      "metadata": {
        "id": "HBLRiBnUVssx"
      },
      "outputs": [],
      "source": [
        "from selenium import webdriver\n",
        "from webdriver_manager.chrome import ChromeDriverManager\n",
        "from selenium.webdriver.common.by import By\n",
        "import time"
      ]
    },
    {
      "cell_type": "code",
      "source": [
        "def eng_to_kor_func(word):\n",
        "    webdriver_options = webdriver.ChromeOptions()\n",
        "    webdriver_options.headless = True\n",
        "    webdriver_options.add_argument(\"--no-sandbox\")\n",
        "    webdriver_options.add_argument(\"--disable-dev-shm-usage\")\n",
        "\n",
        "    # ChromeDriverManager().install()\n",
        "    driver = webdriver.Chrome(\n",
        "        \"/Users/lina/Downloads\",\n",
        "        options=webdriver_options,\n",
        "    )\n",
        "\n",
        "    driver.implicitly_wait(3)\n",
        "    driver.get(f\"https://en.dict.naver.com/#/search?range=meaning&query={word}\")\n",
        "\n",
        "    # print(driver.title)\n",
        "    kor_word = driver.find_element(\n",
        "        by=By.CSS_SELECTOR,\n",
        "        value=\"#searchPage_mean > div.component_keyword.has-saving-function > div:nth-child(1) > div\",\n",
        "    ).text\n",
        "\n",
        "    return kor_word"
      ],
      "metadata": {
        "id": "J8QBJNFsVwDK"
      },
      "execution_count": null,
      "outputs": []
    }
  ]
}