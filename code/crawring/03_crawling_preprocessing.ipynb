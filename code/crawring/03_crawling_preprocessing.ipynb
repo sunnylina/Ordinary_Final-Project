{
 "cells": [
  {
   "cell_type": "code",
   "execution_count": 1,
   "id": "62560425-a288-47e0-a6c4-d20e0adfa679",
   "metadata": {
    "pycharm": {
     "name": "#%%\n"
    }
   },
   "outputs": [
    {
     "ename": "ModuleNotFoundError",
     "evalue": "No module named 'kss'",
     "output_type": "error",
     "traceback": [
      "\u001B[0;31m---------------------------------------------------------------------------\u001B[0m",
      "\u001B[0;31mModuleNotFoundError\u001B[0m                       Traceback (most recent call last)",
      "Input \u001B[0;32mIn [1]\u001B[0m, in \u001B[0;36m<cell line: 1>\u001B[0;34m()\u001B[0m\n\u001B[0;32m----> 1\u001B[0m \u001B[38;5;28;01mimport\u001B[39;00m \u001B[38;5;21;01mkss\u001B[39;00m\n\u001B[1;32m      2\u001B[0m \u001B[38;5;28;01mimport\u001B[39;00m \u001B[38;5;21;01msoynlp\u001B[39;00m\n\u001B[1;32m      3\u001B[0m \u001B[38;5;28;01mfrom\u001B[39;00m \u001B[38;5;21;01mpykospacing\u001B[39;00m \u001B[38;5;28;01mimport\u001B[39;00m Spacing\n",
      "\u001B[0;31mModuleNotFoundError\u001B[0m: No module named 'kss'"
     ]
    }
   ],
   "source": [
    "import kss\n",
    "import soynlp\n",
    "from pykospacing import Spacing\n",
    "from hanspell import spell_checker\n",
    "\n",
    "import pandas as pd\n",
    "import re"
   ]
  },
  {
   "cell_type": "code",
   "execution_count": 157,
   "id": "fa346811-3e03-497a-b2d9-e1dfc014dab8",
   "metadata": {
    "pycharm": {
     "name": "#%%\n"
    }
   },
   "outputs": [
    {
     "data": {
      "text/html": [
       "<div>\n",
       "<style scoped>\n",
       "    .dataframe tbody tr th:only-of-type {\n",
       "        vertical-align: middle;\n",
       "    }\n",
       "\n",
       "    .dataframe tbody tr th {\n",
       "        vertical-align: top;\n",
       "    }\n",
       "\n",
       "    .dataframe thead th {\n",
       "        text-align: right;\n",
       "    }\n",
       "</style>\n",
       "<table border=\"1\" class=\"dataframe\">\n",
       "  <thead>\n",
       "    <tr style=\"text-align: right;\">\n",
       "      <th></th>\n",
       "      <th>word</th>\n",
       "      <th>type</th>\n",
       "      <th>v1</th>\n",
       "      <th>v2</th>\n",
       "      <th>v3</th>\n",
       "      <th>v4</th>\n",
       "    </tr>\n",
       "  </thead>\n",
       "  <tbody>\n",
       "    <tr>\n",
       "      <th>0</th>\n",
       "      <td>새물</td>\n",
       "      <td>NNG</td>\n",
       "      <td>1.새로 갓 나온 과일이나 생선 따위를 이르는 말.2.빨래하여 이제 막 입은 옷.[...</td>\n",
       "      <td>새로 갓 나온 과일이나 생선 따위를 이르는 말</td>\n",
       "      <td>새로 갓 나온 과일이나 생선 따위를 이르는 말</td>\n",
       "      <td>새로 갓 나온 과일이나 생선 따위를 이르는 말</td>\n",
       "    </tr>\n",
       "    <tr>\n",
       "      <th>1</th>\n",
       "      <td>합병증</td>\n",
       "      <td>NNG</td>\n",
       "      <td>[의학 ]어떤 질병에 곁들여 일어나는 다른 질병.</td>\n",
       "      <td>어떤 질병에 곁들여 일어나는 다른 질병</td>\n",
       "      <td>어떤 질병에 곁들여 일어나는 다른 질병</td>\n",
       "      <td>어떤 질병에 곁들여 일어나는 다른 질병</td>\n",
       "    </tr>\n",
       "    <tr>\n",
       "      <th>2</th>\n",
       "      <td>머름</td>\n",
       "      <td>NNG</td>\n",
       "      <td>[건설 ]바람을 막거나 모양을 내기 위하여 미닫이 문지방 아래나 벽 아래 중방에 대...</td>\n",
       "      <td>바람을 막거나 모양을 내기 위하여 미닫이 문지방 아래나 벽 아래 중방에 대는 널조각</td>\n",
       "      <td>바람을 막거나 모양을 내기 위하여 미닫이 문지방 아래나 벽 아래 중방에 대는 널조각</td>\n",
       "      <td>바람을 막거나 모양을 내기 위하여 미닫이 문지방 아래나 벽 아래 중방에 대는 널조각</td>\n",
       "    </tr>\n",
       "    <tr>\n",
       "      <th>3</th>\n",
       "      <td>그래픽</td>\n",
       "      <td>NNG</td>\n",
       "      <td>그림이나 도형, 사진 등 다양한 시각적 형상(形象)이나 작품을 통틀어 이르는 말.</td>\n",
       "      <td>그림이나 도형, 사진 등 다양한 시각적 형상(形象)이나 작품을 통틀어 이르는 말.</td>\n",
       "      <td>그림이나 도형, 사진 등 다양한 시각적 형상(形象)이나 작품을 통틀어 이르는 말.</td>\n",
       "      <td>그림이나 도형, 사진 등 다양한 시각적 형상(形象)이나 작품을 통틀어 이르는 말.</td>\n",
       "    </tr>\n",
       "    <tr>\n",
       "      <th>4</th>\n",
       "      <td>자기력선</td>\n",
       "      <td>NNG</td>\n",
       "      <td>[물리 ]자기장의 크기와 방향을 나타내는 선. 유리판 위에 쇳가루를 뿌리고 그 유리...</td>\n",
       "      <td>자기장의 크기와 방향을 나타내는 선</td>\n",
       "      <td>자기장의 크기와 방향을 나타내는 선</td>\n",
       "      <td>자기장의 크기와 방향을 나타내는 선</td>\n",
       "    </tr>\n",
       "    <tr>\n",
       "      <th>5</th>\n",
       "      <td>분패</td>\n",
       "      <td>NNG</td>\n",
       "      <td>일을 잡쳐서 실패함.[유의어]낭패,망단3,실패2</td>\n",
       "      <td>일을 잡쳐서 실패함.[유의어]낭패,망단3,실패2</td>\n",
       "      <td>일을 잡쳐서 실패함.</td>\n",
       "      <td>일을 잡쳐서 실패함.</td>\n",
       "    </tr>\n",
       "    <tr>\n",
       "      <th>6</th>\n",
       "      <td>반도라</td>\n",
       "      <td>NNG</td>\n",
       "      <td>[음악 ]기타와 비슷하며 낮은 소리를 내는, 르네상스 시대의 유럽 민속 현악기.</td>\n",
       "      <td>기타와 비슷하며 낮은 소리를 내는, 르네상스 시대의 유럽 민속 현악기</td>\n",
       "      <td>기타와 비슷하며 낮은 소리를 내는, 르네상스 시대의 유럽 민속 현악기</td>\n",
       "      <td>기타와 비슷하며 낮은 소리를 내는, 르네상스 시대의 유럽 민속 현악기</td>\n",
       "    </tr>\n",
       "    <tr>\n",
       "      <th>7</th>\n",
       "      <td>벨벳</td>\n",
       "      <td>NNG</td>\n",
       "      <td>거죽에 곱고 짧은 털이 촘촘히 돋게 짠 비단.[유의어]비로드,우단3</td>\n",
       "      <td>거죽에 곱고 짧은 털이 촘촘히 돋게 짠 비단.[유의어]비로드,우단3</td>\n",
       "      <td>거죽에 곱고 짧은 털이 촘촘히 돋게 짠 비단.</td>\n",
       "      <td>거죽에 곱고 짧은 털이 촘촘히 돋게 짠 비단.</td>\n",
       "    </tr>\n",
       "    <tr>\n",
       "      <th>8</th>\n",
       "      <td>펌프</td>\n",
       "      <td>NNG</td>\n",
       "      <td>1.수도 시설이 없는 곳에서, 사람이 손잡이를 상하로 되풀이하여 움직임으로써 그 압...</td>\n",
       "      <td>Longer</td>\n",
       "      <td>Longer</td>\n",
       "      <td>Longer</td>\n",
       "    </tr>\n",
       "    <tr>\n",
       "      <th>9</th>\n",
       "      <td>세균</td>\n",
       "      <td>NNG</td>\n",
       "      <td>[생명 ]생물체 가운데 가장 미세하고 가장 하등에 속하는 단세포 생활체. 다른 생물...</td>\n",
       "      <td>생물체 가운데 가장 미세하고 가장 하등에 속하는 단세포 생활체</td>\n",
       "      <td>생물체 가운데 가장 미세하고 가장 하등에 속하는 단세포 생활체</td>\n",
       "      <td>생물체 가운데 가장 미세하고 가장 하등에 속하는 단세포 생활체</td>\n",
       "    </tr>\n",
       "  </tbody>\n",
       "</table>\n",
       "</div>"
      ],
      "text/plain": [
       "   word type                                                 v1  \\\n",
       "0    새물  NNG  1.새로 갓 나온 과일이나 생선 따위를 이르는 말.2.빨래하여 이제 막 입은 옷.[...   \n",
       "1   합병증  NNG                        [의학 ]어떤 질병에 곁들여 일어나는 다른 질병.   \n",
       "2    머름  NNG  [건설 ]바람을 막거나 모양을 내기 위하여 미닫이 문지방 아래나 벽 아래 중방에 대...   \n",
       "3   그래픽  NNG      그림이나 도형, 사진 등 다양한 시각적 형상(形象)이나 작품을 통틀어 이르는 말.   \n",
       "4  자기력선  NNG  [물리 ]자기장의 크기와 방향을 나타내는 선. 유리판 위에 쇳가루를 뿌리고 그 유리...   \n",
       "5    분패  NNG                         일을 잡쳐서 실패함.[유의어]낭패,망단3,실패2   \n",
       "6   반도라  NNG       [음악 ]기타와 비슷하며 낮은 소리를 내는, 르네상스 시대의 유럽 민속 현악기.   \n",
       "7    벨벳  NNG              거죽에 곱고 짧은 털이 촘촘히 돋게 짠 비단.[유의어]비로드,우단3   \n",
       "8    펌프  NNG  1.수도 시설이 없는 곳에서, 사람이 손잡이를 상하로 되풀이하여 움직임으로써 그 압...   \n",
       "9    세균  NNG  [생명 ]생물체 가운데 가장 미세하고 가장 하등에 속하는 단세포 생활체. 다른 생물...   \n",
       "\n",
       "                                               v2  \\\n",
       "0                       새로 갓 나온 과일이나 생선 따위를 이르는 말   \n",
       "1                           어떤 질병에 곁들여 일어나는 다른 질병   \n",
       "2  바람을 막거나 모양을 내기 위하여 미닫이 문지방 아래나 벽 아래 중방에 대는 널조각   \n",
       "3   그림이나 도형, 사진 등 다양한 시각적 형상(形象)이나 작품을 통틀어 이르는 말.   \n",
       "4                             자기장의 크기와 방향을 나타내는 선   \n",
       "5                      일을 잡쳐서 실패함.[유의어]낭패,망단3,실패2   \n",
       "6          기타와 비슷하며 낮은 소리를 내는, 르네상스 시대의 유럽 민속 현악기   \n",
       "7           거죽에 곱고 짧은 털이 촘촘히 돋게 짠 비단.[유의어]비로드,우단3   \n",
       "8                                          Longer   \n",
       "9              생물체 가운데 가장 미세하고 가장 하등에 속하는 단세포 생활체   \n",
       "\n",
       "                                               v3  \\\n",
       "0                       새로 갓 나온 과일이나 생선 따위를 이르는 말   \n",
       "1                           어떤 질병에 곁들여 일어나는 다른 질병   \n",
       "2  바람을 막거나 모양을 내기 위하여 미닫이 문지방 아래나 벽 아래 중방에 대는 널조각   \n",
       "3   그림이나 도형, 사진 등 다양한 시각적 형상(形象)이나 작품을 통틀어 이르는 말.   \n",
       "4                             자기장의 크기와 방향을 나타내는 선   \n",
       "5                                     일을 잡쳐서 실패함.   \n",
       "6          기타와 비슷하며 낮은 소리를 내는, 르네상스 시대의 유럽 민속 현악기   \n",
       "7                       거죽에 곱고 짧은 털이 촘촘히 돋게 짠 비단.   \n",
       "8                                          Longer   \n",
       "9              생물체 가운데 가장 미세하고 가장 하등에 속하는 단세포 생활체   \n",
       "\n",
       "                                               v4  \n",
       "0                       새로 갓 나온 과일이나 생선 따위를 이르는 말  \n",
       "1                           어떤 질병에 곁들여 일어나는 다른 질병  \n",
       "2  바람을 막거나 모양을 내기 위하여 미닫이 문지방 아래나 벽 아래 중방에 대는 널조각  \n",
       "3   그림이나 도형, 사진 등 다양한 시각적 형상(形象)이나 작품을 통틀어 이르는 말.  \n",
       "4                             자기장의 크기와 방향을 나타내는 선  \n",
       "5                                     일을 잡쳐서 실패함.  \n",
       "6          기타와 비슷하며 낮은 소리를 내는, 르네상스 시대의 유럽 민속 현악기  \n",
       "7                       거죽에 곱고 짧은 털이 촘촘히 돋게 짠 비단.  \n",
       "8                                          Longer  \n",
       "9              생물체 가운데 가장 미세하고 가장 하등에 속하는 단세포 생활체  "
      ]
     },
     "execution_count": 157,
     "metadata": {},
     "output_type": "execute_result"
    }
   ],
   "source": [
    "train_dir = './preprocessed_NNG.csv'\n",
    "train_df = pd.read_csv(train_dir)\n",
    "train_df = train_df.drop(columns=['Unnamed: 0.1', 'Unnamed: 0'])\n",
    "train_df.head(10)"
   ]
  },
  {
   "cell_type": "code",
   "execution_count": 77,
   "id": "8020554c-72aa-4da3-a71a-98361fc040f6",
   "metadata": {
    "pycharm": {
     "name": "#%%\n"
    }
   },
   "outputs": [
    {
     "data": {
      "text/plain": [
       "['다른 물건이 닿거나 묻어서 생긴 자리',\n",
       " '사물이나 일 따위의 기본이 되는 것',\n",
       " '영국의 성직자(1573~1645)',\n",
       " '형의 선고를 받은 사람의 형벌을 줄여 주는 일',\n",
       " '어떤 파동 또는 물리적 작용을 한 곳에서 다른 곳으로 옮겨 주는 매개물',\n",
       " '세력이나 힘을 더 강하고 튼튼하게 함',\n",
       " '어떤 사람이나 존재를 몹시 아끼고 귀중히 여기는 마음',\n",
       " '고려 시대에, 벼슬아치나 공신(功臣) 또는 각 관아에 토지 및 땔나무를 댈 임야를 나누어 주던 제도',\n",
       " '지구의 표면. 또는 땅의 겉면.',\n",
       " '익은 농작물을 거두어들임',\n",
       " '하나를 반으로 가름',\n",
       " '사람이나 동물이 먹은 음식물을 소화하여 항문으로 내보내는 찌꺼기',\n",
       " '분비샘에서 나오는 물질',\n",
       " '우주에 존재하는 모든 물체',\n",
       " '어떤 사실의 앞뒤, 또는 두 사실이 이치상 어긋나서 서로 맞지 않음을 이르는 말',\n",
       " '[역사 ]고려 시대에, 과거(科擧) 삼공(三貢)의 하나',\n",
       " '열복사로 방출된 전자기파가 물체에 흡수되어 그 물체를 뜨겁게 하는 에너지',\n",
       " 'Longer',\n",
       " '필요한 물자를 스스로 생산하여 충당함.',\n",
       " '나비목의 곤충 가운데 낮에 활동하는 무리를 통틀어 이르는 말']"
      ]
     },
     "execution_count": 77,
     "metadata": {},
     "output_type": "execute_result"
    }
   ],
   "source": [
    "sample_context = list(train_df.tail(20)['v4'])\n",
    "sample_context"
   ]
  },
  {
   "cell_type": "code",
   "execution_count": 78,
   "id": "59178d22-9390-4a16-9e82-3608b1885c33",
   "metadata": {
    "pycharm": {
     "name": "#%%\n"
    }
   },
   "outputs": [],
   "source": [
    "def remove_useless_breacket(texts):\n",
    "    \"\"\"\n",
    "    위키피디아 전처리를 위한 함수입니다.\n",
    "    괄호 내부에 의미가 없는 정보를 제거합니다.\n",
    "    아무런 정보를 포함하고 있지 않다면, 괄호를 통채로 제거합니다.\n",
    "    ``수학(,)`` -> ``수학``\n",
    "    ``수학(數學,) -> ``수학(數學)``\n",
    "    \"\"\"\n",
    "    bracket_pattern = re.compile(r\"\\((.*?)\\)\")\n",
    "    preprocessed_text = []\n",
    "    for text in texts:\n",
    "        modi_text = \"\"\n",
    "        text = text.replace(\"()\", \"\")  # 수학() -> 수학\n",
    "        brackets = bracket_pattern.search(text)\n",
    "        if not brackets:\n",
    "            if text:\n",
    "                preprocessed_text.append(text)\n",
    "                continue\n",
    "        replace_brackets = {}\n",
    "        # key: 원본 문장에서 고쳐야하는 index, value: 고쳐져야 하는 값\n",
    "        # e.g. {'2,8': '(數學)','34,37': ''}\n",
    "        while brackets:\n",
    "            index_key = str(brackets.start()) + \",\" + str(brackets.end())\n",
    "            bracket = text[brackets.start() + 1 : brackets.end() - 1]\n",
    "            infos = bracket.split(\",\")\n",
    "            modi_infos = []\n",
    "            for info in infos:\n",
    "                info = info.strip()\n",
    "                if len(info) > 0:\n",
    "                    modi_infos.append(info)\n",
    "            if len(modi_infos) > 0:\n",
    "                replace_brackets[index_key] = \"(\" + \", \".join(modi_infos) + \")\"\n",
    "            else:\n",
    "                replace_brackets[index_key] = \"\"\n",
    "            brackets = bracket_pattern.search(text, brackets.start() + 1)\n",
    "        end_index = 0\n",
    "        for index_key in replace_brackets.keys():\n",
    "            start_index = int(index_key.split(\",\")[0])\n",
    "            modi_text += text[end_index:start_index]\n",
    "            modi_text += replace_brackets[index_key]\n",
    "            end_index = int(index_key.split(\",\")[1])\n",
    "        modi_text += text[end_index:]\n",
    "        modi_text = modi_text.strip()\n",
    "        if modi_text:\n",
    "            preprocessed_text.append(modi_text)\n",
    "    return preprocessed_text"
   ]
  },
  {
   "cell_type": "code",
   "execution_count": 79,
   "id": "ae0cef23-3982-496c-bb20-c47bcd6df6ef",
   "metadata": {
    "pycharm": {
     "name": "#%%\n"
    }
   },
   "outputs": [],
   "source": [
    "def clean_punc(texts):\n",
    "    punct_mapping = {\"‘\": \"'\", \"₹\": \"e\", \"´\": \"'\", \"°\": \"\", \"€\": \"e\", \"™\": \"tm\", \"√\": \" sqrt \", \"×\": \"x\", \"²\": \"2\", \"—\": \"-\", \"–\": \"-\", \"’\": \"'\", \"_\": \"-\", \"`\": \"'\", '“': '\"', '”': '\"', '“': '\"', \"£\": \"e\", '∞': 'infinity', 'θ': 'theta', '÷': '/', 'α': 'alpha', '•': '.', 'à': 'a', '−': '-', 'β': 'beta', '∅': '', '³': '3', 'π': 'pi', }\n",
    "\n",
    "    preprocessed_text = []\n",
    "    for text in texts:\n",
    "        for p in punct_mapping:\n",
    "            text = text.replace(p, punct_mapping[p])\n",
    "        text = text.strip()\n",
    "        if text:\n",
    "            preprocessed_text.append(text)\n",
    "    return preprocessed_text"
   ]
  },
  {
   "cell_type": "code",
   "execution_count": 81,
   "id": "475394b5-4554-44cb-bf0d-1f0465c50368",
   "metadata": {
    "pycharm": {
     "name": "#%%\n"
    }
   },
   "outputs": [],
   "source": [
    "def remove_repeated_spacing(texts):\n",
    "    \"\"\"\n",
    "    두 개 이상의 연속된 공백을 하나로 치환합니다.\n",
    "    ``오늘은    날씨가   좋다.`` -> ``오늘은 날씨가 좋다.``\n",
    "    \"\"\"\n",
    "    preprocessed_text = []\n",
    "    for text in texts:\n",
    "        text = re.sub(r\"\\s+\", \" \", text).strip()\n",
    "        if text:\n",
    "            preprocessed_text.append(text)\n",
    "    return preprocessed_text"
   ]
  },
  {
   "cell_type": "code",
   "execution_count": 82,
   "id": "57ccd5d5-a275-4046-ad8f-13598617367a",
   "metadata": {
    "pycharm": {
     "name": "#%%\n"
    }
   },
   "outputs": [],
   "source": [
    "def spacing_sent(texts):\n",
    "    spacing = Spacing()\n",
    "    \"\"\"\n",
    "    띄어쓰기를 보정합니다.\n",
    "    \"\"\"\n",
    "    preprocessed_text = []\n",
    "    for text in texts:\n",
    "        text = spacing(text)\n",
    "        if text:\n",
    "            preprocessed_text.append(text)\n",
    "    return preprocessed_text"
   ]
  },
  {
   "cell_type": "code",
   "execution_count": 83,
   "id": "a345342c-3b29-45a1-af90-fb8a22400825",
   "metadata": {
    "pycharm": {
     "name": "#%%\n"
    }
   },
   "outputs": [],
   "source": [
    "def spell_check_sent(texts):\n",
    "    \"\"\"\n",
    "    맞춤법을 보정합니다.\n",
    "    \"\"\"\n",
    "    preprocessed_text = []\n",
    "    for text in texts:\n",
    "        try:\n",
    "            spelled_sent = spell_checker.check(text)\n",
    "            checked_sent = spelled_sent.checked \n",
    "            if checked_sent:\n",
    "                preprocessed_text.append(checked_sent)\n",
    "        except:\n",
    "            preprocessed_text.append(text)\n",
    "    return preprocessed_text"
   ]
  },
  {
   "cell_type": "code",
   "execution_count": 84,
   "id": "c36b2eec-22ac-48b1-b4de-0d7d9d1c0e8d",
   "metadata": {
    "pycharm": {
     "name": "#%%\n"
    }
   },
   "outputs": [],
   "source": [
    "def remove_stopwords(sents, stop_word_list):\n",
    "    #  큰 의미가 없는 불용어 정의\n",
    "    stopwords = stop_word_list\n",
    "    preprocessed_text = []\n",
    "    for sent in sents:\n",
    "        sent = [w for w in sent.split(' ') if w not in stopwords]# 불용어 제거\n",
    "        preprocessed_text.append(' '.join(sent))\n",
    "    return preprocessed_text"
   ]
  },
  {
   "cell_type": "code",
   "execution_count": 85,
   "id": "51311953-38e5-4caf-9837-2300210d1683",
   "metadata": {
    "pycharm": {
     "name": "#%%\n"
    }
   },
   "outputs": [],
   "source": [
    "def min_max_filter(texts,min_len = 2, max_len = 500):\n",
    "    \"\"\"\n",
    "    문장을 최대, 최소 길이로 필터링합니다.\n",
    "    \"\"\"\n",
    "    preprocessed_text = []\n",
    "    for text in texts:\n",
    "        preprocessed_text.append(re.sub(r'\\(.*\\)', '', text))\n",
    "    return preprocessed_text"
   ]
  },
  {
   "cell_type": "code",
   "execution_count": null,
   "id": "35a40fb9-4c20-480d-a2f1-bfe4b03b73c4",
   "metadata": {
    "pycharm": {
     "name": "#%%\n"
    }
   },
   "outputs": [],
   "source": []
  },
  {
   "cell_type": "code",
   "execution_count": 86,
   "id": "22f4f30c-c8d5-483d-8848-3a78e841c109",
   "metadata": {
    "pycharm": {
     "name": "#%%\n"
    }
   },
   "outputs": [],
   "source": [
    "def remove_additional_brackets(texts):\n",
    "    \"\"\"\n",
    "    sy; [ ], ( ) 사이값들 다 지워버리기\n",
    "    \"\"\"\n",
    "    # text = '[역사 ]고려 시대에, 과거(科擧) 삼공(三貢)의 하나'\n",
    "    # out = re.sub(r'\\[.*\\]', '', text)\n",
    "    # print(out)\n",
    "    \n",
    "    preprocessed_text = []\n",
    "    for text in texts:\n",
    "        out = re.sub(r'\\[.*\\]', '', text)\n",
    "        start_bracket = list(re.finditer('\\(', out))\n",
    "        end_bracket = list(re.finditer('\\)', out))\n",
    "        new_str = ''\n",
    "        anchor = 0\n",
    "        for _, (starts, ends) in enumerate(zip(start_bracket, end_bracket)):\n",
    "            start_idx = starts.start()\n",
    "            end_idx = ends.end()\n",
    "            new_str += out[anchor:start_idx]\n",
    "            anchor = end_idx\n",
    "        new_str += out[anchor:]\n",
    "        preprocessed_text.append(new_str)\n",
    "    return preprocessed_text"
   ]
  },
  {
   "cell_type": "code",
   "execution_count": 87,
   "id": "45b953e5-20e6-4c99-9464-3c7b3067f375",
   "metadata": {
    "pycharm": {
     "name": "#%%\n"
    }
   },
   "outputs": [],
   "source": [
    "# remove_additional_brackets(sample_context)"
   ]
  },
  {
   "cell_type": "code",
   "execution_count": 88,
   "id": "6bb0d4dd-463d-441c-ae62-761a58023b6e",
   "metadata": {
    "pycharm": {
     "name": "#%%\n"
    }
   },
   "outputs": [],
   "source": [
    "def remove_hanja(texts):\n",
    "    preprocessed_text = []\n",
    "    pattern = re.compile(r'[,.^ ㄱ-ㅣ가-힣]+') #'[^ ㄱ-ㅣ가-힣]+' , '[ㄱ-ㅣ가-힣]'\n",
    "    # result = hangul.sub('', s)\n",
    "    # results = pattern.sub('', string)\n",
    "    for text in texts:\n",
    "        results = pattern.findall(text)\n",
    "        if len(results) > 1:\n",
    "            preprocessed_text.append('not hangeul only')\n",
    "        else:\n",
    "            preprocessed_text.append(text)\n",
    "    return preprocessed_text"
   ]
  },
  {
   "cell_type": "code",
   "execution_count": 40,
   "id": "48ac7836-51b6-459e-9c19-7094e38c5a20",
   "metadata": {
    "pycharm": {
     "name": "#%%\n"
    }
   },
   "outputs": [
    {
     "name": "stdout",
     "output_type": "stream",
     "text": [
      "['그림이나 도형, 사진 등 다양한 시각적 형상이나 작품을 통틀어 이르는 말.']\n"
     ]
    },
    {
     "data": {
      "text/plain": [
       "'그림이나 도형, 사진 등 다양한 시각적 형상이나 작품을 통틀어 이르는 말.'"
      ]
     },
     "execution_count": 40,
     "metadata": {},
     "output_type": "execute_result"
    }
   ],
   "source": [
    "string = '그림이나 도형, 사진 등 다양한 시각적 형상이나 작품을 통틀어 이르는 말.'\n",
    "remove_hanja(string)"
   ]
  },
  {
   "cell_type": "code",
   "execution_count": 89,
   "id": "e5190cf8-d22c-41f2-9210-54102e311e95",
   "metadata": {
    "pycharm": {
     "name": "#%%\n"
    }
   },
   "outputs": [],
   "source": [
    "def run_preprocess(context):\n",
    "\n",
    "    #불필요한 괄호제거\n",
    "    context = remove_useless_breacket(context)\n",
    "    #문장부호제거\n",
    "    context = clean_punc(context)\n",
    "    #연속공백제거\n",
    "    context = remove_repeated_spacing(context)\n",
    "    #연속 띄어쓰기 제거\n",
    "    #context = spacing_sent(context)\n",
    "    #불용어 제거\n",
    "    stop_word_list = ['']\n",
    "    context = remove_stopwords(context, stop_word_list)\n",
    "    #최소최대길이 제한\n",
    "    context = min_max_filter(context)\n",
    "\n",
    "    # [] 제거, 여러개 ( * ) 제거\n",
    "    context = remove_additional_brackets(context)\n",
    "    \n",
    "    # 위에 제거했는데도 한자 있는 애들은 제외 시키기\n",
    "    context = remove_hanja(context)\n",
    "    preprocessed_context = context\n",
    "    return preprocessed_context"
   ]
  },
  {
   "cell_type": "code",
   "execution_count": 43,
   "id": "76c9878a-522f-48d8-82da-aa1a1f7a3b46",
   "metadata": {
    "pycharm": {
     "name": "#%%\n"
    }
   },
   "outputs": [],
   "source": [
    "# https://kynk94.github.io/devlog/post/re-match-hangul\n",
    "# https://jokergt.tistory.com/52\n",
    "import re\n",
    "string = \"한자 부수의 하나. '鼾', '齈' 따위에 쓰인 '鼻'를 이른다.\"\n",
    "pattern = re.compile(r'[^ ㄱ-ㅣ가-힣]+') #'[^ ㄱ-ㅣ가-힣]+' , '[ㄱ-ㅣ가-힣]'\n",
    "# result = hangul.sub('', s)\n",
    "# results = pattern.sub('', string)\n",
    "results = pattern.findall(string)\n",
    "# if len(results) > 1:"
   ]
  },
  {
   "cell_type": "code",
   "execution_count": 154,
   "id": "7297c9c4-bf7a-409f-b530-386ea3ced3f8",
   "metadata": {
    "pycharm": {
     "name": "#%%\n"
    }
   },
   "outputs": [],
   "source": [
    "sample_context = list(train_df['v4'])"
   ]
  },
  {
   "cell_type": "code",
   "execution_count": 158,
   "id": "4e4eb5ee-472b-4058-b8df-689e95836db1",
   "metadata": {
    "pycharm": {
     "name": "#%%\n"
    }
   },
   "outputs": [],
   "source": [
    "pro = run_preprocess(sample_context)\n",
    "train_df.insert(column='v5', value=pro, loc=len(train_df.columns))\n",
    "train_df=train_df[train_df['v5']!='not hangeul only']\n",
    "# for idx, (senta, sentb) in enumerate(zip(sample_context, pro)):\n",
    "#     print(idx, senta, '\\t', sentb)"
   ]
  },
  {
   "cell_type": "code",
   "execution_count": 159,
   "id": "17b756fd-41c4-4fa6-8735-7c10578a8877",
   "metadata": {
    "pycharm": {
     "name": "#%%\n"
    }
   },
   "outputs": [],
   "source": [
    "train_df.to_csv('preprocessed_NNG_v5.csv')\n",
    "# train_df"
   ]
  },
  {
   "cell_type": "code",
   "execution_count": 142,
   "id": "28f347d4-49b6-4948-99de-c2caa01b5bd6",
   "metadata": {
    "pycharm": {
     "name": "#%%\n"
    }
   },
   "outputs": [],
   "source": [
    "train_dir = './preprocessed_VA.csv'\n",
    "train_df = pd.read_csv(train_dir)\n",
    "train_df = train_df.drop(columns=['Unnamed: 0.1', 'Unnamed: 0'])\n",
    "# train_df.head(10)"
   ]
  },
  {
   "cell_type": "code",
   "execution_count": 143,
   "id": "7e8b40a3-d342-4fad-9c3b-f5e1c53865ce",
   "metadata": {
    "pycharm": {
     "name": "#%%\n"
    }
   },
   "outputs": [],
   "source": [
    "sample_context = list(train_df['v4'])\n",
    "pro = run_preprocess(sample_context)\n",
    "train_df.insert(column='v5', value=pro, loc=len(train_df.columns))"
   ]
  },
  {
   "cell_type": "code",
   "execution_count": 144,
   "id": "a589545d-5344-40e0-a350-7bd957d0eb30",
   "metadata": {
    "pycharm": {
     "name": "#%%\n"
    }
   },
   "outputs": [],
   "source": [
    "add_train_dir = './WAI-para_VA_antonyms.csv'\n",
    "add_train_df = pd.read_csv(add_train_dir)\n",
    "VA_ant_df = add_train_df[add_train_df.is_replace==1].drop(columns='Unnamed: 0')"
   ]
  },
  {
   "cell_type": "code",
   "execution_count": 145,
   "id": "bb72a3cc-f1d4-4c9b-86f1-ebe2dde7b25b",
   "metadata": {
    "pycharm": {
     "name": "#%%\n"
    }
   },
   "outputs": [],
   "source": [
    "mapping = {VA_ant_df['VA'].iloc[idx]: VA_ant_df['antonyms'].iloc[idx] for idx in range(len(VA_ant_df))}"
   ]
  },
  {
   "cell_type": "code",
   "execution_count": 146,
   "id": "fd3f98e3-0da4-4357-9209-e93d2e048f91",
   "metadata": {
    "pycharm": {
     "name": "#%%\n"
    }
   },
   "outputs": [],
   "source": [
    "ant = []\n",
    "for _, (word, type_, _, _,_,_, _, _) in train_df.iterrows():\n",
    "    if word in mapping:\n",
    "        ant.append(mapping[word])\n",
    "    else:\n",
    "        ant.append('NaN')"
   ]
  },
  {
   "cell_type": "code",
   "execution_count": 147,
   "id": "044bc9bc-6add-4def-b647-494e003ae81b",
   "metadata": {
    "pycharm": {
     "name": "#%%\n"
    }
   },
   "outputs": [
    {
     "data": {
      "text/html": [
       "<div>\n",
       "<style scoped>\n",
       "    .dataframe tbody tr th:only-of-type {\n",
       "        vertical-align: middle;\n",
       "    }\n",
       "\n",
       "    .dataframe tbody tr th {\n",
       "        vertical-align: top;\n",
       "    }\n",
       "\n",
       "    .dataframe thead th {\n",
       "        text-align: right;\n",
       "    }\n",
       "</style>\n",
       "<table border=\"1\" class=\"dataframe\">\n",
       "  <thead>\n",
       "    <tr style=\"text-align: right;\">\n",
       "      <th></th>\n",
       "      <th>word</th>\n",
       "      <th>type</th>\n",
       "      <th>v1</th>\n",
       "      <th>v2</th>\n",
       "      <th>v3</th>\n",
       "      <th>유의어</th>\n",
       "      <th>v4</th>\n",
       "      <th>v5</th>\n",
       "      <th>반의어</th>\n",
       "    </tr>\n",
       "  </thead>\n",
       "  <tbody>\n",
       "    <tr>\n",
       "      <th>0</th>\n",
       "      <td>즐겁다</td>\n",
       "      <td>VA</td>\n",
       "      <td>마음에 거슬림이 없이 흐뭇하고 기쁘다.[유의어]고소하다1,기쁘다,달다7</td>\n",
       "      <td>마음에 거슬림이 없이 흐뭇하고 기쁘다.[유의어]고소하다1,기쁘다,달다7</td>\n",
       "      <td>마음에 거슬림이 없이 흐뭇하고 기쁘다.</td>\n",
       "      <td>['고소하다', '기쁘다', '달다']</td>\n",
       "      <td>마음에 거슬림이 없이 흐뭇하고 기쁘다.</td>\n",
       "      <td>마음에 거슬림이 없이 흐뭇하고 기쁘다.</td>\n",
       "      <td>지루하다</td>\n",
       "    </tr>\n",
       "    <tr>\n",
       "      <th>1</th>\n",
       "      <td>갓다</td>\n",
       "      <td>VA</td>\n",
       "      <td>Not verb</td>\n",
       "      <td>Not verb</td>\n",
       "      <td>Not verb</td>\n",
       "      <td>NaN</td>\n",
       "      <td>Not verb</td>\n",
       "      <td>Not verb</td>\n",
       "      <td>NaN</td>\n",
       "    </tr>\n",
       "    <tr>\n",
       "      <th>2</th>\n",
       "      <td>벅차다</td>\n",
       "      <td>VA</td>\n",
       "      <td>1.감당하기가 어렵다.2.감격, 기쁨, 희망 따위가 넘칠 듯이 가득하다.3.숨이 견...</td>\n",
       "      <td>감당하기가 어렵다</td>\n",
       "      <td>감당하기가 어렵다</td>\n",
       "      <td>NaN</td>\n",
       "      <td>감당하기가 어렵다</td>\n",
       "      <td>감당하기가 어렵다</td>\n",
       "      <td>NaN</td>\n",
       "    </tr>\n",
       "    <tr>\n",
       "      <th>3</th>\n",
       "      <td>어뜨다</td>\n",
       "      <td>VA</td>\n",
       "      <td>Not verb</td>\n",
       "      <td>Not verb</td>\n",
       "      <td>Not verb</td>\n",
       "      <td>NaN</td>\n",
       "      <td>Not verb</td>\n",
       "      <td>Not verb</td>\n",
       "      <td>NaN</td>\n",
       "    </tr>\n",
       "    <tr>\n",
       "      <th>4</th>\n",
       "      <td>낡다</td>\n",
       "      <td>VA</td>\n",
       "      <td>1.물건 따위가 오래되어 헐고 너절하게 되다.2.생각이나 제도, 문물 따위가 시대에...</td>\n",
       "      <td>물건 따위가 오래되어 헐고 너절하게 되다</td>\n",
       "      <td>물건 따위가 오래되어 헐고 너절하게 되다</td>\n",
       "      <td>NaN</td>\n",
       "      <td>물건 따위가 오래되어 헐고 너절하게 되다</td>\n",
       "      <td>물건 따위가 오래되어 헐고 너절하게 되다</td>\n",
       "      <td>새롭다</td>\n",
       "    </tr>\n",
       "    <tr>\n",
       "      <th>...</th>\n",
       "      <td>...</td>\n",
       "      <td>...</td>\n",
       "      <td>...</td>\n",
       "      <td>...</td>\n",
       "      <td>...</td>\n",
       "      <td>...</td>\n",
       "      <td>...</td>\n",
       "      <td>...</td>\n",
       "      <td>...</td>\n",
       "    </tr>\n",
       "    <tr>\n",
       "      <th>107</th>\n",
       "      <td>읎다</td>\n",
       "      <td>VA</td>\n",
       "      <td>&lt;방언&gt;‘없다’의 방언 (강원, 경북, 전남, 충청)</td>\n",
       "      <td>&lt;방언&gt;‘없다’의 방언 (강원, 경북, 전남, 충청)</td>\n",
       "      <td>&lt;방언&gt;‘없다’의 방언 (강원, 경북, 전남, 충청)</td>\n",
       "      <td>NaN</td>\n",
       "      <td>&lt;방언&gt;‘없다’의 방언 (강원, 경북, 전남, 충청)</td>\n",
       "      <td>not hangeul only</td>\n",
       "      <td>NaN</td>\n",
       "    </tr>\n",
       "    <tr>\n",
       "      <th>108</th>\n",
       "      <td>배고프다</td>\n",
       "      <td>VA</td>\n",
       "      <td>1.배 속이 비어서 음식이 먹고 싶다.2.끼니를 잇지 못할 정도로 생활이 넉넉하지 ...</td>\n",
       "      <td>배 속이 비어서 음식이 먹고 싶다</td>\n",
       "      <td>배 속이 비어서 음식이 먹고 싶다</td>\n",
       "      <td>NaN</td>\n",
       "      <td>배 속이 비어서 음식이 먹고 싶다</td>\n",
       "      <td>배 속이 비어서 음식이 먹고 싶다</td>\n",
       "      <td>배부르다</td>\n",
       "    </tr>\n",
       "    <tr>\n",
       "      <th>109</th>\n",
       "      <td>수많다</td>\n",
       "      <td>VA</td>\n",
       "      <td>수효가 매우 많다.[유의어]다수하다,많다,삼라하다</td>\n",
       "      <td>수효가 매우 많다.[유의어]다수하다,많다,삼라하다</td>\n",
       "      <td>수효가 매우 많다.</td>\n",
       "      <td>['다수하다', '많다', '삼라하다']</td>\n",
       "      <td>수효가 매우 많다.</td>\n",
       "      <td>수효가 매우 많다.</td>\n",
       "      <td>적다</td>\n",
       "    </tr>\n",
       "    <tr>\n",
       "      <th>110</th>\n",
       "      <td>놉다</td>\n",
       "      <td>VA</td>\n",
       "      <td>[방언 ]‘노엽다’의 방언(함북).</td>\n",
       "      <td>‘노엽다’의 방언(함북)</td>\n",
       "      <td>‘노엽다’의 방언(함북)</td>\n",
       "      <td>NaN</td>\n",
       "      <td>‘노엽다’의 방언(함북)</td>\n",
       "      <td>not hangeul only</td>\n",
       "      <td>NaN</td>\n",
       "    </tr>\n",
       "    <tr>\n",
       "      <th>111</th>\n",
       "      <td>달르다</td>\n",
       "      <td>VA</td>\n",
       "      <td>Not verb</td>\n",
       "      <td>Not verb</td>\n",
       "      <td>Not verb</td>\n",
       "      <td>NaN</td>\n",
       "      <td>Not verb</td>\n",
       "      <td>Not verb</td>\n",
       "      <td>NaN</td>\n",
       "    </tr>\n",
       "  </tbody>\n",
       "</table>\n",
       "<p>112 rows × 9 columns</p>\n",
       "</div>"
      ],
      "text/plain": [
       "     word type                                                 v1  \\\n",
       "0     즐겁다   VA            마음에 거슬림이 없이 흐뭇하고 기쁘다.[유의어]고소하다1,기쁘다,달다7   \n",
       "1      갓다   VA                                           Not verb   \n",
       "2     벅차다   VA  1.감당하기가 어렵다.2.감격, 기쁨, 희망 따위가 넘칠 듯이 가득하다.3.숨이 견...   \n",
       "3     어뜨다   VA                                           Not verb   \n",
       "4      낡다   VA  1.물건 따위가 오래되어 헐고 너절하게 되다.2.생각이나 제도, 문물 따위가 시대에...   \n",
       "..    ...  ...                                                ...   \n",
       "107    읎다   VA                      <방언>‘없다’의 방언 (강원, 경북, 전남, 충청)   \n",
       "108  배고프다   VA  1.배 속이 비어서 음식이 먹고 싶다.2.끼니를 잇지 못할 정도로 생활이 넉넉하지 ...   \n",
       "109   수많다   VA                        수효가 매우 많다.[유의어]다수하다,많다,삼라하다   \n",
       "110    놉다   VA                                [방언 ]‘노엽다’의 방언(함북).   \n",
       "111   달르다   VA                                           Not verb   \n",
       "\n",
       "                                          v2                             v3  \\\n",
       "0    마음에 거슬림이 없이 흐뭇하고 기쁘다.[유의어]고소하다1,기쁘다,달다7          마음에 거슬림이 없이 흐뭇하고 기쁘다.   \n",
       "1                                   Not verb                       Not verb   \n",
       "2                                  감당하기가 어렵다                      감당하기가 어렵다   \n",
       "3                                   Not verb                       Not verb   \n",
       "4                     물건 따위가 오래되어 헐고 너절하게 되다         물건 따위가 오래되어 헐고 너절하게 되다   \n",
       "..                                       ...                            ...   \n",
       "107            <방언>‘없다’의 방언 (강원, 경북, 전남, 충청)  <방언>‘없다’의 방언 (강원, 경북, 전남, 충청)   \n",
       "108                       배 속이 비어서 음식이 먹고 싶다             배 속이 비어서 음식이 먹고 싶다   \n",
       "109              수효가 매우 많다.[유의어]다수하다,많다,삼라하다                     수효가 매우 많다.   \n",
       "110                            ‘노엽다’의 방언(함북)                  ‘노엽다’의 방언(함북)   \n",
       "111                                 Not verb                       Not verb   \n",
       "\n",
       "                        유의어                             v4  \\\n",
       "0     ['고소하다', '기쁘다', '달다']          마음에 거슬림이 없이 흐뭇하고 기쁘다.   \n",
       "1                       NaN                       Not verb   \n",
       "2                       NaN                      감당하기가 어렵다   \n",
       "3                       NaN                       Not verb   \n",
       "4                       NaN         물건 따위가 오래되어 헐고 너절하게 되다   \n",
       "..                      ...                            ...   \n",
       "107                     NaN  <방언>‘없다’의 방언 (강원, 경북, 전남, 충청)   \n",
       "108                     NaN             배 속이 비어서 음식이 먹고 싶다   \n",
       "109  ['다수하다', '많다', '삼라하다']                     수효가 매우 많다.   \n",
       "110                     NaN                  ‘노엽다’의 방언(함북)   \n",
       "111                     NaN                       Not verb   \n",
       "\n",
       "                         v5   반의어  \n",
       "0     마음에 거슬림이 없이 흐뭇하고 기쁘다.  지루하다  \n",
       "1                  Not verb   NaN  \n",
       "2                 감당하기가 어렵다   NaN  \n",
       "3                  Not verb   NaN  \n",
       "4    물건 따위가 오래되어 헐고 너절하게 되다   새롭다  \n",
       "..                      ...   ...  \n",
       "107        not hangeul only   NaN  \n",
       "108      배 속이 비어서 음식이 먹고 싶다  배부르다  \n",
       "109              수효가 매우 많다.    적다  \n",
       "110        not hangeul only   NaN  \n",
       "111                Not verb   NaN  \n",
       "\n",
       "[112 rows x 9 columns]"
      ]
     },
     "execution_count": 147,
     "metadata": {},
     "output_type": "execute_result"
    }
   ],
   "source": [
    "train_df.insert(column='반의어', value=ant, loc=len(train_df.columns))\n",
    "train_df"
   ]
  },
  {
   "cell_type": "code",
   "execution_count": 150,
   "id": "ddc5988d-9cee-4785-be88-ad5cd20cff26",
   "metadata": {
    "pycharm": {
     "name": "#%%\n"
    }
   },
   "outputs": [],
   "source": [
    "train_df = train_df[train_df.v5!='Not verb']\n",
    "train_df = train_df[train_df.v5!='not hangeul only']\n",
    "train_df = train_df[train_df.v5!='Start with special character']"
   ]
  },
  {
   "cell_type": "code",
   "execution_count": 151,
   "id": "52882bb7-cc02-4329-9575-f6ac78e73335",
   "metadata": {
    "pycharm": {
     "name": "#%%\n"
    }
   },
   "outputs": [
    {
     "data": {
      "text/html": [
       "<div>\n",
       "<style scoped>\n",
       "    .dataframe tbody tr th:only-of-type {\n",
       "        vertical-align: middle;\n",
       "    }\n",
       "\n",
       "    .dataframe tbody tr th {\n",
       "        vertical-align: top;\n",
       "    }\n",
       "\n",
       "    .dataframe thead th {\n",
       "        text-align: right;\n",
       "    }\n",
       "</style>\n",
       "<table border=\"1\" class=\"dataframe\">\n",
       "  <thead>\n",
       "    <tr style=\"text-align: right;\">\n",
       "      <th></th>\n",
       "      <th>word</th>\n",
       "      <th>type</th>\n",
       "      <th>v1</th>\n",
       "      <th>v2</th>\n",
       "      <th>v3</th>\n",
       "      <th>유의어</th>\n",
       "      <th>v4</th>\n",
       "      <th>v5</th>\n",
       "      <th>반의어</th>\n",
       "    </tr>\n",
       "  </thead>\n",
       "  <tbody>\n",
       "    <tr>\n",
       "      <th>0</th>\n",
       "      <td>즐겁다</td>\n",
       "      <td>VA</td>\n",
       "      <td>마음에 거슬림이 없이 흐뭇하고 기쁘다.[유의어]고소하다1,기쁘다,달다7</td>\n",
       "      <td>마음에 거슬림이 없이 흐뭇하고 기쁘다.[유의어]고소하다1,기쁘다,달다7</td>\n",
       "      <td>마음에 거슬림이 없이 흐뭇하고 기쁘다.</td>\n",
       "      <td>['고소하다', '기쁘다', '달다']</td>\n",
       "      <td>마음에 거슬림이 없이 흐뭇하고 기쁘다.</td>\n",
       "      <td>마음에 거슬림이 없이 흐뭇하고 기쁘다.</td>\n",
       "      <td>지루하다</td>\n",
       "    </tr>\n",
       "    <tr>\n",
       "      <th>2</th>\n",
       "      <td>벅차다</td>\n",
       "      <td>VA</td>\n",
       "      <td>1.감당하기가 어렵다.2.감격, 기쁨, 희망 따위가 넘칠 듯이 가득하다.3.숨이 견...</td>\n",
       "      <td>감당하기가 어렵다</td>\n",
       "      <td>감당하기가 어렵다</td>\n",
       "      <td>NaN</td>\n",
       "      <td>감당하기가 어렵다</td>\n",
       "      <td>감당하기가 어렵다</td>\n",
       "      <td>NaN</td>\n",
       "    </tr>\n",
       "    <tr>\n",
       "      <th>4</th>\n",
       "      <td>낡다</td>\n",
       "      <td>VA</td>\n",
       "      <td>1.물건 따위가 오래되어 헐고 너절하게 되다.2.생각이나 제도, 문물 따위가 시대에...</td>\n",
       "      <td>물건 따위가 오래되어 헐고 너절하게 되다</td>\n",
       "      <td>물건 따위가 오래되어 헐고 너절하게 되다</td>\n",
       "      <td>NaN</td>\n",
       "      <td>물건 따위가 오래되어 헐고 너절하게 되다</td>\n",
       "      <td>물건 따위가 오래되어 헐고 너절하게 되다</td>\n",
       "      <td>새롭다</td>\n",
       "    </tr>\n",
       "    <tr>\n",
       "      <th>5</th>\n",
       "      <td>가쁘다</td>\n",
       "      <td>VA</td>\n",
       "      <td>1.숨이 몹시 차다.2.힘에 겹다.3.몹시 급하거나 빠르다.[유의어]고되다,급하다,...</td>\n",
       "      <td>숨이 몹시 차다</td>\n",
       "      <td>숨이 몹시 차다</td>\n",
       "      <td>NaN</td>\n",
       "      <td>숨이 몹시 차다</td>\n",
       "      <td>숨이 몹시 차다</td>\n",
       "      <td>여유롭다</td>\n",
       "    </tr>\n",
       "    <tr>\n",
       "      <th>6</th>\n",
       "      <td>다름없다</td>\n",
       "      <td>VA</td>\n",
       "      <td>견주어 보아 같거나 비슷하다.[유의어]같다,동일하다,진배없다</td>\n",
       "      <td>견주어 보아 같거나 비슷하다.[유의어]같다,동일하다,진배없다</td>\n",
       "      <td>견주어 보아 같거나 비슷하다.</td>\n",
       "      <td>['같다', '동일하다', '진배없다']</td>\n",
       "      <td>견주어 보아 같거나 비슷하다.</td>\n",
       "      <td>견주어 보아 같거나 비슷하다.</td>\n",
       "      <td>다르다</td>\n",
       "    </tr>\n",
       "    <tr>\n",
       "      <th>...</th>\n",
       "      <td>...</td>\n",
       "      <td>...</td>\n",
       "      <td>...</td>\n",
       "      <td>...</td>\n",
       "      <td>...</td>\n",
       "      <td>...</td>\n",
       "      <td>...</td>\n",
       "      <td>...</td>\n",
       "      <td>...</td>\n",
       "    </tr>\n",
       "    <tr>\n",
       "      <th>103</th>\n",
       "      <td>멋있다</td>\n",
       "      <td>VA</td>\n",
       "      <td>보기에 썩 좋거나 훌륭하다.[유의어]근사하다1,멋거리지다,멋들어지다</td>\n",
       "      <td>보기에 썩 좋거나 훌륭하다.[유의어]근사하다1,멋거리지다,멋들어지다</td>\n",
       "      <td>보기에 썩 좋거나 훌륭하다.</td>\n",
       "      <td>['근사하다', '멋거리지다', '멋들어지다']</td>\n",
       "      <td>보기에 썩 좋거나 훌륭하다.</td>\n",
       "      <td>보기에 썩 좋거나 훌륭하다.</td>\n",
       "      <td>NaN</td>\n",
       "    </tr>\n",
       "    <tr>\n",
       "      <th>105</th>\n",
       "      <td>거칠다</td>\n",
       "      <td>VA</td>\n",
       "      <td>1.나무나 살결 따위가 결이 곱지 않고 험하다.2.피륙의 올이 성기고 굵다.3.일을...</td>\n",
       "      <td>나무나 살결 따위가 결이 곱지 않고 험하다</td>\n",
       "      <td>나무나 살결 따위가 결이 곱지 않고 험하다</td>\n",
       "      <td>NaN</td>\n",
       "      <td>나무나 살결 따위가 결이 곱지 않고 험하다</td>\n",
       "      <td>나무나 살결 따위가 결이 곱지 않고 험하다</td>\n",
       "      <td>부드럽다</td>\n",
       "    </tr>\n",
       "    <tr>\n",
       "      <th>106</th>\n",
       "      <td>게으르다</td>\n",
       "      <td>VA</td>\n",
       "      <td>행동이 느리고 움직이거나 일하기를 싫어하는 성미나 버릇이 있다.[유의어]개르다,개으...</td>\n",
       "      <td>행동이 느리고 움직이거나 일하기를 싫어하는 성미나 버릇이 있다.[유의어]개르다,개으...</td>\n",
       "      <td>행동이 느리고 움직이거나 일하기를 싫어하는 성미나 버릇이 있다.</td>\n",
       "      <td>['개르다', '개으르다', '나만하다']</td>\n",
       "      <td>행동이 느리고 움직이거나 일하기를 싫어하는 성미나 버릇이 있다.</td>\n",
       "      <td>행동이 느리고 움직이거나 일하기를 싫어하는 성미나 버릇이 있다.</td>\n",
       "      <td>성실하다</td>\n",
       "    </tr>\n",
       "    <tr>\n",
       "      <th>108</th>\n",
       "      <td>배고프다</td>\n",
       "      <td>VA</td>\n",
       "      <td>1.배 속이 비어서 음식이 먹고 싶다.2.끼니를 잇지 못할 정도로 생활이 넉넉하지 ...</td>\n",
       "      <td>배 속이 비어서 음식이 먹고 싶다</td>\n",
       "      <td>배 속이 비어서 음식이 먹고 싶다</td>\n",
       "      <td>NaN</td>\n",
       "      <td>배 속이 비어서 음식이 먹고 싶다</td>\n",
       "      <td>배 속이 비어서 음식이 먹고 싶다</td>\n",
       "      <td>배부르다</td>\n",
       "    </tr>\n",
       "    <tr>\n",
       "      <th>109</th>\n",
       "      <td>수많다</td>\n",
       "      <td>VA</td>\n",
       "      <td>수효가 매우 많다.[유의어]다수하다,많다,삼라하다</td>\n",
       "      <td>수효가 매우 많다.[유의어]다수하다,많다,삼라하다</td>\n",
       "      <td>수효가 매우 많다.</td>\n",
       "      <td>['다수하다', '많다', '삼라하다']</td>\n",
       "      <td>수효가 매우 많다.</td>\n",
       "      <td>수효가 매우 많다.</td>\n",
       "      <td>적다</td>\n",
       "    </tr>\n",
       "  </tbody>\n",
       "</table>\n",
       "<p>94 rows × 9 columns</p>\n",
       "</div>"
      ],
      "text/plain": [
       "     word type                                                 v1  \\\n",
       "0     즐겁다   VA            마음에 거슬림이 없이 흐뭇하고 기쁘다.[유의어]고소하다1,기쁘다,달다7   \n",
       "2     벅차다   VA  1.감당하기가 어렵다.2.감격, 기쁨, 희망 따위가 넘칠 듯이 가득하다.3.숨이 견...   \n",
       "4      낡다   VA  1.물건 따위가 오래되어 헐고 너절하게 되다.2.생각이나 제도, 문물 따위가 시대에...   \n",
       "5     가쁘다   VA  1.숨이 몹시 차다.2.힘에 겹다.3.몹시 급하거나 빠르다.[유의어]고되다,급하다,...   \n",
       "6    다름없다   VA                  견주어 보아 같거나 비슷하다.[유의어]같다,동일하다,진배없다   \n",
       "..    ...  ...                                                ...   \n",
       "103   멋있다   VA              보기에 썩 좋거나 훌륭하다.[유의어]근사하다1,멋거리지다,멋들어지다   \n",
       "105   거칠다   VA  1.나무나 살결 따위가 결이 곱지 않고 험하다.2.피륙의 올이 성기고 굵다.3.일을...   \n",
       "106  게으르다   VA  행동이 느리고 움직이거나 일하기를 싫어하는 성미나 버릇이 있다.[유의어]개르다,개으...   \n",
       "108  배고프다   VA  1.배 속이 비어서 음식이 먹고 싶다.2.끼니를 잇지 못할 정도로 생활이 넉넉하지 ...   \n",
       "109   수많다   VA                        수효가 매우 많다.[유의어]다수하다,많다,삼라하다   \n",
       "\n",
       "                                                    v2  \\\n",
       "0              마음에 거슬림이 없이 흐뭇하고 기쁘다.[유의어]고소하다1,기쁘다,달다7   \n",
       "2                                            감당하기가 어렵다   \n",
       "4                               물건 따위가 오래되어 헐고 너절하게 되다   \n",
       "5                                             숨이 몹시 차다   \n",
       "6                    견주어 보아 같거나 비슷하다.[유의어]같다,동일하다,진배없다   \n",
       "..                                                 ...   \n",
       "103              보기에 썩 좋거나 훌륭하다.[유의어]근사하다1,멋거리지다,멋들어지다   \n",
       "105                            나무나 살결 따위가 결이 곱지 않고 험하다   \n",
       "106  행동이 느리고 움직이거나 일하기를 싫어하는 성미나 버릇이 있다.[유의어]개르다,개으...   \n",
       "108                                 배 속이 비어서 음식이 먹고 싶다   \n",
       "109                        수효가 매우 많다.[유의어]다수하다,많다,삼라하다   \n",
       "\n",
       "                                      v3                         유의어  \\\n",
       "0                  마음에 거슬림이 없이 흐뭇하고 기쁘다.       ['고소하다', '기쁘다', '달다']   \n",
       "2                              감당하기가 어렵다                         NaN   \n",
       "4                 물건 따위가 오래되어 헐고 너절하게 되다                         NaN   \n",
       "5                               숨이 몹시 차다                         NaN   \n",
       "6                       견주어 보아 같거나 비슷하다.      ['같다', '동일하다', '진배없다']   \n",
       "..                                   ...                         ...   \n",
       "103                      보기에 썩 좋거나 훌륭하다.  ['근사하다', '멋거리지다', '멋들어지다']   \n",
       "105              나무나 살결 따위가 결이 곱지 않고 험하다                         NaN   \n",
       "106  행동이 느리고 움직이거나 일하기를 싫어하는 성미나 버릇이 있다.     ['개르다', '개으르다', '나만하다']   \n",
       "108                   배 속이 비어서 음식이 먹고 싶다                         NaN   \n",
       "109                           수효가 매우 많다.      ['다수하다', '많다', '삼라하다']   \n",
       "\n",
       "                                      v4                                   v5  \\\n",
       "0                  마음에 거슬림이 없이 흐뭇하고 기쁘다.                마음에 거슬림이 없이 흐뭇하고 기쁘다.   \n",
       "2                              감당하기가 어렵다                            감당하기가 어렵다   \n",
       "4                 물건 따위가 오래되어 헐고 너절하게 되다               물건 따위가 오래되어 헐고 너절하게 되다   \n",
       "5                               숨이 몹시 차다                             숨이 몹시 차다   \n",
       "6                       견주어 보아 같거나 비슷하다.                     견주어 보아 같거나 비슷하다.   \n",
       "..                                   ...                                  ...   \n",
       "103                      보기에 썩 좋거나 훌륭하다.                      보기에 썩 좋거나 훌륭하다.   \n",
       "105              나무나 살결 따위가 결이 곱지 않고 험하다              나무나 살결 따위가 결이 곱지 않고 험하다   \n",
       "106  행동이 느리고 움직이거나 일하기를 싫어하는 성미나 버릇이 있다.  행동이 느리고 움직이거나 일하기를 싫어하는 성미나 버릇이 있다.   \n",
       "108                   배 속이 비어서 음식이 먹고 싶다                   배 속이 비어서 음식이 먹고 싶다   \n",
       "109                           수효가 매우 많다.                           수효가 매우 많다.   \n",
       "\n",
       "      반의어  \n",
       "0    지루하다  \n",
       "2     NaN  \n",
       "4     새롭다  \n",
       "5    여유롭다  \n",
       "6     다르다  \n",
       "..    ...  \n",
       "103   NaN  \n",
       "105  부드럽다  \n",
       "106  성실하다  \n",
       "108  배부르다  \n",
       "109    적다  \n",
       "\n",
       "[94 rows x 9 columns]"
      ]
     },
     "execution_count": 151,
     "metadata": {},
     "output_type": "execute_result"
    }
   ],
   "source": [
    "train_df"
   ]
  },
  {
   "cell_type": "code",
   "execution_count": 152,
   "id": "b17b8eac-65cb-4b40-80e0-e6df5029d3b6",
   "metadata": {
    "pycharm": {
     "name": "#%%\n"
    }
   },
   "outputs": [],
   "source": [
    "train_df.to_csv('preprocessed_VA_v5.csv')"
   ]
  },
  {
   "cell_type": "code",
   "execution_count": null,
   "id": "c120c484-581e-4e95-9019-27e29588fe74",
   "metadata": {
    "pycharm": {
     "name": "#%%\n"
    }
   },
   "outputs": [],
   "source": []
  }
 ],
 "metadata": {
  "kernelspec": {
   "display_name": "Python 3 (ipykernel)",
   "language": "python",
   "name": "python3"
  },
  "language_info": {
   "codemirror_mode": {
    "name": "ipython",
    "version": 3
   },
   "file_extension": ".py",
   "mimetype": "text/x-python",
   "name": "python",
   "nbconvert_exporter": "python",
   "pygments_lexer": "ipython3",
   "version": "3.8.5"
  }
 },
 "nbformat": 4,
 "nbformat_minor": 5
}