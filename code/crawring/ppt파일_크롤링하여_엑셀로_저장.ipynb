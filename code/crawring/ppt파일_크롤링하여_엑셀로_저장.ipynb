{
  "nbformat": 4,
  "nbformat_minor": 0,
  "metadata": {
    "colab": {
      "name": "ppt파일 크롤링하여  엑셀로 저장.ipynb",
      "private_outputs": true,
      "provenance": []
    },
    "kernelspec": {
      "name": "python3",
      "display_name": "Python 3"
    },
    "language_info": {
      "name": "python"
    }
  },
  "cells": [
    {
      "cell_type": "code",
      "source": [
        "pip install openpyxl"
      ],
      "metadata": {
        "id": "8n5aV6NpwtNY"
      },
      "execution_count": null,
      "outputs": []
    },
    {
      "cell_type": "code",
      "source": [
        "pip install python-pptx"
      ],
      "metadata": {
        "id": "-aMSwmALr1Io"
      },
      "execution_count": null,
      "outputs": []
    },
    {
      "cell_type": "code",
      "source": [
        "from pptx import Presentation\n",
        "prs = Presentation(\"/content/files/Build-Up Daily Test 1강(3).pptx\")\n",
        "result = []\n",
        "for slide in prs.slides:\n",
        "    for shape in slide.shapes:\n",
        "        if not shape.has_text_frame:\n",
        "            continue\n",
        "        for paragraph in shape.text_frame.paragraphs:\n",
        "            result.append(paragraph.text)\n",
        "print(result)"
      ],
      "metadata": {
        "id": "Mh6o5uw5rvss"
      },
      "execution_count": null,
      "outputs": []
    },
    {
      "cell_type": "code",
      "source": [
        "# 수집한 텍스트 리스트를 엑셀에서 행 단위로 저장하기\n",
        "from openpyxl import Workbook\n",
        "wb = Workbook()\n",
        "ws = wb.active\n",
        "for i in results:\n",
        "    ws.append(i)\n",
        "wb.save(\"word3.xlsx\")"
      ],
      "metadata": {
        "id": "-0X79dwhrwOj"
      },
      "execution_count": null,
      "outputs": []
    },
    {
      "cell_type": "code",
      "source": [],
      "metadata": {
        "id": "MT5doJizrwRK"
      },
      "execution_count": null,
      "outputs": []
    },
    {
      "cell_type": "code",
      "source": [
        "\n"
      ],
      "metadata": {
        "id": "K6swlgyVlBbU"
      },
      "execution_count": null,
      "outputs": []
    },
    {
      "cell_type": "code",
      "source": [],
      "metadata": {
        "id": "HYa16q-rsDr-"
      },
      "execution_count": null,
      "outputs": []
    },
    {
      "cell_type": "code",
      "source": [],
      "metadata": {
        "id": "DQNEraKvl81H"
      },
      "execution_count": null,
      "outputs": []
    },
    {
      "cell_type": "code",
      "source": [],
      "metadata": {
        "id": "pkq2lYB-mCzL"
      },
      "execution_count": null,
      "outputs": []
    }
  ]
}