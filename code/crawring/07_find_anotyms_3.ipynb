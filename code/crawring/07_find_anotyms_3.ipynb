{
  "nbformat": 4,
  "nbformat_minor": 0,
  "metadata": {
    "colab": {
      "private_outputs": true,
      "provenance": [],
      "collapsed_sections": []
    },
    "kernelspec": {
      "name": "python3",
      "display_name": "Python 3"
    },
    "language_info": {
      "name": "python"
    }
  },
  "cells": [
    {
      "cell_type": "code",
      "source": [
        "# # 파일을 원하는 만큼 분할(쪼개기)\n",
        "# f = open(\"/content/WAI-para_VB-1.csv\", 'r')\n",
        "# lines = f.readlines()\n",
        "# f.close()\n",
        " \n",
        "# cnt = 1\n",
        "# fileName_Num = 1\n",
        " \n",
        " \n",
        "# for line in lines:\n",
        "#     fileName = \"WAI-para_VB\" + '_' +str(fileName_Num) + \".csv\"\n",
        " \n",
        "#     fw = open(fileName, \"a\")\n",
        "#     fw.write(line)\n",
        "#     fw.close()\n",
        " \n",
        "#     # 목록을 5개씩 분할함\n",
        "#     if cnt == 10:\n",
        "#         fileName_Num = fileName_Num + 1\n",
        "#         cnt = 0\n",
        "    \n",
        "#     cnt = cnt + 1\n",
        " "
      ],
      "metadata": {
        "id": "iUwZeCRdBnNH",
        "pycharm": {
          "name": "#%%\n"
        }
      },
      "execution_count": null,
      "outputs": []
    },
    {
      "cell_type": "code",
      "source": [
        "!pip install git+https://github.com/haven-jeon/PyKoSpacing.git\n",
        "!pip install git+https://github.com/ssut/py-hanspell.git\n",
        "!pip install konlpy\n",
        "!pip install hangul_utils\n",
        "!pip install git+https://github.com/boostcampaitech3/final-project-level3-nlp-03/eng_to_kor.git"
      ],
      "metadata": {
        "id": "_IU69auEAUK6",
        "pycharm": {
          "name": "#%%\n"
        }
      },
      "execution_count": null,
      "outputs": []
    },
    {
      "cell_type": "code",
      "execution_count": null,
      "metadata": {
        "id": "l7uINCKQVIYd",
        "pycharm": {
          "name": "#%%\n"
        }
      },
      "outputs": [],
      "source": [
        "import requests\n",
        "import json\n",
        "import csv\n",
        "import urllib.request\n",
        "import pandas as pd\n",
        "\n",
        "from tqdm import tqdm\n",
        "from bs4 import BeautifulSoup\n",
        "from hanspell import spell_checker\n",
        "from konlpy.tag import Okt\n",
        "from hangul_utils import join_jamos, split_syllables\n",
        "\n",
        "# from eng_to_kor import eng_to_kor_func"
      ]
    },
    {
      "cell_type": "code",
      "source": [
        "# def lang_check(word):\n",
        "#     lang_client_id = \"wrlba8fyci\"\n",
        "#     lang_client_secret = \"2xAa0k7jK87UoaVgNLfgB0DaXuebyrCbxRzAst1Y\"\n",
        "#     # id, password 대신 파파고 언어감지 api를 발급받으면 제공되는 client id와 secret key를 대신 입력해주세요.\n",
        "#     # https://developers.naver.com/docs/papago/papago-detectlangs-overview.md 에서 자세한 내용을 확인할 수 있습니다.\n",
        "\n",
        "#     data = f\"query={word}\"\n",
        "#     url = \"https://openapi.naver.com/v1/papago/detectLangs\"\n",
        "#     request = urllib.request.Request(url)\n",
        "#     request.add_header(\"X-NCP-APIGW-API-KEY-ID\", lang_client_id)\n",
        "#     request.add_header(\"X-NCP-APIGW-API-KEY\", lang_client_secret)\n",
        "#     response = urllib.request.urlopen(request, data=data.encode(\"utf-8\"))\n",
        "#     rescode = response.getcode()\n",
        "#     if rescode == 200:\n",
        "#         response_body = response.read()\n",
        "#         source = json.loads(response_body.decode(\"utf-8\"))[\"langCode\"]\n",
        "#         return source\n",
        "#     else:\n",
        "#         print(\"Error Code:\" + rescode)\n"
      ],
      "metadata": {
        "id": "6NSgu4AmVMAr",
        "pycharm": {
          "name": "#%%\n"
        }
      },
      "execution_count": null,
      "outputs": []
    },
    {
      "cell_type": "code",
      "source": [
        "# def sentence_to_word(word):\n",
        "#     word = word.replace(\".\", \"\").replace(\"It's \", \"\")\n",
        "#     word = word.replace(\"be \", \"\").replace(\"I \", \"\").replace(\"get \", \"\")\n",
        "#     return word"
      ],
      "metadata": {
        "id": "CuRcc7mRVOna",
        "pycharm": {
          "name": "#%%\n"
        }
      },
      "execution_count": null,
      "outputs": []
    },
    {
      "cell_type": "code",
      "source": [
        "\n",
        "# def translate(word):\n",
        "#     papago_translate_client_id = \"wrlba8fyci\"\n",
        "#     papago_translate_client_secret = \"2xAa0k7jK87UoaVgNLfgB0DaXuebyrCbxRzAst1Y\"\n",
        "#     # id, password 대신 파파고 NMT api를 발급받으면 제공되는 client id와 secret key를 대신 입력해주세요.\n",
        "#     # https://developers.naver.com/docs/papago/papago-nmt-overview.md 에서 자세한 내용을 확인할 수 있습니다.\n",
        "\n",
        "#     source = lang_check(word)\n",
        "#     if source == \"en\":\n",
        "#         target = \"ko\"\n",
        "#     else:\n",
        "#         source = \"ko\"\n",
        "#         target = \"en\"\n",
        "#     url = f\"https://naveropenapi.apigw.ntruss.com/nmt/v1/translation\"\n",
        "#     data = f\"source={source}&target={target}&text={word}\"\n",
        "\n",
        "#     request = urllib.request.Request(url)\n",
        "#     request.add_header(\"X-NCP-APIGW-API-KEY-ID\", papago_translate_client_id)\n",
        "#     request.add_header(\"X-NCP-APIGW-API-KEY\", papago_translate_client_secret)\n",
        "#     response = urllib.request.urlopen(request, data=data.encode(\"utf-8\"))\n",
        "#     rescode = response.getcode()\n",
        "#     if rescode == 200:\n",
        "#         response_body = response.read()\n",
        "#         result = json.loads(response_body.decode(\"utf-8\"))[\"message\"][\"result\"]\n",
        "#         translated_word = result[\"translatedText\"]\n",
        "#         # if source == \"en\":\n",
        "#         #     translated_word = sentence_to_word(translated_word)\n",
        "#         return translated_word\n",
        "#     else:\n",
        "#         print(\"Error Code:\" + rescode)\n",
        "\n",
        "#     translated_word.to_csv(f\"./translated_{csv_type}.csv\")"
      ],
      "metadata": {
        "id": "p_Hs2VRSVSng",
        "pycharm": {
          "name": "#%%\n"
        }
      },
      "execution_count": null,
      "outputs": []
    },
    {
      "cell_type": "code",
      "source": [
        "def find_antonyms(word):\n",
        "    url = f\"https://www.thesaurus.com/browse/{word}\"\n",
        "\n",
        "    response = requests.get(url)\n",
        "    if response.status_code == 200:\n",
        "        html = response.text\n",
        "        soup = BeautifulSoup(html, \"html.parser\")\n",
        "        n_of_word = 2\n",
        "        words = []\n",
        "        for i in range(1, n_of_word + 1):\n",
        "            word = soup.select(\n",
        "                f\"#antonyms > div.css-ixatld.e15rdun50 > ul > li:nth-of-type({i}) > a\"    #nth 뒷부분 바꿔줬음\n",
        "            )\n",
        "            if str(word) == \"[]\":\n",
        "                pass\n",
        "            else:\n",
        "                word = str(word).split(\"<!-- -->\")\n",
        "                word = word[0].split('\">')[1]\n",
        "            words.append(word)\n",
        "        return words\n",
        "    else:\n",
        "        words = []\n",
        "        return words\n",
        "    words.to_csv(f\"./antonyms_{csv_type}.csv\")"
      ],
      "metadata": {
        "id": "3buIg183VVb3",
        "pycharm": {
          "name": "#%%\n"
        }
      },
      "execution_count": null,
      "outputs": []
    },
    {
      "cell_type": "code",
      "source": [
        "# No!!!!!이건 한국어 맞춤법 검사기였잖아!!!!!\n",
        "\n",
        "# def spell_correct(word):\n",
        "#     okt = Okt()\n",
        "#     text = word\n",
        "#     if \"우다\" in word:\n",
        "#         text = word[:-2] + \"ㅂ다\"\n",
        "#         text = split_syllables(text)\n",
        "#         text = join_jamos(text)\n",
        "#     hanspell_result = spell_checker.check(text)\n",
        "#     text = hanspell_result.checked\n",
        "#     return text.replace(\" \", \"\")"
      ],
      "metadata": {
        "id": "X7kueVFjVYOo",
        "pycharm": {
          "name": "#%%\n"
        }
      },
      "execution_count": null,
      "outputs": []
    },
    {
      "cell_type": "code",
      "source": [
        "def make_dataframe(csv_type, is_da):\n",
        "    df_name = f\"WAI-{csv_type}-origin\"\n",
        "    csv_name = f\"WAI-para_{csv_type}.csv\"\n",
        "\n",
        "    word_df = pd.DataFrame(\n",
        "        columns=(\"original\", \"antonyms\")\n",
        "    )\n",
        "    word_list = pd.read_csv(csv_name)\n",
        "    for word in tqdm(word_list[csv_type]):\n",
        "        # word = spell_correct(word)\n",
        "        origin = word\n",
        "        if not is_da:\n",
        "            origin = word[:-1]\n",
        "        # translated_original = translate(origin)\n",
        "        translated_antonyms = find_antonyms(word)\n",
        "        antonyms = []\n",
        "\n",
        "        for word in translated_antonyms:\n",
        "            if word:\n",
        "                antonyms.append(word)\n",
        "                # antonyms.append(eng_to_kor_func(word))\n",
        "            else:\n",
        "                antonyms.append(\"\")\n",
        "        new_data = {\n",
        "            \"original\": origin,\n",
        "            \"antonyms\": antonyms,\n",
        "        }\n",
        "        new_df = pd.DataFrame(new_data)\n",
        "        word_df = pd.concat([word_df, new_df])\n",
        "    word_df.to_csv(f\"./{df_name}.csv\")"
      ],
      "metadata": {
        "id": "brEFUlNMVahK",
        "pycharm": {
          "name": "#%%\n"
        }
      },
      "execution_count": null,
      "outputs": []
    },
    {
      "cell_type": "code",
      "source": [
        "def main():\n",
        "    #데이터셋이 동일한 폴더 안에 있어야 하는 코드로, 경로가 바뀐다면 조정이 필요합니다.\n",
        "    origin = make_dataframe(\"VB\", 1)"
      ],
      "metadata": {
        "id": "Z7BjDUtkVd33",
        "pycharm": {
          "name": "#%%\n"
        }
      },
      "execution_count": null,
      "outputs": []
    },
    {
      "cell_type": "code",
      "source": [
        "if __name__ == \"__main__\":\n",
        "    main()\n"
      ],
      "metadata": {
        "id": "Ex1FMWyTVhZT",
        "pycharm": {
          "name": "#%%\n"
        }
      },
      "execution_count": null,
      "outputs": []
    },
    {
      "cell_type": "code",
      "source": [
        "# # 실행한 파일 목록 제거\n",
        "\n",
        "# import os\n",
        "\n",
        "\n",
        "# for i in range(1,170):\n",
        "#   file_path = f\"/content/WAI-para_VB_{i}.csv\"\n",
        "\n",
        "#   if os.path.exists(file_path):\n",
        "#     os.remove(file_path)"
      ],
      "metadata": {
        "id": "rHJRhPnDVjeg",
        "pycharm": {
          "name": "#%%\n"
        }
      },
      "execution_count": null,
      "outputs": []
    },
    {
      "cell_type": "code",
      "source": [],
      "metadata": {
        "id": "zSqtdoX8ZWkZ",
        "pycharm": {
          "name": "#%%\n"
        }
      },
      "execution_count": null,
      "outputs": []
    }
  ]
}