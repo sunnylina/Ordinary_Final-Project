{
 "nbformat": 4,
 "nbformat_minor": 0,
 "metadata": {
  "colab": {
   "name": "05_example_lemmatization_1.ipynb",
   "private_outputs": true,
   "provenance": []
  },
  "kernelspec": {
   "name": "python3",
   "display_name": "Python 3"
  },
  "language_info": {
   "name": "python"
  }
 },
 "cells": [
  {
   "cell_type": "code",
   "execution_count": null,
   "metadata": {
    "id": "QOzj8GMJUIrl",
    "pycharm": {
     "name": "#%%\n"
    }
   },
   "outputs": [],
   "source": [
    "# from konlpy.tag import Twitter\n",
    "from konlpy.tag import Okt\n",
    "from konlpy.tag import Kkma\n",
    "from hanspell import spell_checker\n",
    "# from pykospacing import Spacing"
   ]
  },
  {
   "cell_type": "code",
   "source": [
    "def lemmatization(text):\n",
    "    okt = Okt()\n",
    "    kkma = Kkma()\n",
    "    hanspell_result = spell_checker.check(text)\n",
    "    text = hanspell_result.checked\n",
    "    \n",
    "    print(text)\n",
    "    print(okt.morphs(text))\n",
    "    print(kkma.morphs(text))\n",
    "\n",
    "    # spacing = Spacing()\n",
    "    # kospacing_text = spacing(text) "
   ],
   "metadata": {
    "id": "m2Dr56ybUON4",
    "pycharm": {
     "name": "#%%\n"
    }
   },
   "execution_count": null,
   "outputs": []
  },
  {
   "cell_type": "code",
   "source": [
    "def main():\n",
    "    text1 = \"날아왔습니다 날아왔어요 날아왓음 날아옴\"\n",
    "    text2 = \"TV,냉장고등에게 전류가모두가고있기때문\" #q1 40번 answer\n",
    "    # lemmatization(text1)\n",
    "    lemmatization(text2)\n",
    "    lemmatization(text3)"
   ],
   "metadata": {
    "id": "C-O9JVTUUXJW",
    "pycharm": {
     "name": "#%%\n"
    }
   },
   "execution_count": null,
   "outputs": []
  },
  {
   "cell_type": "code",
   "source": [
    "if __name__ == \"__main__\":\n",
    "    main()"
   ],
   "metadata": {
    "id": "vErEiVuUUZd7",
    "pycharm": {
     "name": "#%%\n"
    }
   },
   "execution_count": null,
   "outputs": []
  }
 ]
}